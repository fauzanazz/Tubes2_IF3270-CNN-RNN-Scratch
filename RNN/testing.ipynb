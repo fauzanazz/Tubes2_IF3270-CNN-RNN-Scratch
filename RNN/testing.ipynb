{
 "cells": [
  {
   "cell_type": "code",
   "execution_count": null,
   "id": "fc9e9b60",
   "metadata": {},
   "outputs": [],
   "source": [
    "import pandas as pd\n",
    "import tensorflow as tf\n",
    "from tensorflow import keras"
   ]
  },
  {
   "cell_type": "code",
   "execution_count": null,
   "id": "9f2dc701",
   "metadata": {},
   "outputs": [],
   "source": [
    "\n",
    "import random\n",
    "import numpy as np\n",
    "\n",
    "# Set seeds for reproducibility\n",
    "seed_value = 42\n",
    "random.seed(seed_value)\n",
    "np.random.seed(seed_value)\n",
    "tf.random.set_seed(seed_value)\n",
    "\n",
    "\n",
    "tf.config.experimental.enable_op_determinism()\n",
    "%load_ext autoreload\n",
    "%autoreload 2"
   ]
  },
  {
   "cell_type": "code",
   "execution_count": null,
   "id": "57a8df1e",
   "metadata": {},
   "outputs": [],
   "source": [
    "train_data = pd.read_csv('data/train.csv')\n",
    "valid_data = pd.read_csv('data/valid.csv')\n",
    "test_data = pd.read_csv('data/test.csv')"
   ]
  },
  {
   "cell_type": "code",
   "execution_count": null,
   "id": "5955b4e8",
   "metadata": {},
   "outputs": [],
   "source": [
    "# Map string labels ke integers\n",
    "label_map = {'negative': 0, 'neutral': 1, 'positive': 2}\n",
    "train_data['label'] = train_data['label'].map(label_map)\n",
    "valid_data['label'] = valid_data['label'].map(label_map)\n",
    "test_data['label']  = test_data['label'].map(label_map)\n",
    "\n",
    "train_data = train_data.dropna()\n",
    "valid_data = valid_data.dropna()\n",
    "test_data  = test_data.dropna()\n"
   ]
  },
  {
   "cell_type": "code",
   "execution_count": null,
   "id": "5a9aed21",
   "metadata": {},
   "outputs": [],
   "source": [
    "# Ambil teks dan label\n",
    "train_texts, train_labels = train_data['text'], train_data['label']\n",
    "valid_texts, valid_labels = valid_data['text'], valid_data['label']\n",
    "test_texts,  test_labels  = test_data['text'],  test_data['label']"
   ]
  },
  {
   "cell_type": "code",
   "execution_count": null,
   "id": "9f3dc4d0",
   "metadata": {},
   "outputs": [],
   "source": [
    "from tensorflow.keras.layers import TextVectorization\n",
    "\n",
    "# Buat vectorizer berdasarkan training saja\n",
    "vectorizer = TextVectorization(max_tokens=20000, output_mode=\"int\", output_sequence_length=100)\n",
    "vectorizer.adapt(train_texts)"
   ]
  },
  {
   "cell_type": "code",
   "execution_count": null,
   "id": "66fe8f78",
   "metadata": {},
   "outputs": [],
   "source": [
    "batch_size = 32\n",
    "train_ds = tf.data.Dataset.from_tensor_slices((train_texts, train_labels)).batch(batch_size).prefetch(tf.data.AUTOTUNE)\n",
    "valid_ds = tf.data.Dataset.from_tensor_slices((valid_texts, valid_labels)).batch(batch_size).prefetch(tf.data.AUTOTUNE)\n",
    "test_ds  = tf.data.Dataset.from_tensor_slices((test_texts,  test_labels)).batch(batch_size).prefetch(tf.data.AUTOTUNE)"
   ]
  },
  {
   "cell_type": "markdown",
   "id": "03462fe1",
   "metadata": {},
   "source": [
    "## Pengaruh jumlah Layer RNN"
   ]
  },
  {
   "cell_type": "code",
   "execution_count": null,
   "id": "04d5e856",
   "metadata": {},
   "outputs": [],
   "source": []
  }
 ],
 "metadata": {
  "language_info": {
   "name": "python"
  }
 },
 "nbformat": 4,
 "nbformat_minor": 5
}
