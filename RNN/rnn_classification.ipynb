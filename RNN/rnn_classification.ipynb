{
 "cells": [
  {
   "cell_type": "code",
   "execution_count": 323,
   "id": "0379d775",
   "metadata": {},
   "outputs": [],
   "source": [
    "import pandas as pd\n",
    "import tensorflow as tf\n",
    "from tensorflow import keras"
   ]
  },
  {
   "cell_type": "code",
   "execution_count": 324,
   "id": "152ccb39",
   "metadata": {},
   "outputs": [
    {
     "name": "stdout",
     "output_type": "stream",
     "text": [
      "The autoreload extension is already loaded. To reload it, use:\n",
      "  %reload_ext autoreload\n"
     ]
    }
   ],
   "source": [
    "\n",
    "import random\n",
    "import numpy as np\n",
    "\n",
    "# Set seeds for reproducibility\n",
    "seed_value = 42\n",
    "random.seed(seed_value)\n",
    "np.random.seed(seed_value)\n",
    "tf.random.set_seed(seed_value)\n",
    "\n",
    "# For even more determinism (may slow down training)\n",
    "tf.config.experimental.enable_op_determinism()\n",
    "%load_ext autoreload\n",
    "%autoreload 2"
   ]
  },
  {
   "cell_type": "code",
   "execution_count": 325,
   "id": "421c5ca9",
   "metadata": {},
   "outputs": [],
   "source": [
    "train_data = pd.read_csv('data/train.csv')\n",
    "valid_data = pd.read_csv('data/valid.csv')\n",
    "test_data = pd.read_csv('data/test.csv')"
   ]
  },
  {
   "cell_type": "code",
   "execution_count": 326,
   "id": "c200f6ba",
   "metadata": {},
   "outputs": [],
   "source": [
    "# 2. Map string labels to integers (right after loading)\n",
    "label_map = {'negative': 0, 'neutral': 1, 'positive': 2}\n",
    "train_data['label'] = train_data['label'].map(label_map)\n",
    "valid_data['label'] = valid_data['label'].map(label_map)\n",
    "test_data['label']  = test_data['label'].map(label_map)\n",
    "\n",
    "# (Optional but recommended) drop rows with unmapped or NaN labels\n",
    "train_data = train_data.dropna()\n",
    "valid_data = valid_data.dropna()\n",
    "test_data  = test_data.dropna()\n"
   ]
  },
  {
   "cell_type": "code",
   "execution_count": 327,
   "id": "931eb21f",
   "metadata": {},
   "outputs": [],
   "source": [
    "# Ambil teks dan label\n",
    "train_texts, train_labels = train_data['text'], train_data['label']\n",
    "valid_texts, valid_labels = valid_data['text'], valid_data['label']\n",
    "test_texts,  test_labels  = test_data['text'],  test_data['label']"
   ]
  },
  {
   "cell_type": "code",
   "execution_count": 328,
   "id": "d7991468",
   "metadata": {},
   "outputs": [],
   "source": [
    "from tensorflow.keras.layers import TextVectorization\n",
    "\n",
    "# Buat vectorizer berdasarkan training saja\n",
    "vectorizer = TextVectorization(max_tokens=20000, output_mode=\"int\", output_sequence_length=100)\n",
    "vectorizer.adapt(train_texts)"
   ]
  },
  {
   "cell_type": "code",
   "execution_count": 329,
   "id": "ad81a55a",
   "metadata": {},
   "outputs": [],
   "source": [
    "# Siapkan dataset TensorFlow\n",
    "batch_size = 32\n",
    "train_ds = tf.data.Dataset.from_tensor_slices((train_texts, train_labels)).batch(batch_size).prefetch(tf.data.AUTOTUNE)\n",
    "valid_ds = tf.data.Dataset.from_tensor_slices((valid_texts, valid_labels)).batch(batch_size).prefetch(tf.data.AUTOTUNE)\n",
    "test_ds  = tf.data.Dataset.from_tensor_slices((test_texts,  test_labels)).batch(batch_size).prefetch(tf.data.AUTOTUNE)"
   ]
  },
  {
   "cell_type": "code",
   "execution_count": 330,
   "id": "d67455dd",
   "metadata": {},
   "outputs": [
    {
     "name": "stdout",
     "output_type": "stream",
     "text": [
      "Sample text: Nikmati cicilan 0% hingga 12 bulan untuk pemesanan tiket pesawat air asia dengan kartu kredit bni!\n",
      "Sample label: 1 Type: <class 'numpy.int64'>\n",
      "\n",
      "First batch of train_ds:\n",
      "Text shape: (32,)\n",
      "Label shape: (32,)\n",
      "Label values: [1 2 1 2 2 1 1 0 0 2 2 0 0 2 2 2 1 1 1 0 1 2 2 0 1 0 0 0 0 2 2 1]\n"
     ]
    }
   ],
   "source": [
    "# Add this before training to check data types\n",
    "print(\"Sample text:\", train_texts.iloc[0])\n",
    "print(\"Sample label:\", train_labels.iloc[0], \"Type:\", type(train_labels.iloc[0]))\n",
    "\n",
    "# Check the shape and first few elements of each dataset\n",
    "print(\"\\nFirst batch of train_ds:\")\n",
    "for text_batch, label_batch in train_ds.take(1):\n",
    "    print(\"Text shape:\", text_batch.shape)\n",
    "    print(\"Label shape:\", label_batch.shape)\n",
    "    print(\"Label values:\", label_batch.numpy())"
   ]
  },
  {
   "cell_type": "code",
   "execution_count": 331,
   "id": "897735ee",
   "metadata": {},
   "outputs": [],
   "source": [
    "# Import required modules\n",
    "import pandas as pd\n",
    "import tensorflow as tf\n",
    "from tensorflow import keras\n",
    "from tensorflow.keras.models import Sequential\n",
    "from tensorflow.keras.layers import TextVectorization, Embedding, SimpleRNN, Bidirectional, Dropout, Dense, Input\n",
    "\n",
    "\n",
    "model = Sequential([\n",
    "    Input(shape=(1,), dtype=tf.string),\n",
    "    vectorizer,\n",
    "    Embedding(input_dim=20000, output_dim=128, mask_zero=True),\n",
    "    Bidirectional(SimpleRNN(64)),\n",
    "    Dropout(0.5),\n",
    "    Dense(3, activation=\"softmax\")\n",
    "])"
   ]
  },
  {
   "cell_type": "code",
   "execution_count": 332,
   "id": "e773ae21",
   "metadata": {},
   "outputs": [
    {
     "data": {
      "text/html": [
       "<pre style=\"white-space:pre;overflow-x:auto;line-height:normal;font-family:Menlo,'DejaVu Sans Mono',consolas,'Courier New',monospace\"><span style=\"font-weight: bold\">Model: \"sequential_18\"</span>\n",
       "</pre>\n"
      ],
      "text/plain": [
       "\u001b[1mModel: \"sequential_18\"\u001b[0m\n"
      ]
     },
     "metadata": {},
     "output_type": "display_data"
    },
    {
     "data": {
      "text/html": [
       "<pre style=\"white-space:pre;overflow-x:auto;line-height:normal;font-family:Menlo,'DejaVu Sans Mono',consolas,'Courier New',monospace\">┏━━━━━━━━━━━━━━━━━━━━━━━━━━━━━━━━━┳━━━━━━━━━━━━━━━━━━━━━━━━┳━━━━━━━━━━━━━━━┓\n",
       "┃<span style=\"font-weight: bold\"> Layer (type)                    </span>┃<span style=\"font-weight: bold\"> Output Shape           </span>┃<span style=\"font-weight: bold\">       Param # </span>┃\n",
       "┡━━━━━━━━━━━━━━━━━━━━━━━━━━━━━━━━━╇━━━━━━━━━━━━━━━━━━━━━━━━╇━━━━━━━━━━━━━━━┩\n",
       "│ text_vectorization_20           │ (<span style=\"color: #00d7ff; text-decoration-color: #00d7ff\">None</span>, <span style=\"color: #00af00; text-decoration-color: #00af00\">100</span>)            │             <span style=\"color: #00af00; text-decoration-color: #00af00\">0</span> │\n",
       "│ (<span style=\"color: #0087ff; text-decoration-color: #0087ff\">TextVectorization</span>)             │                        │               │\n",
       "├─────────────────────────────────┼────────────────────────┼───────────────┤\n",
       "│ embedding_18 (<span style=\"color: #0087ff; text-decoration-color: #0087ff\">Embedding</span>)        │ (<span style=\"color: #00d7ff; text-decoration-color: #00d7ff\">None</span>, <span style=\"color: #00af00; text-decoration-color: #00af00\">100</span>, <span style=\"color: #00af00; text-decoration-color: #00af00\">128</span>)       │     <span style=\"color: #00af00; text-decoration-color: #00af00\">2,560,000</span> │\n",
       "├─────────────────────────────────┼────────────────────────┼───────────────┤\n",
       "│ bidirectional_18                │ (<span style=\"color: #00d7ff; text-decoration-color: #00d7ff\">None</span>, <span style=\"color: #00af00; text-decoration-color: #00af00\">128</span>)            │        <span style=\"color: #00af00; text-decoration-color: #00af00\">24,704</span> │\n",
       "│ (<span style=\"color: #0087ff; text-decoration-color: #0087ff\">Bidirectional</span>)                 │                        │               │\n",
       "├─────────────────────────────────┼────────────────────────┼───────────────┤\n",
       "│ dropout_19 (<span style=\"color: #0087ff; text-decoration-color: #0087ff\">Dropout</span>)            │ (<span style=\"color: #00d7ff; text-decoration-color: #00d7ff\">None</span>, <span style=\"color: #00af00; text-decoration-color: #00af00\">128</span>)            │             <span style=\"color: #00af00; text-decoration-color: #00af00\">0</span> │\n",
       "├─────────────────────────────────┼────────────────────────┼───────────────┤\n",
       "│ dense_18 (<span style=\"color: #0087ff; text-decoration-color: #0087ff\">Dense</span>)                │ (<span style=\"color: #00d7ff; text-decoration-color: #00d7ff\">None</span>, <span style=\"color: #00af00; text-decoration-color: #00af00\">3</span>)              │           <span style=\"color: #00af00; text-decoration-color: #00af00\">387</span> │\n",
       "└─────────────────────────────────┴────────────────────────┴───────────────┘\n",
       "</pre>\n"
      ],
      "text/plain": [
       "┏━━━━━━━━━━━━━━━━━━━━━━━━━━━━━━━━━┳━━━━━━━━━━━━━━━━━━━━━━━━┳━━━━━━━━━━━━━━━┓\n",
       "┃\u001b[1m \u001b[0m\u001b[1mLayer (type)                   \u001b[0m\u001b[1m \u001b[0m┃\u001b[1m \u001b[0m\u001b[1mOutput Shape          \u001b[0m\u001b[1m \u001b[0m┃\u001b[1m \u001b[0m\u001b[1m      Param #\u001b[0m\u001b[1m \u001b[0m┃\n",
       "┡━━━━━━━━━━━━━━━━━━━━━━━━━━━━━━━━━╇━━━━━━━━━━━━━━━━━━━━━━━━╇━━━━━━━━━━━━━━━┩\n",
       "│ text_vectorization_20           │ (\u001b[38;5;45mNone\u001b[0m, \u001b[38;5;34m100\u001b[0m)            │             \u001b[38;5;34m0\u001b[0m │\n",
       "│ (\u001b[38;5;33mTextVectorization\u001b[0m)             │                        │               │\n",
       "├─────────────────────────────────┼────────────────────────┼───────────────┤\n",
       "│ embedding_18 (\u001b[38;5;33mEmbedding\u001b[0m)        │ (\u001b[38;5;45mNone\u001b[0m, \u001b[38;5;34m100\u001b[0m, \u001b[38;5;34m128\u001b[0m)       │     \u001b[38;5;34m2,560,000\u001b[0m │\n",
       "├─────────────────────────────────┼────────────────────────┼───────────────┤\n",
       "│ bidirectional_18                │ (\u001b[38;5;45mNone\u001b[0m, \u001b[38;5;34m128\u001b[0m)            │        \u001b[38;5;34m24,704\u001b[0m │\n",
       "│ (\u001b[38;5;33mBidirectional\u001b[0m)                 │                        │               │\n",
       "├─────────────────────────────────┼────────────────────────┼───────────────┤\n",
       "│ dropout_19 (\u001b[38;5;33mDropout\u001b[0m)            │ (\u001b[38;5;45mNone\u001b[0m, \u001b[38;5;34m128\u001b[0m)            │             \u001b[38;5;34m0\u001b[0m │\n",
       "├─────────────────────────────────┼────────────────────────┼───────────────┤\n",
       "│ dense_18 (\u001b[38;5;33mDense\u001b[0m)                │ (\u001b[38;5;45mNone\u001b[0m, \u001b[38;5;34m3\u001b[0m)              │           \u001b[38;5;34m387\u001b[0m │\n",
       "└─────────────────────────────────┴────────────────────────┴───────────────┘\n"
      ]
     },
     "metadata": {},
     "output_type": "display_data"
    },
    {
     "data": {
      "text/html": [
       "<pre style=\"white-space:pre;overflow-x:auto;line-height:normal;font-family:Menlo,'DejaVu Sans Mono',consolas,'Courier New',monospace\"><span style=\"font-weight: bold\"> Total params: </span><span style=\"color: #00af00; text-decoration-color: #00af00\">2,585,091</span> (9.86 MB)\n",
       "</pre>\n"
      ],
      "text/plain": [
       "\u001b[1m Total params: \u001b[0m\u001b[38;5;34m2,585,091\u001b[0m (9.86 MB)\n"
      ]
     },
     "metadata": {},
     "output_type": "display_data"
    },
    {
     "data": {
      "text/html": [
       "<pre style=\"white-space:pre;overflow-x:auto;line-height:normal;font-family:Menlo,'DejaVu Sans Mono',consolas,'Courier New',monospace\"><span style=\"font-weight: bold\"> Trainable params: </span><span style=\"color: #00af00; text-decoration-color: #00af00\">2,585,091</span> (9.86 MB)\n",
       "</pre>\n"
      ],
      "text/plain": [
       "\u001b[1m Trainable params: \u001b[0m\u001b[38;5;34m2,585,091\u001b[0m (9.86 MB)\n"
      ]
     },
     "metadata": {},
     "output_type": "display_data"
    },
    {
     "data": {
      "text/html": [
       "<pre style=\"white-space:pre;overflow-x:auto;line-height:normal;font-family:Menlo,'DejaVu Sans Mono',consolas,'Courier New',monospace\"><span style=\"font-weight: bold\"> Non-trainable params: </span><span style=\"color: #00af00; text-decoration-color: #00af00\">0</span> (0.00 B)\n",
       "</pre>\n"
      ],
      "text/plain": [
       "\u001b[1m Non-trainable params: \u001b[0m\u001b[38;5;34m0\u001b[0m (0.00 B)\n"
      ]
     },
     "metadata": {},
     "output_type": "display_data"
    },
    {
     "name": "stdout",
     "output_type": "stream",
     "text": [
      "None\n"
     ]
    }
   ],
   "source": [
    "print(model.summary())"
   ]
  },
  {
   "cell_type": "code",
   "execution_count": 333,
   "id": "0038ed7f",
   "metadata": {},
   "outputs": [],
   "source": [
    "model.compile(\n",
    "    optimizer='adam',\n",
    "    loss='sparse_categorical_crossentropy',\n",
    "    metrics=['accuracy']\n",
    ")"
   ]
  },
  {
   "cell_type": "code",
   "execution_count": 334,
   "id": "11b6ac30",
   "metadata": {},
   "outputs": [
    {
     "name": "stdout",
     "output_type": "stream",
     "text": [
      "Epoch 1/100\n",
      "\u001b[1m16/16\u001b[0m \u001b[32m━━━━━━━━━━━━━━━━━━━━\u001b[0m\u001b[37m\u001b[0m \u001b[1m3s\u001b[0m 58ms/step - accuracy: 0.4217 - loss: 1.0480 - val_accuracy: 0.5100 - val_loss: 0.9953\n",
      "Epoch 2/100\n",
      "\u001b[1m16/16\u001b[0m \u001b[32m━━━━━━━━━━━━━━━━━━━━\u001b[0m\u001b[37m\u001b[0m \u001b[1m0s\u001b[0m 31ms/step - accuracy: 0.8681 - loss: 0.6760 - val_accuracy: 0.5100 - val_loss: 1.0112\n",
      "Epoch 3/100\n",
      "\u001b[1m16/16\u001b[0m \u001b[32m━━━━━━━━━━━━━━━━━━━━\u001b[0m\u001b[37m\u001b[0m \u001b[1m0s\u001b[0m 29ms/step - accuracy: 0.9690 - loss: 0.3723 - val_accuracy: 0.5400 - val_loss: 0.9046\n",
      "Epoch 4/100\n",
      "\u001b[1m16/16\u001b[0m \u001b[32m━━━━━━━━━━━━━━━━━━━━\u001b[0m\u001b[37m\u001b[0m \u001b[1m0s\u001b[0m 29ms/step - accuracy: 0.9818 - loss: 0.1778 - val_accuracy: 0.4800 - val_loss: 1.0455\n",
      "Epoch 5/100\n",
      "\u001b[1m16/16\u001b[0m \u001b[32m━━━━━━━━━━━━━━━━━━━━\u001b[0m\u001b[37m\u001b[0m \u001b[1m0s\u001b[0m 29ms/step - accuracy: 0.9928 - loss: 0.0978 - val_accuracy: 0.6400 - val_loss: 0.8403\n",
      "Epoch 6/100\n",
      "\u001b[1m16/16\u001b[0m \u001b[32m━━━━━━━━━━━━━━━━━━━━\u001b[0m\u001b[37m\u001b[0m \u001b[1m0s\u001b[0m 29ms/step - accuracy: 0.9979 - loss: 0.0401 - val_accuracy: 0.6200 - val_loss: 0.9208\n",
      "Epoch 7/100\n",
      "\u001b[1m16/16\u001b[0m \u001b[32m━━━━━━━━━━━━━━━━━━━━\u001b[0m\u001b[37m\u001b[0m \u001b[1m0s\u001b[0m 30ms/step - accuracy: 1.0000 - loss: 0.0229 - val_accuracy: 0.6600 - val_loss: 0.9073\n",
      "Epoch 8/100\n",
      "\u001b[1m16/16\u001b[0m \u001b[32m━━━━━━━━━━━━━━━━━━━━\u001b[0m\u001b[37m\u001b[0m \u001b[1m0s\u001b[0m 30ms/step - accuracy: 1.0000 - loss: 0.0134 - val_accuracy: 0.6200 - val_loss: 0.9235\n",
      "Epoch 9/100\n",
      "\u001b[1m16/16\u001b[0m \u001b[32m━━━━━━━━━━━━━━━━━━━━\u001b[0m\u001b[37m\u001b[0m \u001b[1m1s\u001b[0m 32ms/step - accuracy: 1.0000 - loss: 0.0096 - val_accuracy: 0.6400 - val_loss: 0.9516\n",
      "Epoch 10/100\n",
      "\u001b[1m16/16\u001b[0m \u001b[32m━━━━━━━━━━━━━━━━━━━━\u001b[0m\u001b[37m\u001b[0m \u001b[1m0s\u001b[0m 30ms/step - accuracy: 1.0000 - loss: 0.0076 - val_accuracy: 0.6400 - val_loss: 0.9731\n",
      "\u001b[1m13/13\u001b[0m \u001b[32m━━━━━━━━━━━━━━━━━━━━\u001b[0m\u001b[37m\u001b[0m \u001b[1m0s\u001b[0m 5ms/step - accuracy: 0.6203 - loss: 0.8376\n",
      "\n",
      "Akurasi akhir pada test set: 0.6525\n"
     ]
    }
   ],
   "source": [
    "from tensorflow.keras.callbacks import EarlyStopping\n",
    "\n",
    "early_stopping = EarlyStopping(monitor='val_loss', patience=5, restore_best_weights=True)\n",
    "model.fit(train_ds, validation_data=valid_ds, epochs=100, callbacks=[early_stopping])\n",
    "\n",
    "\n",
    "# Evaluasi akhir\n",
    "test_loss, test_acc = model.evaluate(test_ds)\n",
    "print(f\"\\nAkurasi akhir pada test set: {test_acc:.4f}\")"
   ]
  },
  {
   "cell_type": "code",
   "execution_count": 335,
   "id": "cdb34216",
   "metadata": {},
   "outputs": [
    {
     "name": "stdout",
     "output_type": "stream",
     "text": [
      "\u001b[1m13/13\u001b[0m \u001b[32m━━━━━━━━━━━━━━━━━━━━\u001b[0m\u001b[37m\u001b[0m \u001b[1m0s\u001b[0m 23ms/step\n",
      "\n",
      "Macro F1-Score: 0.6315\n",
      "\n",
      "Classification Report:\n",
      "              precision    recall  f1-score   support\n",
      "\n",
      "    Negative       0.57      0.67      0.61       153\n",
      "     Neutral       0.58      0.44      0.50        96\n",
      "    Positive       0.79      0.77      0.78       151\n",
      "\n",
      "    accuracy                           0.65       400\n",
      "   macro avg       0.65      0.63      0.63       400\n",
      "weighted avg       0.65      0.65      0.65       400\n",
      "\n"
     ]
    },
    {
     "data": {
      "image/png": "[encoded data removed]",
      "text/plain": [
       "<Figure size 800x600 with 2 Axes>"
      ]
     },
     "metadata": {},
     "output_type": "display_data"
    }
   ],
   "source": [
    "# Import necessary metrics\n",
    "from sklearn.metrics import classification_report, f1_score, confusion_matrix\n",
    "import numpy as np\n",
    "import matplotlib.pyplot as plt\n",
    "import seaborn as sns\n",
    "\n",
    "# Get predictions on test set\n",
    "y_pred_probs = model.predict(test_ds)\n",
    "y_pred = np.argmax(y_pred_probs, axis=1)\n",
    "\n",
    "# Get true labels from test dataset (need to extract from the TensorFlow dataset)\n",
    "test_labels_list = []\n",
    "for _, labels in test_ds:\n",
    "    test_labels_list.append(labels.numpy())\n",
    "y_true = np.concatenate(test_labels_list, axis=0)\n",
    "y_true = y_true[:len(y_pred)]  # Match lengths in case of incomplete batches\n",
    "\n",
    "# Calculate macro F1-score\n",
    "f1_macro = f1_score(y_true, y_pred, average='macro')\n",
    "print(f\"\\nMacro F1-Score: {f1_macro:.4f}\")\n",
    "\n",
    "# Get detailed classification report\n",
    "print(\"\\nClassification Report:\")\n",
    "print(classification_report(y_true, y_pred, \n",
    "                          target_names=['Negative', 'Neutral', 'Positive']))\n",
    "\n",
    "# Generate confusion matrix\n",
    "cm = confusion_matrix(y_true, y_pred)\n",
    "plt.figure(figsize=(8, 6))\n",
    "sns.heatmap(cm, annot=True, fmt='d', cmap='Blues',\n",
    "            xticklabels=['Negative', 'Neutral', 'Positive'],\n",
    "            yticklabels=['Negative', 'Neutral', 'Positive'])\n",
    "plt.xlabel('Predicted')\n",
    "plt.ylabel('Actual')\n",
    "plt.title('Confusion Matrix')\n",
    "plt.tight_layout()\n",
    "plt.show()"
   ]
  },
  {
   "cell_type": "markdown",
   "id": "125019eb",
   "metadata": {},
   "source": [
    "## Load Keras Model"
   ]
  },
  {
   "cell_type": "code",
   "execution_count": 336,
   "id": "82ef3c46",
   "metadata": {},
   "outputs": [
    {
     "name": "stderr",
     "output_type": "stream",
     "text": [
      "WARNING:absl:You are saving your model as an HDF5 file via `model.save()` or `keras.saving.save_model(model)`. This file format is considered legacy. We recommend using instead the native Keras format, e.g. `model.save('my_model.keras')` or `keras.saving.save_model(model, 'my_model.keras')`. \n"
     ]
    }
   ],
   "source": [
    "model.save('models/keras_model_rnn.h5')"
   ]
  },
  {
   "cell_type": "code",
   "execution_count": 337,
   "id": "4364f349",
   "metadata": {},
   "outputs": [
    {
     "name": "stderr",
     "output_type": "stream",
     "text": [
      "WARNING:absl:Compiled the loaded model, but the compiled metrics have yet to be built. `model.compile_metrics` will be empty until you train or evaluate the model.\n"
     ]
    }
   ],
   "source": [
    "keras_model_rnn = tf.keras.models.load_model('models/keras_model_rnn.h5')"
   ]
  },
  {
   "cell_type": "code",
   "execution_count": 338,
   "id": "0b7b3f8d",
   "metadata": {},
   "outputs": [
    {
     "name": "stdout",
     "output_type": "stream",
     "text": [
      "Embedding\n",
      "Bidirectional\n",
      "creating new bidirectional layer\n",
      "Dropout\n",
      "creating new dropout layer\n",
      "Dense\n",
      "creating new dense layer\n"
     ]
    }
   ],
   "source": [
    "from loadRNN import load_scratch_model\n",
    "\n",
    "ScratchModel = load_scratch_model(keras_model_rnn)"
   ]
  },
  {
   "cell_type": "markdown",
   "id": "b36dcb0d",
   "metadata": {},
   "source": [
    "## Predict Scratch Model"
   ]
  },
  {
   "cell_type": "code",
   "execution_count": 339,
   "id": "68c74b37",
   "metadata": {},
   "outputs": [
    {
     "name": "stdout",
     "output_type": "stream",
     "text": [
      "Using vectorizer from global scope\n",
      "Processing batch 1/13\n",
      "  Layer 1: EmbeddingWrapper\n",
      "  Layer 2: Bidirectional\n",
      "  Layer 3: Dropout\n",
      "  Layer 4: Dense\n",
      "Processing batch 2/13\n",
      "  Layer 1: EmbeddingWrapper\n",
      "  Layer 2: Bidirectional\n",
      "  Layer 3: Dropout\n",
      "  Layer 4: Dense\n",
      "Processing batch 3/13\n",
      "  Layer 1: EmbeddingWrapper\n",
      "  Layer 2: Bidirectional\n",
      "  Layer 3: Dropout\n",
      "  Layer 4: Dense\n",
      "Processing batch 4/13\n",
      "  Layer 1: EmbeddingWrapper\n",
      "  Layer 2: Bidirectional\n",
      "  Layer 3: Dropout\n",
      "  Layer 4: Dense\n",
      "Processing batch 5/13\n",
      "  Layer 1: EmbeddingWrapper\n",
      "  Layer 2: Bidirectional\n",
      "  Layer 3: Dropout\n",
      "  Layer 4: Dense\n",
      "Processing batch 6/13\n",
      "  Layer 1: EmbeddingWrapper\n",
      "  Layer 2: Bidirectional\n",
      "  Layer 3: Dropout\n",
      "  Layer 4: Dense\n",
      "Processing batch 7/13\n",
      "  Layer 1: EmbeddingWrapper\n",
      "  Layer 2: Bidirectional\n",
      "  Layer 3: Dropout\n",
      "  Layer 4: Dense\n",
      "Processing batch 8/13\n",
      "  Layer 1: EmbeddingWrapper\n",
      "  Layer 2: Bidirectional\n",
      "  Layer 3: Dropout\n",
      "  Layer 4: Dense\n",
      "Processing batch 9/13\n",
      "  Layer 1: EmbeddingWrapper\n",
      "  Layer 2: Bidirectional\n",
      "  Layer 3: Dropout\n",
      "  Layer 4: Dense\n",
      "Processing batch 10/13\n",
      "  Layer 1: EmbeddingWrapper\n",
      "  Layer 2: Bidirectional\n",
      "  Layer 3: Dropout\n",
      "  Layer 4: Dense\n",
      "Processing batch 11/13\n",
      "  Layer 1: EmbeddingWrapper\n",
      "  Layer 2: Bidirectional\n",
      "  Layer 3: Dropout\n",
      "  Layer 4: Dense\n",
      "Processing batch 12/13\n",
      "  Layer 1: EmbeddingWrapper\n",
      "  Layer 2: Bidirectional\n",
      "  Layer 3: Dropout\n",
      "  Layer 4: Dense\n",
      "Processing batch 13/13\n",
      "  Layer 1: EmbeddingWrapper\n",
      "  Layer 2: Bidirectional\n",
      "  Layer 3: Dropout\n",
      "  Layer 4: Dense\n",
      "Prediction complete\n"
     ]
    }
   ],
   "source": [
    "\n",
    "from predictRNN import predict\n",
    "\n",
    "preds = predict(ScratchModel, test_texts)"
   ]
  },
  {
   "cell_type": "code",
   "execution_count": 340,
   "id": "a2e954be",
   "metadata": {},
   "outputs": [
    {
     "name": "stdout",
     "output_type": "stream",
     "text": [
      "Macro F1-Score on Test Set: 0.38307747879181414\n"
     ]
    }
   ],
   "source": [
    "preds_classes = np.argmax(preds, axis=1)\n",
    "\n",
    "\n",
    "# Hitung Macro F1\n",
    "scratch_macro_f1 = f1_score(test_labels, preds_classes, average='macro')\n",
    "print(\"Macro F1-Score on Test Set:\", scratch_macro_f1)"
   ]
  }
 ],
 "metadata": {
  "kernelspec": {
   "display_name": ".venv",
   "language": "python",
   "name": "python3"
  },
  "language_info": {
   "codemirror_mode": {
    "name": "ipython",
    "version": 3
   },
   "file_extension": ".py",
   "mimetype": "text/x-python",
   "name": "python",
   "nbconvert_exporter": "python",
   "pygments_lexer": "ipython3",
   "version": "3.12.0"
  }
 },
 "nbformat": 4,
 "nbformat_minor": 5
}
