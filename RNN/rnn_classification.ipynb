{
 "cells": [
  {
   "cell_type": "code",
   "execution_count": 255,
   "id": "0379d775",
   "metadata": {},
   "outputs": [],
   "source": [
    "import pandas as pd\n",
    "import tensorflow as tf\n",
    "from tensorflow import keras"
   ]
  },
  {
   "cell_type": "code",
   "execution_count": 256,
   "id": "152ccb39",
   "metadata": {},
   "outputs": [
    {
     "name": "stdout",
     "output_type": "stream",
     "text": [
      "The autoreload extension is already loaded. To reload it, use:\n",
      "  %reload_ext autoreload\n"
     ]
    }
   ],
   "source": [
    "\n",
    "import random\n",
    "import numpy as np\n",
    "\n",
    "# Set seeds for reproducibility\n",
    "seed_value = 42\n",
    "random.seed(seed_value)\n",
    "np.random.seed(seed_value)\n",
    "tf.random.set_seed(seed_value)\n",
    "\n",
    "# For even more determinism (may slow down training)\n",
    "tf.config.experimental.enable_op_determinism()\n",
    "%load_ext autoreload\n",
    "%autoreload 2"
   ]
  },
  {
   "cell_type": "code",
   "execution_count": 257,
   "id": "421c5ca9",
   "metadata": {},
   "outputs": [],
   "source": [
    "train_data = pd.read_csv('data/train.csv')\n",
    "valid_data = pd.read_csv('data/valid.csv')\n",
    "test_data = pd.read_csv('data/test.csv')"
   ]
  },
  {
   "cell_type": "code",
   "execution_count": 258,
   "id": "c200f6ba",
   "metadata": {},
   "outputs": [],
   "source": [
    "# 2. Map string labels to integers (right after loading)\n",
    "label_map = {'negative': 0, 'neutral': 1, 'positive': 2}\n",
    "train_data['label'] = train_data['label'].map(label_map)\n",
    "valid_data['label'] = valid_data['label'].map(label_map)\n",
    "test_data['label']  = test_data['label'].map(label_map)\n",
    "\n",
    "# (Optional but recommended) drop rows with unmapped or NaN labels\n",
    "train_data = train_data.dropna()\n",
    "valid_data = valid_data.dropna()\n",
    "test_data  = test_data.dropna()\n"
   ]
  },
  {
   "cell_type": "code",
   "execution_count": 259,
   "id": "931eb21f",
   "metadata": {},
   "outputs": [],
   "source": [
    "# Ambil teks dan label\n",
    "train_texts, train_labels = train_data['text'], train_data['label']\n",
    "valid_texts, valid_labels = valid_data['text'], valid_data['label']\n",
    "test_texts,  test_labels  = test_data['text'],  test_data['label']"
   ]
  },
  {
   "cell_type": "code",
   "execution_count": 260,
   "id": "d7991468",
   "metadata": {},
   "outputs": [],
   "source": [
    "from tensorflow.keras.layers import TextVectorization\n",
    "\n",
    "# Buat vectorizer berdasarkan training saja\n",
    "vectorizer = TextVectorization(max_tokens=20000, output_mode=\"int\", output_sequence_length=100)\n",
    "vectorizer.adapt(train_texts)"
   ]
  },
  {
   "cell_type": "code",
   "execution_count": 261,
   "id": "ad81a55a",
   "metadata": {},
   "outputs": [],
   "source": [
    "# Siapkan dataset TensorFlow\n",
    "batch_size = 32\n",
    "train_ds = tf.data.Dataset.from_tensor_slices((train_texts, train_labels)).batch(batch_size).prefetch(tf.data.AUTOTUNE)\n",
    "valid_ds = tf.data.Dataset.from_tensor_slices((valid_texts, valid_labels)).batch(batch_size).prefetch(tf.data.AUTOTUNE)\n",
    "test_ds  = tf.data.Dataset.from_tensor_slices((test_texts,  test_labels)).batch(batch_size).prefetch(tf.data.AUTOTUNE)"
   ]
  },
  {
   "cell_type": "code",
   "execution_count": 262,
   "id": "d67455dd",
   "metadata": {},
   "outputs": [
    {
     "name": "stdout",
     "output_type": "stream",
     "text": [
      "Sample text: Nikmati cicilan 0% hingga 12 bulan untuk pemesanan tiket pesawat air asia dengan kartu kredit bni!\n",
      "Sample label: 1 Type: <class 'numpy.int64'>\n",
      "\n",
      "First batch of train_ds:\n",
      "Text shape: (32,)\n",
      "Label shape: (32,)\n",
      "Label values: [1 2 1 2 2 1 1 0 0 2 2 0 0 2 2 2 1 1 1 0 1 2 2 0 1 0 0 0 0 2 2 1]\n"
     ]
    }
   ],
   "source": [
    "# Add this before training to check data types\n",
    "print(\"Sample text:\", train_texts.iloc[0])\n",
    "print(\"Sample label:\", train_labels.iloc[0], \"Type:\", type(train_labels.iloc[0]))\n",
    "\n",
    "# Check the shape and first few elements of each dataset\n",
    "print(\"\\nFirst batch of train_ds:\")\n",
    "for text_batch, label_batch in train_ds.take(1):\n",
    "    print(\"Text shape:\", text_batch.shape)\n",
    "    print(\"Label shape:\", label_batch.shape)\n",
    "    print(\"Label values:\", label_batch.numpy())"
   ]
  },
  {
   "cell_type": "code",
   "execution_count": 263,
   "id": "897735ee",
   "metadata": {},
   "outputs": [],
   "source": [
    "# Import required modules\n",
    "import pandas as pd\n",
    "import tensorflow as tf\n",
    "from tensorflow import keras\n",
    "from tensorflow.keras.models import Sequential\n",
    "from tensorflow.keras.layers import TextVectorization, Embedding, SimpleRNN, Bidirectional, Dropout, Dense, Input\n",
    "\n",
    "\n",
    "model = Sequential([\n",
    "    Input(shape=(1,), dtype=tf.string),\n",
    "    vectorizer,\n",
    "    Embedding(input_dim=20000, output_dim=128, mask_zero=True),\n",
    "    Bidirectional(SimpleRNN(64)),\n",
    "    Dropout(0.5),\n",
    "    Dense(3, activation=\"softmax\")\n",
    "])"
   ]
  },
  {
   "cell_type": "code",
   "execution_count": 264,
   "id": "e773ae21",
   "metadata": {},
   "outputs": [
    {
     "data": {
      "text/html": [
       "<pre style=\"white-space:pre;overflow-x:auto;line-height:normal;font-family:Menlo,'DejaVu Sans Mono',consolas,'Courier New',monospace\"><span style=\"font-weight: bold\">Model: \"sequential_12\"</span>\n",
       "</pre>\n"
      ],
      "text/plain": [
       "\u001b[1mModel: \"sequential_12\"\u001b[0m\n"
      ]
     },
     "metadata": {},
     "output_type": "display_data"
    },
    {
     "data": {
      "text/html": [
       "<pre style=\"white-space:pre;overflow-x:auto;line-height:normal;font-family:Menlo,'DejaVu Sans Mono',consolas,'Courier New',monospace\">┏━━━━━━━━━━━━━━━━━━━━━━━━━━━━━━━━━┳━━━━━━━━━━━━━━━━━━━━━━━━┳━━━━━━━━━━━━━━━┓\n",
       "┃<span style=\"font-weight: bold\"> Layer (type)                    </span>┃<span style=\"font-weight: bold\"> Output Shape           </span>┃<span style=\"font-weight: bold\">       Param # </span>┃\n",
       "┡━━━━━━━━━━━━━━━━━━━━━━━━━━━━━━━━━╇━━━━━━━━━━━━━━━━━━━━━━━━╇━━━━━━━━━━━━━━━┩\n",
       "│ text_vectorization_12           │ (<span style=\"color: #00d7ff; text-decoration-color: #00d7ff\">None</span>, <span style=\"color: #00af00; text-decoration-color: #00af00\">100</span>)            │             <span style=\"color: #00af00; text-decoration-color: #00af00\">0</span> │\n",
       "│ (<span style=\"color: #0087ff; text-decoration-color: #0087ff\">TextVectorization</span>)             │                        │               │\n",
       "├─────────────────────────────────┼────────────────────────┼───────────────┤\n",
       "│ embedding_12 (<span style=\"color: #0087ff; text-decoration-color: #0087ff\">Embedding</span>)        │ (<span style=\"color: #00d7ff; text-decoration-color: #00d7ff\">None</span>, <span style=\"color: #00af00; text-decoration-color: #00af00\">100</span>, <span style=\"color: #00af00; text-decoration-color: #00af00\">128</span>)       │     <span style=\"color: #00af00; text-decoration-color: #00af00\">2,560,000</span> │\n",
       "├─────────────────────────────────┼────────────────────────┼───────────────┤\n",
       "│ bidirectional_12                │ (<span style=\"color: #00d7ff; text-decoration-color: #00d7ff\">None</span>, <span style=\"color: #00af00; text-decoration-color: #00af00\">128</span>)            │        <span style=\"color: #00af00; text-decoration-color: #00af00\">24,704</span> │\n",
       "│ (<span style=\"color: #0087ff; text-decoration-color: #0087ff\">Bidirectional</span>)                 │                        │               │\n",
       "├─────────────────────────────────┼────────────────────────┼───────────────┤\n",
       "│ dropout_12 (<span style=\"color: #0087ff; text-decoration-color: #0087ff\">Dropout</span>)            │ (<span style=\"color: #00d7ff; text-decoration-color: #00d7ff\">None</span>, <span style=\"color: #00af00; text-decoration-color: #00af00\">128</span>)            │             <span style=\"color: #00af00; text-decoration-color: #00af00\">0</span> │\n",
       "├─────────────────────────────────┼────────────────────────┼───────────────┤\n",
       "│ dense_12 (<span style=\"color: #0087ff; text-decoration-color: #0087ff\">Dense</span>)                │ (<span style=\"color: #00d7ff; text-decoration-color: #00d7ff\">None</span>, <span style=\"color: #00af00; text-decoration-color: #00af00\">3</span>)              │           <span style=\"color: #00af00; text-decoration-color: #00af00\">387</span> │\n",
       "└─────────────────────────────────┴────────────────────────┴───────────────┘\n",
       "</pre>\n"
      ],
      "text/plain": [
       "┏━━━━━━━━━━━━━━━━━━━━━━━━━━━━━━━━━┳━━━━━━━━━━━━━━━━━━━━━━━━┳━━━━━━━━━━━━━━━┓\n",
       "┃\u001b[1m \u001b[0m\u001b[1mLayer (type)                   \u001b[0m\u001b[1m \u001b[0m┃\u001b[1m \u001b[0m\u001b[1mOutput Shape          \u001b[0m\u001b[1m \u001b[0m┃\u001b[1m \u001b[0m\u001b[1m      Param #\u001b[0m\u001b[1m \u001b[0m┃\n",
       "┡━━━━━━━━━━━━━━━━━━━━━━━━━━━━━━━━━╇━━━━━━━━━━━━━━━━━━━━━━━━╇━━━━━━━━━━━━━━━┩\n",
       "│ text_vectorization_12           │ (\u001b[38;5;45mNone\u001b[0m, \u001b[38;5;34m100\u001b[0m)            │             \u001b[38;5;34m0\u001b[0m │\n",
       "│ (\u001b[38;5;33mTextVectorization\u001b[0m)             │                        │               │\n",
       "├─────────────────────────────────┼────────────────────────┼───────────────┤\n",
       "│ embedding_12 (\u001b[38;5;33mEmbedding\u001b[0m)        │ (\u001b[38;5;45mNone\u001b[0m, \u001b[38;5;34m100\u001b[0m, \u001b[38;5;34m128\u001b[0m)       │     \u001b[38;5;34m2,560,000\u001b[0m │\n",
       "├─────────────────────────────────┼────────────────────────┼───────────────┤\n",
       "│ bidirectional_12                │ (\u001b[38;5;45mNone\u001b[0m, \u001b[38;5;34m128\u001b[0m)            │        \u001b[38;5;34m24,704\u001b[0m │\n",
       "│ (\u001b[38;5;33mBidirectional\u001b[0m)                 │                        │               │\n",
       "├─────────────────────────────────┼────────────────────────┼───────────────┤\n",
       "│ dropout_12 (\u001b[38;5;33mDropout\u001b[0m)            │ (\u001b[38;5;45mNone\u001b[0m, \u001b[38;5;34m128\u001b[0m)            │             \u001b[38;5;34m0\u001b[0m │\n",
       "├─────────────────────────────────┼────────────────────────┼───────────────┤\n",
       "│ dense_12 (\u001b[38;5;33mDense\u001b[0m)                │ (\u001b[38;5;45mNone\u001b[0m, \u001b[38;5;34m3\u001b[0m)              │           \u001b[38;5;34m387\u001b[0m │\n",
       "└─────────────────────────────────┴────────────────────────┴───────────────┘\n"
      ]
     },
     "metadata": {},
     "output_type": "display_data"
    },
    {
     "data": {
      "text/html": [
       "<pre style=\"white-space:pre;overflow-x:auto;line-height:normal;font-family:Menlo,'DejaVu Sans Mono',consolas,'Courier New',monospace\"><span style=\"font-weight: bold\"> Total params: </span><span style=\"color: #00af00; text-decoration-color: #00af00\">2,585,091</span> (9.86 MB)\n",
       "</pre>\n"
      ],
      "text/plain": [
       "\u001b[1m Total params: \u001b[0m\u001b[38;5;34m2,585,091\u001b[0m (9.86 MB)\n"
      ]
     },
     "metadata": {},
     "output_type": "display_data"
    },
    {
     "data": {
      "text/html": [
       "<pre style=\"white-space:pre;overflow-x:auto;line-height:normal;font-family:Menlo,'DejaVu Sans Mono',consolas,'Courier New',monospace\"><span style=\"font-weight: bold\"> Trainable params: </span><span style=\"color: #00af00; text-decoration-color: #00af00\">2,585,091</span> (9.86 MB)\n",
       "</pre>\n"
      ],
      "text/plain": [
       "\u001b[1m Trainable params: \u001b[0m\u001b[38;5;34m2,585,091\u001b[0m (9.86 MB)\n"
      ]
     },
     "metadata": {},
     "output_type": "display_data"
    },
    {
     "data": {
      "text/html": [
       "<pre style=\"white-space:pre;overflow-x:auto;line-height:normal;font-family:Menlo,'DejaVu Sans Mono',consolas,'Courier New',monospace\"><span style=\"font-weight: bold\"> Non-trainable params: </span><span style=\"color: #00af00; text-decoration-color: #00af00\">0</span> (0.00 B)\n",
       "</pre>\n"
      ],
      "text/plain": [
       "\u001b[1m Non-trainable params: \u001b[0m\u001b[38;5;34m0\u001b[0m (0.00 B)\n"
      ]
     },
     "metadata": {},
     "output_type": "display_data"
    },
    {
     "name": "stdout",
     "output_type": "stream",
     "text": [
      "None\n"
     ]
    }
   ],
   "source": [
    "print(model.summary())"
   ]
  },
  {
   "cell_type": "code",
   "execution_count": 265,
   "id": "0038ed7f",
   "metadata": {},
   "outputs": [],
   "source": [
    "model.compile(\n",
    "    optimizer='adam',\n",
    "    loss='sparse_categorical_crossentropy',\n",
    "    metrics=['accuracy']\n",
    ")"
   ]
  },
  {
   "cell_type": "code",
   "execution_count": 266,
   "id": "11b6ac30",
   "metadata": {},
   "outputs": [
    {
     "name": "stdout",
     "output_type": "stream",
     "text": [
      "Epoch 1/100\n",
      "\u001b[1m16/16\u001b[0m \u001b[32m━━━━━━━━━━━━━━━━━━━━\u001b[0m\u001b[37m\u001b[0m \u001b[1m3s\u001b[0m 55ms/step - accuracy: 0.4217 - loss: 1.0480 - val_accuracy: 0.5100 - val_loss: 0.9953\n",
      "Epoch 2/100\n",
      "\u001b[1m16/16\u001b[0m \u001b[32m━━━━━━━━━━━━━━━━━━━━\u001b[0m\u001b[37m\u001b[0m \u001b[1m0s\u001b[0m 31ms/step - accuracy: 0.8681 - loss: 0.6760 - val_accuracy: 0.5100 - val_loss: 1.0112\n",
      "Epoch 3/100\n",
      "\u001b[1m16/16\u001b[0m \u001b[32m━━━━━━━━━━━━━━━━━━━━\u001b[0m\u001b[37m\u001b[0m \u001b[1m1s\u001b[0m 32ms/step - accuracy: 0.9690 - loss: 0.3723 - val_accuracy: 0.5400 - val_loss: 0.9046\n",
      "Epoch 4/100\n",
      "\u001b[1m16/16\u001b[0m \u001b[32m━━━━━━━━━━━━━━━━━━━━\u001b[0m\u001b[37m\u001b[0m \u001b[1m1s\u001b[0m 33ms/step - accuracy: 0.9818 - loss: 0.1778 - val_accuracy: 0.4800 - val_loss: 1.0455\n",
      "Epoch 5/100\n",
      "\u001b[1m16/16\u001b[0m \u001b[32m━━━━━━━━━━━━━━━━━━━━\u001b[0m\u001b[37m\u001b[0m \u001b[1m1s\u001b[0m 33ms/step - accuracy: 0.9928 - loss: 0.0978 - val_accuracy: 0.6400 - val_loss: 0.8403\n",
      "Epoch 6/100\n",
      "\u001b[1m16/16\u001b[0m \u001b[32m━━━━━━━━━━━━━━━━━━━━\u001b[0m\u001b[37m\u001b[0m \u001b[1m1s\u001b[0m 33ms/step - accuracy: 0.9979 - loss: 0.0401 - val_accuracy: 0.6200 - val_loss: 0.9208\n",
      "Epoch 7/100\n",
      "\u001b[1m16/16\u001b[0m \u001b[32m━━━━━━━━━━━━━━━━━━━━\u001b[0m\u001b[37m\u001b[0m \u001b[1m1s\u001b[0m 35ms/step - accuracy: 1.0000 - loss: 0.0229 - val_accuracy: 0.6600 - val_loss: 0.9073\n",
      "Epoch 8/100\n",
      "\u001b[1m16/16\u001b[0m \u001b[32m━━━━━━━━━━━━━━━━━━━━\u001b[0m\u001b[37m\u001b[0m \u001b[1m1s\u001b[0m 36ms/step - accuracy: 1.0000 - loss: 0.0134 - val_accuracy: 0.6200 - val_loss: 0.9235\n",
      "Epoch 9/100\n",
      "\u001b[1m16/16\u001b[0m \u001b[32m━━━━━━━━━━━━━━━━━━━━\u001b[0m\u001b[37m\u001b[0m \u001b[1m1s\u001b[0m 37ms/step - accuracy: 1.0000 - loss: 0.0096 - val_accuracy: 0.6400 - val_loss: 0.9516\n",
      "Epoch 10/100\n",
      "\u001b[1m16/16\u001b[0m \u001b[32m━━━━━━━━━━━━━━━━━━━━\u001b[0m\u001b[37m\u001b[0m \u001b[1m1s\u001b[0m 33ms/step - accuracy: 1.0000 - loss: 0.0076 - val_accuracy: 0.6400 - val_loss: 0.9731\n",
      "Epoch 11/100\n",
      "\u001b[1m16/16\u001b[0m \u001b[32m━━━━━━━━━━━━━━━━━━━━\u001b[0m\u001b[37m\u001b[0m \u001b[1m1s\u001b[0m 34ms/step - accuracy: 1.0000 - loss: 0.0062 - val_accuracy: 0.6400 - val_loss: 0.9921\n",
      "Epoch 12/100\n",
      "\u001b[1m16/16\u001b[0m \u001b[32m━━━━━━━━━━━━━━━━━━━━\u001b[0m\u001b[37m\u001b[0m \u001b[1m1s\u001b[0m 32ms/step - accuracy: 1.0000 - loss: 0.0050 - val_accuracy: 0.6200 - val_loss: 1.0050\n",
      "Epoch 13/100\n",
      "\u001b[1m16/16\u001b[0m \u001b[32m━━━━━━━━━━━━━━━━━━━━\u001b[0m\u001b[37m\u001b[0m \u001b[1m1s\u001b[0m 32ms/step - accuracy: 1.0000 - loss: 0.0036 - val_accuracy: 0.6400 - val_loss: 1.0138\n",
      "Epoch 14/100\n",
      "\u001b[1m16/16\u001b[0m \u001b[32m━━━━━━━━━━━━━━━━━━━━\u001b[0m\u001b[37m\u001b[0m \u001b[1m1s\u001b[0m 33ms/step - accuracy: 1.0000 - loss: 0.0034 - val_accuracy: 0.6400 - val_loss: 1.0282\n",
      "Epoch 15/100\n",
      "\u001b[1m16/16\u001b[0m \u001b[32m━━━━━━━━━━━━━━━━━━━━\u001b[0m\u001b[37m\u001b[0m \u001b[1m1s\u001b[0m 34ms/step - accuracy: 1.0000 - loss: 0.0028 - val_accuracy: 0.6200 - val_loss: 1.0472\n",
      "Epoch 16/100\n",
      "\u001b[1m16/16\u001b[0m \u001b[32m━━━━━━━━━━━━━━━━━━━━\u001b[0m\u001b[37m\u001b[0m \u001b[1m1s\u001b[0m 33ms/step - accuracy: 1.0000 - loss: 0.0023 - val_accuracy: 0.6200 - val_loss: 1.0585\n",
      "Epoch 17/100\n",
      "\u001b[1m16/16\u001b[0m \u001b[32m━━━━━━━━━━━━━━━━━━━━\u001b[0m\u001b[37m\u001b[0m \u001b[1m1s\u001b[0m 31ms/step - accuracy: 1.0000 - loss: 0.0028 - val_accuracy: 0.6100 - val_loss: 1.0638\n",
      "Epoch 18/100\n",
      "\u001b[1m16/16\u001b[0m \u001b[32m━━━━━━━━━━━━━━━━━━━━\u001b[0m\u001b[37m\u001b[0m \u001b[1m1s\u001b[0m 33ms/step - accuracy: 1.0000 - loss: 0.0031 - val_accuracy: 0.6100 - val_loss: 1.0727\n",
      "Epoch 19/100\n",
      "\u001b[1m16/16\u001b[0m \u001b[32m━━━━━━━━━━━━━━━━━━━━\u001b[0m\u001b[37m\u001b[0m \u001b[1m1s\u001b[0m 33ms/step - accuracy: 1.0000 - loss: 0.0017 - val_accuracy: 0.6200 - val_loss: 1.0759\n",
      "Epoch 20/100\n",
      "\u001b[1m16/16\u001b[0m \u001b[32m━━━━━━━━━━━━━━━━━━━━\u001b[0m\u001b[37m\u001b[0m \u001b[1m1s\u001b[0m 34ms/step - accuracy: 1.0000 - loss: 0.0018 - val_accuracy: 0.6100 - val_loss: 1.0936\n",
      "Epoch 21/100\n",
      "\u001b[1m16/16\u001b[0m \u001b[32m━━━━━━━━━━━━━━━━━━━━\u001b[0m\u001b[37m\u001b[0m \u001b[1m1s\u001b[0m 33ms/step - accuracy: 1.0000 - loss: 0.0014 - val_accuracy: 0.6200 - val_loss: 1.1025\n",
      "Epoch 22/100\n",
      "\u001b[1m16/16\u001b[0m \u001b[32m━━━━━━━━━━━━━━━━━━━━\u001b[0m\u001b[37m\u001b[0m \u001b[1m1s\u001b[0m 34ms/step - accuracy: 1.0000 - loss: 0.0015 - val_accuracy: 0.6200 - val_loss: 1.1119\n",
      "Epoch 23/100\n",
      "\u001b[1m16/16\u001b[0m \u001b[32m━━━━━━━━━━━━━━━━━━━━\u001b[0m\u001b[37m\u001b[0m \u001b[1m1s\u001b[0m 33ms/step - accuracy: 1.0000 - loss: 0.0013 - val_accuracy: 0.6200 - val_loss: 1.1250\n",
      "Epoch 24/100\n",
      "\u001b[1m16/16\u001b[0m \u001b[32m━━━━━━━━━━━━━━━━━━━━\u001b[0m\u001b[37m\u001b[0m \u001b[1m1s\u001b[0m 33ms/step - accuracy: 1.0000 - loss: 0.0013 - val_accuracy: 0.6200 - val_loss: 1.1383\n",
      "Epoch 25/100\n",
      "\u001b[1m16/16\u001b[0m \u001b[32m━━━━━━━━━━━━━━━━━━━━\u001b[0m\u001b[37m\u001b[0m \u001b[1m1s\u001b[0m 32ms/step - accuracy: 1.0000 - loss: 0.0012 - val_accuracy: 0.6100 - val_loss: 1.1474\n",
      "Epoch 26/100\n",
      "\u001b[1m16/16\u001b[0m \u001b[32m━━━━━━━━━━━━━━━━━━━━\u001b[0m\u001b[37m\u001b[0m \u001b[1m1s\u001b[0m 34ms/step - accuracy: 1.0000 - loss: 0.0011 - val_accuracy: 0.6200 - val_loss: 1.1586\n",
      "Epoch 27/100\n",
      "\u001b[1m16/16\u001b[0m \u001b[32m━━━━━━━━━━━━━━━━━━━━\u001b[0m\u001b[37m\u001b[0m \u001b[1m1s\u001b[0m 33ms/step - accuracy: 1.0000 - loss: 9.4710e-04 - val_accuracy: 0.6200 - val_loss: 1.1580\n",
      "Epoch 28/100\n",
      "\u001b[1m16/16\u001b[0m \u001b[32m━━━━━━━━━━━━━━━━━━━━\u001b[0m\u001b[37m\u001b[0m \u001b[1m1s\u001b[0m 33ms/step - accuracy: 1.0000 - loss: 9.4479e-04 - val_accuracy: 0.6200 - val_loss: 1.1606\n",
      "Epoch 29/100\n",
      "\u001b[1m16/16\u001b[0m \u001b[32m━━━━━━━━━━━━━━━━━━━━\u001b[0m\u001b[37m\u001b[0m \u001b[1m1s\u001b[0m 33ms/step - accuracy: 1.0000 - loss: 9.3264e-04 - val_accuracy: 0.6100 - val_loss: 1.1677\n",
      "Epoch 30/100\n",
      "\u001b[1m16/16\u001b[0m \u001b[32m━━━━━━━━━━━━━━━━━━━━\u001b[0m\u001b[37m\u001b[0m \u001b[1m1s\u001b[0m 33ms/step - accuracy: 1.0000 - loss: 7.5775e-04 - val_accuracy: 0.5900 - val_loss: 1.1757\n",
      "Epoch 31/100\n",
      "\u001b[1m16/16\u001b[0m \u001b[32m━━━━━━━━━━━━━━━━━━━━\u001b[0m\u001b[37m\u001b[0m \u001b[1m1s\u001b[0m 31ms/step - accuracy: 1.0000 - loss: 6.5743e-04 - val_accuracy: 0.5900 - val_loss: 1.1890\n",
      "Epoch 32/100\n",
      "\u001b[1m16/16\u001b[0m \u001b[32m━━━━━━━━━━━━━━━━━━━━\u001b[0m\u001b[37m\u001b[0m \u001b[1m1s\u001b[0m 32ms/step - accuracy: 1.0000 - loss: 7.9368e-04 - val_accuracy: 0.5800 - val_loss: 1.1986\n",
      "Epoch 33/100\n",
      "\u001b[1m16/16\u001b[0m \u001b[32m━━━━━━━━━━━━━━━━━━━━\u001b[0m\u001b[37m\u001b[0m \u001b[1m1s\u001b[0m 32ms/step - accuracy: 1.0000 - loss: 6.1420e-04 - val_accuracy: 0.5700 - val_loss: 1.2032\n",
      "Epoch 34/100\n",
      "\u001b[1m16/16\u001b[0m \u001b[32m━━━━━━━━━━━━━━━━━━━━\u001b[0m\u001b[37m\u001b[0m \u001b[1m1s\u001b[0m 31ms/step - accuracy: 1.0000 - loss: 5.3104e-04 - val_accuracy: 0.5700 - val_loss: 1.2105\n",
      "Epoch 35/100\n",
      "\u001b[1m16/16\u001b[0m \u001b[32m━━━━━━━━━━━━━━━━━━━━\u001b[0m\u001b[37m\u001b[0m \u001b[1m1s\u001b[0m 33ms/step - accuracy: 1.0000 - loss: 7.2535e-04 - val_accuracy: 0.5700 - val_loss: 1.2180\n",
      "Epoch 36/100\n",
      "\u001b[1m16/16\u001b[0m \u001b[32m━━━━━━━━━━━━━━━━━━━━\u001b[0m\u001b[37m\u001b[0m \u001b[1m1s\u001b[0m 33ms/step - accuracy: 1.0000 - loss: 4.6405e-04 - val_accuracy: 0.5800 - val_loss: 1.2225\n",
      "Epoch 37/100\n",
      "\u001b[1m16/16\u001b[0m \u001b[32m━━━━━━━━━━━━━━━━━━━━\u001b[0m\u001b[37m\u001b[0m \u001b[1m1s\u001b[0m 34ms/step - accuracy: 1.0000 - loss: 6.0598e-04 - val_accuracy: 0.5800 - val_loss: 1.2310\n",
      "Epoch 38/100\n",
      "\u001b[1m16/16\u001b[0m \u001b[32m━━━━━━━━━━━━━━━━━━━━\u001b[0m\u001b[37m\u001b[0m \u001b[1m1s\u001b[0m 33ms/step - accuracy: 1.0000 - loss: 5.7220e-04 - val_accuracy: 0.5900 - val_loss: 1.2412\n",
      "Epoch 39/100\n",
      "\u001b[1m16/16\u001b[0m \u001b[32m━━━━━━━━━━━━━━━━━━━━\u001b[0m\u001b[37m\u001b[0m \u001b[1m1s\u001b[0m 33ms/step - accuracy: 1.0000 - loss: 5.3520e-04 - val_accuracy: 0.5800 - val_loss: 1.2426\n",
      "Epoch 40/100\n",
      "\u001b[1m16/16\u001b[0m \u001b[32m━━━━━━━━━━━━━━━━━━━━\u001b[0m\u001b[37m\u001b[0m \u001b[1m1s\u001b[0m 33ms/step - accuracy: 1.0000 - loss: 4.3196e-04 - val_accuracy: 0.5900 - val_loss: 1.2462\n",
      "Epoch 41/100\n",
      "\u001b[1m16/16\u001b[0m \u001b[32m━━━━━━━━━━━━━━━━━━━━\u001b[0m\u001b[37m\u001b[0m \u001b[1m1s\u001b[0m 33ms/step - accuracy: 1.0000 - loss: 5.0141e-04 - val_accuracy: 0.5900 - val_loss: 1.2558\n",
      "Epoch 42/100\n",
      "\u001b[1m16/16\u001b[0m \u001b[32m━━━━━━━━━━━━━━━━━━━━\u001b[0m\u001b[37m\u001b[0m \u001b[1m1s\u001b[0m 34ms/step - accuracy: 1.0000 - loss: 4.0786e-04 - val_accuracy: 0.5900 - val_loss: 1.2572\n",
      "Epoch 43/100\n",
      "\u001b[1m16/16\u001b[0m \u001b[32m━━━━━━━━━━━━━━━━━━━━\u001b[0m\u001b[37m\u001b[0m \u001b[1m1s\u001b[0m 31ms/step - accuracy: 1.0000 - loss: 5.7760e-04 - val_accuracy: 0.5900 - val_loss: 1.2558\n",
      "Epoch 44/100\n",
      "\u001b[1m16/16\u001b[0m \u001b[32m━━━━━━━━━━━━━━━━━━━━\u001b[0m\u001b[37m\u001b[0m \u001b[1m1s\u001b[0m 33ms/step - accuracy: 1.0000 - loss: 4.1759e-04 - val_accuracy: 0.6000 - val_loss: 1.2561\n",
      "Epoch 45/100\n",
      "\u001b[1m16/16\u001b[0m \u001b[32m━━━━━━━━━━━━━━━━━━━━\u001b[0m\u001b[37m\u001b[0m \u001b[1m1s\u001b[0m 34ms/step - accuracy: 1.0000 - loss: 3.4177e-04 - val_accuracy: 0.5900 - val_loss: 1.2608\n",
      "Epoch 46/100\n",
      "\u001b[1m16/16\u001b[0m \u001b[32m━━━━━━━━━━━━━━━━━━━━\u001b[0m\u001b[37m\u001b[0m \u001b[1m1s\u001b[0m 33ms/step - accuracy: 1.0000 - loss: 4.4972e-04 - val_accuracy: 0.5800 - val_loss: 1.2686\n",
      "Epoch 47/100\n",
      "\u001b[1m16/16\u001b[0m \u001b[32m━━━━━━━━━━━━━━━━━━━━\u001b[0m\u001b[37m\u001b[0m \u001b[1m1s\u001b[0m 32ms/step - accuracy: 1.0000 - loss: 5.0056e-04 - val_accuracy: 0.5800 - val_loss: 1.2784\n",
      "Epoch 48/100\n",
      "\u001b[1m16/16\u001b[0m \u001b[32m━━━━━━━━━━━━━━━━━━━━\u001b[0m\u001b[37m\u001b[0m \u001b[1m1s\u001b[0m 33ms/step - accuracy: 1.0000 - loss: 3.1606e-04 - val_accuracy: 0.5800 - val_loss: 1.2844\n",
      "Epoch 49/100\n",
      "\u001b[1m16/16\u001b[0m \u001b[32m━━━━━━━━━━━━━━━━━━━━\u001b[0m\u001b[37m\u001b[0m \u001b[1m1s\u001b[0m 35ms/step - accuracy: 1.0000 - loss: 3.0500e-04 - val_accuracy: 0.5800 - val_loss: 1.2894\n",
      "Epoch 50/100\n",
      "\u001b[1m16/16\u001b[0m \u001b[32m━━━━━━━━━━━━━━━━━━━━\u001b[0m\u001b[37m\u001b[0m \u001b[1m1s\u001b[0m 35ms/step - accuracy: 1.0000 - loss: 3.2192e-04 - val_accuracy: 0.5900 - val_loss: 1.2957\n",
      "Epoch 51/100\n",
      "\u001b[1m16/16\u001b[0m \u001b[32m━━━━━━━━━━━━━━━━━━━━\u001b[0m\u001b[37m\u001b[0m \u001b[1m1s\u001b[0m 34ms/step - accuracy: 1.0000 - loss: 2.7054e-04 - val_accuracy: 0.5900 - val_loss: 1.3041\n",
      "Epoch 52/100\n",
      "\u001b[1m16/16\u001b[0m \u001b[32m━━━━━━━━━━━━━━━━━━━━\u001b[0m\u001b[37m\u001b[0m \u001b[1m1s\u001b[0m 33ms/step - accuracy: 1.0000 - loss: 3.2454e-04 - val_accuracy: 0.5800 - val_loss: 1.3204\n",
      "Epoch 53/100\n",
      "\u001b[1m16/16\u001b[0m \u001b[32m━━━━━━━━━━━━━━━━━━━━\u001b[0m\u001b[37m\u001b[0m \u001b[1m1s\u001b[0m 32ms/step - accuracy: 0.9957 - loss: 0.0096 - val_accuracy: 0.4800 - val_loss: 1.5714\n",
      "Epoch 54/100\n",
      "\u001b[1m16/16\u001b[0m \u001b[32m━━━━━━━━━━━━━━━━━━━━\u001b[0m\u001b[37m\u001b[0m \u001b[1m1s\u001b[0m 32ms/step - accuracy: 0.9389 - loss: 0.1923 - val_accuracy: 0.4000 - val_loss: 1.6989\n",
      "Epoch 55/100\n",
      "\u001b[1m16/16\u001b[0m \u001b[32m━━━━━━━━━━━━━━━━━━━━\u001b[0m\u001b[37m\u001b[0m \u001b[1m1s\u001b[0m 32ms/step - accuracy: 0.9437 - loss: 0.1581 - val_accuracy: 0.5700 - val_loss: 1.2478\n",
      "Epoch 56/100\n",
      "\u001b[1m16/16\u001b[0m \u001b[32m━━━━━━━━━━━━━━━━━━━━\u001b[0m\u001b[37m\u001b[0m \u001b[1m1s\u001b[0m 33ms/step - accuracy: 0.9595 - loss: 0.1509 - val_accuracy: 0.5000 - val_loss: 1.4908\n",
      "Epoch 57/100\n",
      "\u001b[1m16/16\u001b[0m \u001b[32m━━━━━━━━━━━━━━━━━━━━\u001b[0m\u001b[37m\u001b[0m \u001b[1m1s\u001b[0m 32ms/step - accuracy: 0.9574 - loss: 0.1408 - val_accuracy: 0.5700 - val_loss: 1.2590\n",
      "Epoch 58/100\n",
      "\u001b[1m16/16\u001b[0m \u001b[32m━━━━━━━━━━━━━━━━━━━━\u001b[0m\u001b[37m\u001b[0m \u001b[1m1s\u001b[0m 32ms/step - accuracy: 0.9822 - loss: 0.0672 - val_accuracy: 0.6500 - val_loss: 1.1501\n",
      "Epoch 59/100\n",
      "\u001b[1m16/16\u001b[0m \u001b[32m━━━━━━━━━━━━━━━━━━━━\u001b[0m\u001b[37m\u001b[0m \u001b[1m1s\u001b[0m 33ms/step - accuracy: 0.9994 - loss: 0.0151 - val_accuracy: 0.5700 - val_loss: 1.1875\n",
      "Epoch 60/100\n",
      "\u001b[1m16/16\u001b[0m \u001b[32m━━━━━━━━━━━━━━━━━━━━\u001b[0m\u001b[37m\u001b[0m \u001b[1m1s\u001b[0m 34ms/step - accuracy: 1.0000 - loss: 0.0129 - val_accuracy: 0.5600 - val_loss: 1.2032\n",
      "Epoch 61/100\n",
      "\u001b[1m16/16\u001b[0m \u001b[32m━━━━━━━━━━━━━━━━━━━━\u001b[0m\u001b[37m\u001b[0m \u001b[1m1s\u001b[0m 33ms/step - accuracy: 1.0000 - loss: 0.0036 - val_accuracy: 0.5700 - val_loss: 1.2391\n",
      "Epoch 62/100\n",
      "\u001b[1m16/16\u001b[0m \u001b[32m━━━━━━━━━━━━━━━━━━━━\u001b[0m\u001b[37m\u001b[0m \u001b[1m1s\u001b[0m 34ms/step - accuracy: 1.0000 - loss: 0.0032 - val_accuracy: 0.5700 - val_loss: 1.2358\n",
      "Epoch 63/100\n",
      "\u001b[1m16/16\u001b[0m \u001b[32m━━━━━━━━━━━━━━━━━━━━\u001b[0m\u001b[37m\u001b[0m \u001b[1m1s\u001b[0m 32ms/step - accuracy: 1.0000 - loss: 0.0027 - val_accuracy: 0.5600 - val_loss: 1.2393\n",
      "Epoch 64/100\n",
      "\u001b[1m16/16\u001b[0m \u001b[32m━━━━━━━━━━━━━━━━━━━━\u001b[0m\u001b[37m\u001b[0m \u001b[1m1s\u001b[0m 32ms/step - accuracy: 1.0000 - loss: 0.0023 - val_accuracy: 0.5500 - val_loss: 1.2567\n",
      "Epoch 65/100\n",
      "\u001b[1m16/16\u001b[0m \u001b[32m━━━━━━━━━━━━━━━━━━━━\u001b[0m\u001b[37m\u001b[0m \u001b[1m1s\u001b[0m 32ms/step - accuracy: 1.0000 - loss: 0.0021 - val_accuracy: 0.5500 - val_loss: 1.2743\n",
      "Epoch 66/100\n",
      "\u001b[1m16/16\u001b[0m \u001b[32m━━━━━━━━━━━━━━━━━━━━\u001b[0m\u001b[37m\u001b[0m \u001b[1m1s\u001b[0m 32ms/step - accuracy: 1.0000 - loss: 0.0015 - val_accuracy: 0.5600 - val_loss: 1.2718\n",
      "Epoch 67/100\n",
      "\u001b[1m16/16\u001b[0m \u001b[32m━━━━━━━━━━━━━━━━━━━━\u001b[0m\u001b[37m\u001b[0m \u001b[1m1s\u001b[0m 33ms/step - accuracy: 1.0000 - loss: 0.0018 - val_accuracy: 0.5400 - val_loss: 1.2582\n",
      "Epoch 68/100\n",
      "\u001b[1m16/16\u001b[0m \u001b[32m━━━━━━━━━━━━━━━━━━━━\u001b[0m\u001b[37m\u001b[0m \u001b[1m1s\u001b[0m 33ms/step - accuracy: 1.0000 - loss: 0.0012 - val_accuracy: 0.5400 - val_loss: 1.2607\n",
      "Epoch 69/100\n",
      "\u001b[1m16/16\u001b[0m \u001b[32m━━━━━━━━━━━━━━━━━━━━\u001b[0m\u001b[37m\u001b[0m \u001b[1m1s\u001b[0m 32ms/step - accuracy: 1.0000 - loss: 0.0015 - val_accuracy: 0.5500 - val_loss: 1.2700\n",
      "Epoch 70/100\n",
      "\u001b[1m16/16\u001b[0m \u001b[32m━━━━━━━━━━━━━━━━━━━━\u001b[0m\u001b[37m\u001b[0m \u001b[1m1s\u001b[0m 34ms/step - accuracy: 1.0000 - loss: 0.0014 - val_accuracy: 0.5600 - val_loss: 1.2792\n",
      "Epoch 71/100\n",
      "\u001b[1m16/16\u001b[0m \u001b[32m━━━━━━━━━━━━━━━━━━━━\u001b[0m\u001b[37m\u001b[0m \u001b[1m1s\u001b[0m 35ms/step - accuracy: 1.0000 - loss: 0.0013 - val_accuracy: 0.5500 - val_loss: 1.2849\n",
      "Epoch 72/100\n",
      "\u001b[1m16/16\u001b[0m \u001b[32m━━━━━━━━━━━━━━━━━━━━\u001b[0m\u001b[37m\u001b[0m \u001b[1m1s\u001b[0m 36ms/step - accuracy: 1.0000 - loss: 7.5219e-04 - val_accuracy: 0.5500 - val_loss: 1.2929\n",
      "Epoch 73/100\n",
      "\u001b[1m16/16\u001b[0m \u001b[32m━━━━━━━━━━━━━━━━━━━━\u001b[0m\u001b[37m\u001b[0m \u001b[1m1s\u001b[0m 37ms/step - accuracy: 1.0000 - loss: 9.8244e-04 - val_accuracy: 0.5600 - val_loss: 1.3022\n",
      "Epoch 74/100\n",
      "\u001b[1m16/16\u001b[0m \u001b[32m━━━━━━━━━━━━━━━━━━━━\u001b[0m\u001b[37m\u001b[0m \u001b[1m1s\u001b[0m 34ms/step - accuracy: 1.0000 - loss: 0.0012 - val_accuracy: 0.5700 - val_loss: 1.3181\n",
      "Epoch 75/100\n",
      "\u001b[1m16/16\u001b[0m \u001b[32m━━━━━━━━━━━━━━━━━━━━\u001b[0m\u001b[37m\u001b[0m \u001b[1m1s\u001b[0m 35ms/step - accuracy: 1.0000 - loss: 8.4583e-04 - val_accuracy: 0.5700 - val_loss: 1.3258\n",
      "Epoch 76/100\n",
      "\u001b[1m16/16\u001b[0m \u001b[32m━━━━━━━━━━━━━━━━━━━━\u001b[0m\u001b[37m\u001b[0m \u001b[1m1s\u001b[0m 36ms/step - accuracy: 1.0000 - loss: 0.0011 - val_accuracy: 0.5700 - val_loss: 1.3391\n",
      "Epoch 77/100\n",
      "\u001b[1m16/16\u001b[0m \u001b[32m━━━━━━━━━━━━━━━━━━━━\u001b[0m\u001b[37m\u001b[0m \u001b[1m1s\u001b[0m 32ms/step - accuracy: 1.0000 - loss: 7.2261e-04 - val_accuracy: 0.5700 - val_loss: 1.3476\n",
      "Epoch 78/100\n",
      "\u001b[1m16/16\u001b[0m \u001b[32m━━━━━━━━━━━━━━━━━━━━\u001b[0m\u001b[37m\u001b[0m \u001b[1m1s\u001b[0m 32ms/step - accuracy: 1.0000 - loss: 5.9243e-04 - val_accuracy: 0.5700 - val_loss: 1.3537\n",
      "Epoch 79/100\n",
      "\u001b[1m16/16\u001b[0m \u001b[32m━━━━━━━━━━━━━━━━━━━━\u001b[0m\u001b[37m\u001b[0m \u001b[1m1s\u001b[0m 34ms/step - accuracy: 1.0000 - loss: 7.9122e-04 - val_accuracy: 0.5700 - val_loss: 1.3576\n",
      "Epoch 80/100\n",
      "\u001b[1m16/16\u001b[0m \u001b[32m━━━━━━━━━━━━━━━━━━━━\u001b[0m\u001b[37m\u001b[0m \u001b[1m1s\u001b[0m 32ms/step - accuracy: 1.0000 - loss: 6.1878e-04 - val_accuracy: 0.5500 - val_loss: 1.3604\n",
      "Epoch 81/100\n",
      "\u001b[1m16/16\u001b[0m \u001b[32m━━━━━━━━━━━━━━━━━━━━\u001b[0m\u001b[37m\u001b[0m \u001b[1m1s\u001b[0m 31ms/step - accuracy: 1.0000 - loss: 5.8923e-04 - val_accuracy: 0.5500 - val_loss: 1.3697\n",
      "Epoch 82/100\n",
      "\u001b[1m16/16\u001b[0m \u001b[32m━━━━━━━━━━━━━━━━━━━━\u001b[0m\u001b[37m\u001b[0m \u001b[1m1s\u001b[0m 33ms/step - accuracy: 1.0000 - loss: 0.0010 - val_accuracy: 0.5500 - val_loss: 1.3858\n",
      "Epoch 83/100\n",
      "\u001b[1m16/16\u001b[0m \u001b[32m━━━━━━━━━━━━━━━━━━━━\u001b[0m\u001b[37m\u001b[0m \u001b[1m1s\u001b[0m 35ms/step - accuracy: 1.0000 - loss: 5.7655e-04 - val_accuracy: 0.5500 - val_loss: 1.3965\n",
      "Epoch 84/100\n",
      "\u001b[1m16/16\u001b[0m \u001b[32m━━━━━━━━━━━━━━━━━━━━\u001b[0m\u001b[37m\u001b[0m \u001b[1m1s\u001b[0m 39ms/step - accuracy: 1.0000 - loss: 5.0263e-04 - val_accuracy: 0.5500 - val_loss: 1.4042\n",
      "Epoch 85/100\n",
      "\u001b[1m16/16\u001b[0m \u001b[32m━━━━━━━━━━━━━━━━━━━━\u001b[0m\u001b[37m\u001b[0m \u001b[1m1s\u001b[0m 38ms/step - accuracy: 1.0000 - loss: 3.9217e-04 - val_accuracy: 0.5500 - val_loss: 1.4096\n",
      "Epoch 86/100\n",
      "\u001b[1m16/16\u001b[0m \u001b[32m━━━━━━━━━━━━━━━━━━━━\u001b[0m\u001b[37m\u001b[0m \u001b[1m1s\u001b[0m 34ms/step - accuracy: 1.0000 - loss: 4.5191e-04 - val_accuracy: 0.5600 - val_loss: 1.4042\n",
      "Epoch 87/100\n",
      "\u001b[1m16/16\u001b[0m \u001b[32m━━━━━━━━━━━━━━━━━━━━\u001b[0m\u001b[37m\u001b[0m \u001b[1m1s\u001b[0m 35ms/step - accuracy: 1.0000 - loss: 3.7555e-04 - val_accuracy: 0.5600 - val_loss: 1.3971\n",
      "Epoch 88/100\n",
      "\u001b[1m16/16\u001b[0m \u001b[32m━━━━━━━━━━━━━━━━━━━━\u001b[0m\u001b[37m\u001b[0m \u001b[1m1s\u001b[0m 36ms/step - accuracy: 1.0000 - loss: 4.1228e-04 - val_accuracy: 0.5600 - val_loss: 1.4032\n",
      "Epoch 89/100\n",
      "\u001b[1m16/16\u001b[0m \u001b[32m━━━━━━━━━━━━━━━━━━━━\u001b[0m\u001b[37m\u001b[0m \u001b[1m1s\u001b[0m 34ms/step - accuracy: 1.0000 - loss: 3.8219e-04 - val_accuracy: 0.5600 - val_loss: 1.4128\n",
      "Epoch 90/100\n",
      "\u001b[1m16/16\u001b[0m \u001b[32m━━━━━━━━━━━━━━━━━━━━\u001b[0m\u001b[37m\u001b[0m \u001b[1m1s\u001b[0m 34ms/step - accuracy: 1.0000 - loss: 3.4923e-04 - val_accuracy: 0.5600 - val_loss: 1.4095\n",
      "Epoch 91/100\n",
      "\u001b[1m16/16\u001b[0m \u001b[32m━━━━━━━━━━━━━━━━━━━━\u001b[0m\u001b[37m\u001b[0m \u001b[1m1s\u001b[0m 33ms/step - accuracy: 1.0000 - loss: 4.3955e-04 - val_accuracy: 0.5500 - val_loss: 1.4073\n",
      "Epoch 92/100\n",
      "\u001b[1m16/16\u001b[0m \u001b[32m━━━━━━━━━━━━━━━━━━━━\u001b[0m\u001b[37m\u001b[0m \u001b[1m1s\u001b[0m 33ms/step - accuracy: 1.0000 - loss: 6.3369e-04 - val_accuracy: 0.5600 - val_loss: 1.4127\n",
      "Epoch 93/100\n",
      "\u001b[1m16/16\u001b[0m \u001b[32m━━━━━━━━━━━━━━━━━━━━\u001b[0m\u001b[37m\u001b[0m \u001b[1m1s\u001b[0m 34ms/step - accuracy: 1.0000 - loss: 3.3855e-04 - val_accuracy: 0.5600 - val_loss: 1.4223\n",
      "Epoch 94/100\n",
      "\u001b[1m16/16\u001b[0m \u001b[32m━━━━━━━━━━━━━━━━━━━━\u001b[0m\u001b[37m\u001b[0m \u001b[1m1s\u001b[0m 34ms/step - accuracy: 1.0000 - loss: 4.3710e-04 - val_accuracy: 0.5600 - val_loss: 1.4369\n",
      "Epoch 95/100\n",
      "\u001b[1m16/16\u001b[0m \u001b[32m━━━━━━━━━━━━━━━━━━━━\u001b[0m\u001b[37m\u001b[0m \u001b[1m1s\u001b[0m 34ms/step - accuracy: 1.0000 - loss: 2.9819e-04 - val_accuracy: 0.5500 - val_loss: 1.4314\n",
      "Epoch 96/100\n",
      "\u001b[1m16/16\u001b[0m \u001b[32m━━━━━━━━━━━━━━━━━━━━\u001b[0m\u001b[37m\u001b[0m \u001b[1m1s\u001b[0m 33ms/step - accuracy: 1.0000 - loss: 2.6436e-04 - val_accuracy: 0.5500 - val_loss: 1.4247\n",
      "Epoch 97/100\n",
      "\u001b[1m16/16\u001b[0m \u001b[32m━━━━━━━━━━━━━━━━━━━━\u001b[0m\u001b[37m\u001b[0m \u001b[1m1s\u001b[0m 32ms/step - accuracy: 1.0000 - loss: 2.8837e-04 - val_accuracy: 0.5500 - val_loss: 1.4336\n",
      "Epoch 98/100\n",
      "\u001b[1m16/16\u001b[0m \u001b[32m━━━━━━━━━━━━━━━━━━━━\u001b[0m\u001b[37m\u001b[0m \u001b[1m1s\u001b[0m 35ms/step - accuracy: 1.0000 - loss: 2.9727e-04 - val_accuracy: 0.5500 - val_loss: 1.4391\n",
      "Epoch 99/100\n",
      "\u001b[1m16/16\u001b[0m \u001b[32m━━━━━━━━━━━━━━━━━━━━\u001b[0m\u001b[37m\u001b[0m \u001b[1m1s\u001b[0m 33ms/step - accuracy: 1.0000 - loss: 2.8456e-04 - val_accuracy: 0.5600 - val_loss: 1.4480\n",
      "Epoch 100/100\n",
      "\u001b[1m16/16\u001b[0m \u001b[32m━━━━━━━━━━━━━━━━━━━━\u001b[0m\u001b[37m\u001b[0m \u001b[1m1s\u001b[0m 33ms/step - accuracy: 1.0000 - loss: 4.1540e-04 - val_accuracy: 0.5400 - val_loss: 1.4468\n",
      "\u001b[1m13/13\u001b[0m \u001b[32m━━━━━━━━━━━━━━━━━━━━\u001b[0m\u001b[37m\u001b[0m \u001b[1m0s\u001b[0m 5ms/step - accuracy: 0.5805 - loss: 1.5887\n",
      "\n",
      "Akurasi akhir pada test set: 0.6050\n"
     ]
    }
   ],
   "source": [
    "from tensorflow.keras.callbacks import EarlyStopping\n",
    "\n",
    "# early_stopping = EarlyStopping(monitor='val_loss', patience=5, restore_best_weights=True)\n",
    "# model.fit(train_ds, validation_data=valid_ds, epochs=100, callbacks=[early_stopping])\n",
    "\n",
    "model.fit(train_ds, validation_data=valid_ds, epochs=100)\n",
    "\n",
    "\n",
    "# Evaluasi akhir\n",
    "test_loss, test_acc = model.evaluate(test_ds)\n",
    "print(f\"\\nAkurasi akhir pada test set: {test_acc:.4f}\")"
   ]
  },
  {
   "cell_type": "code",
   "execution_count": 267,
   "id": "cdb34216",
   "metadata": {},
   "outputs": [
    {
     "name": "stdout",
     "output_type": "stream",
     "text": [
      "\u001b[1m13/13\u001b[0m \u001b[32m━━━━━━━━━━━━━━━━━━━━\u001b[0m\u001b[37m\u001b[0m \u001b[1m1s\u001b[0m 27ms/step\n",
      "\n",
      "Macro F1-Score: 0.5583\n",
      "\n",
      "Classification Report:\n",
      "              precision    recall  f1-score   support\n",
      "\n",
      "    Negative       0.54      0.58      0.56       153\n",
      "     Neutral       0.39      0.27      0.32        96\n",
      "    Positive       0.76      0.84      0.80       151\n",
      "\n",
      "    accuracy                           0.60       400\n",
      "   macro avg       0.56      0.56      0.56       400\n",
      "weighted avg       0.58      0.60      0.59       400\n",
      "\n"
     ]
    },
    {
     "data": {
      "image/png": "[encoded data removed]",
      "text/plain": [
       "<Figure size 800x600 with 2 Axes>"
      ]
     },
     "metadata": {},
     "output_type": "display_data"
    }
   ],
   "source": [
    "# Import necessary metrics\n",
    "from sklearn.metrics import classification_report, f1_score, confusion_matrix\n",
    "import numpy as np\n",
    "import matplotlib.pyplot as plt\n",
    "import seaborn as sns\n",
    "\n",
    "# Get predictions on test set\n",
    "y_pred_probs = model.predict(test_ds)\n",
    "y_pred = np.argmax(y_pred_probs, axis=1)\n",
    "\n",
    "# Get true labels from test dataset (need to extract from the TensorFlow dataset)\n",
    "test_labels_list = []\n",
    "for _, labels in test_ds:\n",
    "    test_labels_list.append(labels.numpy())\n",
    "y_true = np.concatenate(test_labels_list, axis=0)\n",
    "y_true = y_true[:len(y_pred)]  # Match lengths in case of incomplete batches\n",
    "\n",
    "# Calculate macro F1-score\n",
    "f1_macro = f1_score(y_true, y_pred, average='macro')\n",
    "print(f\"\\nMacro F1-Score: {f1_macro:.4f}\")\n",
    "\n",
    "# Get detailed classification report\n",
    "print(\"\\nClassification Report:\")\n",
    "print(classification_report(y_true, y_pred, \n",
    "                          target_names=['Negative', 'Neutral', 'Positive']))\n",
    "\n",
    "# Generate confusion matrix\n",
    "cm = confusion_matrix(y_true, y_pred)\n",
    "plt.figure(figsize=(8, 6))\n",
    "sns.heatmap(cm, annot=True, fmt='d', cmap='Blues',\n",
    "            xticklabels=['Negative', 'Neutral', 'Positive'],\n",
    "            yticklabels=['Negative', 'Neutral', 'Positive'])\n",
    "plt.xlabel('Predicted')\n",
    "plt.ylabel('Actual')\n",
    "plt.title('Confusion Matrix')\n",
    "plt.tight_layout()\n",
    "plt.show()"
   ]
  },
  {
   "cell_type": "markdown",
   "id": "125019eb",
   "metadata": {},
   "source": [
    "## Load Keras Model"
   ]
  },
  {
   "cell_type": "code",
   "execution_count": 268,
   "id": "82ef3c46",
   "metadata": {},
   "outputs": [
    {
     "name": "stderr",
     "output_type": "stream",
     "text": [
      "WARNING:absl:You are saving your model as an HDF5 file via `model.save()` or `keras.saving.save_model(model)`. This file format is considered legacy. We recommend using instead the native Keras format, e.g. `model.save('my_model.keras')` or `keras.saving.save_model(model, 'my_model.keras')`. \n"
     ]
    }
   ],
   "source": [
    "model.save('models/keras_model_rnn.h5')"
   ]
  },
  {
   "cell_type": "code",
   "execution_count": 269,
   "id": "4364f349",
   "metadata": {},
   "outputs": [
    {
     "name": "stderr",
     "output_type": "stream",
     "text": [
      "WARNING:absl:Compiled the loaded model, but the compiled metrics have yet to be built. `model.compile_metrics` will be empty until you train or evaluate the model.\n"
     ]
    }
   ],
   "source": [
    "keras_model_rnn = tf.keras.models.load_model('models/keras_model_rnn.h5')"
   ]
  },
  {
   "cell_type": "code",
   "execution_count": 270,
   "id": "0b7b3f8d",
   "metadata": {},
   "outputs": [
    {
     "name": "stdout",
     "output_type": "stream",
     "text": [
      "Embedding\n",
      "Bidirectional\n",
      "creating new bidirectional layer\n",
      "Dropout\n",
      "creating new dropout layer\n",
      "Dense\n",
      "creating new dense layer\n"
     ]
    }
   ],
   "source": [
    "from loadRNN import load_scratch_model\n",
    "\n",
    "ScratchModel = load_scratch_model(keras_model_rnn)"
   ]
  },
  {
   "cell_type": "markdown",
   "id": "b36dcb0d",
   "metadata": {},
   "source": [
    "## Predict Scratch Model"
   ]
  },
  {
   "cell_type": "code",
   "execution_count": 271,
   "id": "68c74b37",
   "metadata": {},
   "outputs": [
    {
     "name": "stdout",
     "output_type": "stream",
     "text": [
      "Using vectorizer from global scope\n",
      "Processing batch 1/13\n",
      "  Layer 1: EmbeddingWrapper\n",
      "  Layer 2: Bidirectional\n",
      "  Layer 3: Dropout\n",
      "  Layer 4: Dense\n",
      "Processing batch 2/13\n",
      "  Layer 1: EmbeddingWrapper\n",
      "  Layer 2: Bidirectional\n",
      "  Layer 3: Dropout\n",
      "  Layer 4: Dense\n",
      "Processing batch 3/13\n",
      "  Layer 1: EmbeddingWrapper\n",
      "  Layer 2: Bidirectional\n",
      "  Layer 3: Dropout\n",
      "  Layer 4: Dense\n",
      "Processing batch 4/13\n",
      "  Layer 1: EmbeddingWrapper\n",
      "  Layer 2: Bidirectional\n",
      "  Layer 3: Dropout\n",
      "  Layer 4: Dense\n",
      "Processing batch 5/13\n",
      "  Layer 1: EmbeddingWrapper\n",
      "  Layer 2: Bidirectional\n",
      "  Layer 3: Dropout\n",
      "  Layer 4: Dense\n",
      "Processing batch 6/13\n",
      "  Layer 1: EmbeddingWrapper\n",
      "  Layer 2: Bidirectional\n",
      "  Layer 3: Dropout\n",
      "  Layer 4: Dense\n",
      "Processing batch 7/13\n",
      "  Layer 1: EmbeddingWrapper\n",
      "  Layer 2: Bidirectional\n",
      "  Layer 3: Dropout\n",
      "  Layer 4: Dense\n",
      "Processing batch 8/13\n",
      "  Layer 1: EmbeddingWrapper\n",
      "  Layer 2: Bidirectional\n",
      "  Layer 3: Dropout\n",
      "  Layer 4: Dense\n",
      "Processing batch 9/13\n",
      "  Layer 1: EmbeddingWrapper\n",
      "  Layer 2: Bidirectional\n",
      "  Layer 3: Dropout\n",
      "  Layer 4: Dense\n",
      "Processing batch 10/13\n",
      "  Layer 1: EmbeddingWrapper\n",
      "  Layer 2: Bidirectional\n",
      "  Layer 3: Dropout\n",
      "  Layer 4: Dense\n",
      "Processing batch 11/13\n",
      "  Layer 1: EmbeddingWrapper\n",
      "  Layer 2: Bidirectional\n",
      "  Layer 3: Dropout\n",
      "  Layer 4: Dense\n",
      "Processing batch 12/13\n",
      "  Layer 1: EmbeddingWrapper\n",
      "  Layer 2: Bidirectional\n",
      "  Layer 3: Dropout\n",
      "  Layer 4: Dense\n",
      "Processing batch 13/13\n",
      "  Layer 1: EmbeddingWrapper\n",
      "  Layer 2: Bidirectional\n",
      "  Layer 3: Dropout\n",
      "  Layer 4: Dense\n",
      "Prediction complete\n"
     ]
    }
   ],
   "source": [
    "\n",
    "from predictRNN import predict\n",
    "# Convert pandas Series to numpy array\n",
    "test_texts_array = test_texts.to_numpy()\n",
    "\n",
    "# Now predict with numpy array\n",
    "preds = predict(ScratchModel, test_texts_array)\n",
    "\n",
    "# Add validation and normalization step\n",
    "preds = np.clip(preds, 1e-7, 1.0 - 1e-7)\n",
    "preds = preds / np.sum(preds, axis=1, keepdims=True)"
   ]
  },
  {
   "cell_type": "code",
   "execution_count": 272,
   "id": "a2e954be",
   "metadata": {},
   "outputs": [
    {
     "name": "stdout",
     "output_type": "stream",
     "text": [
      "Macro F1-Score on Test Set: 0.4610059788867736\n"
     ]
    }
   ],
   "source": [
    "preds_classes = np.argmax(preds, axis=1)\n",
    "\n",
    "\n",
    "# Hitung Macro F1\n",
    "scratch_macro_f1 = f1_score(test_labels, preds_classes, average='macro')\n",
    "print(\"Macro F1-Score on Test Set:\", scratch_macro_f1)"
   ]
  },
  {
   "cell_type": "code",
   "execution_count": 273,
   "id": "890658c3",
   "metadata": {},
   "outputs": [],
   "source": [
    "import numpy as np\n",
    "import tensorflow as tf\n",
    "\n",
    "def compare_weights(keras_model, scratch_model):\n",
    "    \"\"\"\n",
    "    Compare weights between Keras model and scratch implementation\n",
    "    Returns a dictionary with comparison results for each layer\n",
    "    \"\"\"\n",
    "    results = {}\n",
    "    keras_layers = [l for l in keras_model.layers if not isinstance(l, tf.keras.layers.TextVectorization)]\n",
    "    \n",
    "    for i, (keras_layer, scratch_layer) in enumerate(zip(keras_layers, scratch_model)):\n",
    "        layer_name = keras_layer.__class__.__name__\n",
    "        print(f\"\\nChecking {layer_name} (Layer {i+1}):\")\n",
    "        \n",
    "        if layer_name == \"Embedding\":\n",
    "            keras_weights = keras_layer.get_weights()[0]\n",
    "            scratch_weights = scratch_layer.layer.get_weights()[0]\n",
    "            weight_diff = np.mean(np.abs(keras_weights - scratch_weights))\n",
    "            results[f\"layer_{i}_embedding\"] = {\n",
    "                \"mean_diff\": weight_diff,\n",
    "                \"shapes_match\": keras_weights.shape == scratch_weights.shape\n",
    "            }\n",
    "            print(f\"Embedding weights difference: {weight_diff:.8f}\")\n",
    "            print(f\"Shapes match: {keras_weights.shape == scratch_weights.shape}\")\n",
    "            \n",
    "        elif layer_name == \"SimpleRNN\":\n",
    "            keras_weights = keras_layer.get_weights()\n",
    "            scratch_weights = [\n",
    "                scratch_layer.kernel,\n",
    "                scratch_layer.recurrent_kernel,\n",
    "                scratch_layer.bias\n",
    "            ]\n",
    "            for j, (k_w, s_w) in enumerate(zip(keras_weights, scratch_weights)):\n",
    "                weight_diff = np.mean(np.abs(k_w - s_w))\n",
    "                results[f\"layer_{i}_rnn_part_{j}\"] = {\n",
    "                    \"mean_diff\": weight_diff,\n",
    "                    \"shapes_match\": k_w.shape == s_w.shape\n",
    "                }\n",
    "                print(f\"RNN weights part {j} difference: {weight_diff:.8f}\")\n",
    "                print(f\"Shapes match: {k_w.shape == s_w.shape}\")\n",
    "                \n",
    "        elif layer_name == \"Bidirectional\":\n",
    "            # Check forward layer\n",
    "            k_forward = keras_layer.forward_layer.get_weights()\n",
    "            s_forward = [\n",
    "                scratch_layer.forward_layer.kernel,\n",
    "                scratch_layer.forward_layer.recurrent_kernel,\n",
    "                scratch_layer.forward_layer.bias\n",
    "            ]\n",
    "            \n",
    "            # Check backward layer\n",
    "            k_backward = keras_layer.backward_layer.get_weights()\n",
    "            s_backward = [\n",
    "                scratch_layer.backward_layer.kernel,\n",
    "                scratch_layer.backward_layer.recurrent_kernel,\n",
    "                scratch_layer.backward_layer.bias\n",
    "            ]\n",
    "            \n",
    "            for j, (k_w, s_w) in enumerate(zip(k_forward + k_backward, s_forward + s_backward)):\n",
    "                weight_diff = np.mean(np.abs(k_w - s_w))\n",
    "                results[f\"layer_{i}_bidirectional_part_{j}\"] = {\n",
    "                    \"mean_diff\": weight_diff,\n",
    "                    \"shapes_match\": k_w.shape == s_w.shape\n",
    "                }\n",
    "                print(f\"Bidirectional weights part {j} difference: {weight_diff:.8f}\")\n",
    "                print(f\"Shapes match: {k_w.shape == s_w.shape}\")\n",
    "                \n",
    "        elif layer_name == \"Dense\":\n",
    "            keras_weights = keras_layer.get_weights()\n",
    "            scratch_weights = [scratch_layer.weights, scratch_layer.bias]\n",
    "            for j, (k_w, s_w) in enumerate(zip(keras_weights, scratch_weights)):\n",
    "                weight_diff = np.mean(np.abs(k_w - s_w))\n",
    "                results[f\"layer_{i}_dense_part_{j}\"] = {\n",
    "                    \"mean_diff\": weight_diff,\n",
    "                    \"shapes_match\": k_w.shape == s_w.shape\n",
    "                }\n",
    "                print(f\"Dense weights part {j} difference: {weight_diff:.8f}\")\n",
    "                print(f\"Shapes match: {k_w.shape == s_w.shape}\")\n",
    "    \n",
    "    return results"
   ]
  },
  {
   "cell_type": "code",
   "execution_count": 274,
   "id": "298cd54f",
   "metadata": {},
   "outputs": [
    {
     "name": "stdout",
     "output_type": "stream",
     "text": [
      "\n",
      "Checking Embedding (Layer 1):\n",
      "Embedding weights difference: 0.00000000\n",
      "Shapes match: True\n",
      "\n",
      "Checking Bidirectional (Layer 2):\n",
      "Bidirectional weights part 0 difference: 0.00000000\n",
      "Shapes match: True\n",
      "Bidirectional weights part 1 difference: 0.00000000\n",
      "Shapes match: True\n",
      "Bidirectional weights part 2 difference: 0.00000000\n",
      "Shapes match: True\n",
      "Bidirectional weights part 3 difference: 0.00000000\n",
      "Shapes match: True\n",
      "Bidirectional weights part 4 difference: 0.00000000\n",
      "Shapes match: True\n",
      "Bidirectional weights part 5 difference: 0.00000000\n",
      "Shapes match: True\n",
      "\n",
      "Checking Dropout (Layer 3):\n",
      "\n",
      "Checking Dense (Layer 4):\n",
      "Dense weights part 0 difference: 0.00000000\n",
      "Shapes match: True\n",
      "Dense weights part 1 difference: 0.00000000\n",
      "Shapes match: True\n",
      "\n",
      "Weight Transfer Summary:\n",
      "--------------------------------------------------\n",
      "\n",
      "Average weight difference: 0.00000000\n",
      "All shapes match: True\n"
     ]
    }
   ],
   "source": [
    "# # Add to rnn_classification.ipynb\n",
    "# from validate_weights import compare_weights\n",
    "\n",
    "# Compare weights\n",
    "weight_comparison = compare_weights(keras_model_rnn, ScratchModel)\n",
    "\n",
    "# Print summary of differences\n",
    "print(\"\\nWeight Transfer Summary:\")\n",
    "print(\"-\" * 50)\n",
    "total_diff = 0\n",
    "count = 0\n",
    "for key, value in weight_comparison.items():\n",
    "    total_diff += value[\"mean_diff\"]\n",
    "    count += 1\n",
    "    if value[\"mean_diff\"] > 1e-6:  # Threshold for significant differences\n",
    "        print(f\"Warning: Large difference in {key}: {value['mean_diff']:.8f}\")\n",
    "    if not value[\"shapes_match\"]:\n",
    "        print(f\"Error: Shape mismatch in {key}\")\n",
    "\n",
    "print(f\"\\nAverage weight difference: {total_diff/count:.8f}\")\n",
    "print(f\"All shapes match: {all(v['shapes_match'] for v in weight_comparison.values())}\")"
   ]
  },
  {
   "cell_type": "code",
   "execution_count": 275,
   "id": "accfd12a",
   "metadata": {},
   "outputs": [],
   "source": [
    "def compare_configs(keras_model, scratch_model):\n",
    "    \"\"\"\n",
    "    Compare configurations between Keras model and scratch implementation\n",
    "    Returns a dictionary with comparison results for each layer\n",
    "    \"\"\"\n",
    "    results = {}\n",
    "    keras_layers = [l for l in keras_model.layers if not isinstance(l, tf.keras.layers.TextVectorization)]\n",
    "    \n",
    "    for i, (keras_layer, scratch_layer) in enumerate(zip(keras_layers, scratch_model)):\n",
    "        layer_name = keras_layer.__class__.__name__\n",
    "        print(f\"\\nChecking {layer_name} (Layer {i+1}) configuration:\")\n",
    "        \n",
    "        if layer_name == \"Embedding\":\n",
    "            keras_config = keras_layer.get_config()\n",
    "            results[f\"layer_{i}_embedding\"] = {\n",
    "                \"input_dim_match\": keras_config['input_dim'] == scratch_layer.layer.input_dim,\n",
    "                \"output_dim_match\": keras_config['output_dim'] == scratch_layer.layer.output_dim,\n",
    "                \"mask_zero_match\": keras_config['mask_zero'] == scratch_layer.layer.mask_zero\n",
    "            }\n",
    "            print(f\"Input dim match: {results[f'layer_{i}_embedding']['input_dim_match']}\")\n",
    "            print(f\"Output dim match: {results[f'layer_{i}_embedding']['output_dim_match']}\")\n",
    "            print(f\"Mask zero match: {results[f'layer_{i}_embedding']['mask_zero_match']}\")\n",
    "            \n",
    "        elif layer_name == \"SimpleRNN\":\n",
    "            keras_config = keras_layer.get_config()\n",
    "            results[f\"layer_{i}_rnn\"] = {\n",
    "                \"units_match\": keras_config['units'] == scratch_layer.units,\n",
    "                \"activation_match\": keras_config['activation'] == 'tanh'  # Assuming tanh is used\n",
    "            }\n",
    "            print(f\"Units match: {results[f'layer_{i}_rnn']['units_match']}\")\n",
    "            print(f\"Activation match: {results[f'layer_{i}_rnn']['activation_match']}\")\n",
    "            \n",
    "        elif layer_name == \"Bidirectional\":\n",
    "            keras_forward_config = keras_layer.forward_layer.get_config()\n",
    "            keras_backward_config = keras_layer.backward_layer.get_config()\n",
    "            \n",
    "            results[f\"layer_{i}_bidirectional\"] = {\n",
    "                \"forward_units_match\": keras_forward_config['units'] == scratch_layer.forward_layer.units,\n",
    "                \"backward_units_match\": keras_backward_config['units'] == scratch_layer.backward_layer.units,\n",
    "                \"merge_mode_match\": True  # Assuming concat is default\n",
    "            }\n",
    "            print(f\"Forward units match: {results[f'layer_{i}_bidirectional']['forward_units_match']}\")\n",
    "            print(f\"Backward units match: {results[f'layer_{i}_bidirectional']['backward_units_match']}\")\n",
    "            print(f\"Merge mode match: {results[f'layer_{i}_bidirectional']['merge_mode_match']}\")\n",
    "            \n",
    "        elif layer_name == \"Dropout\":\n",
    "            keras_config = keras_layer.get_config()\n",
    "            results[f\"layer_{i}_dropout\"] = {\n",
    "                \"rate_match\": keras_config['rate'] == scratch_layer.rate\n",
    "            }\n",
    "            print(f\"Dropout rate match: {results[f'layer_{i}_dropout']['rate_match']}\")\n",
    "            \n",
    "        elif layer_name == \"Dense\":\n",
    "            keras_config = keras_layer.get_config()\n",
    "            results[f\"layer_{i}_dense\"] = {\n",
    "                \"units_match\": keras_config['units'] == scratch_layer.weights.shape[1],\n",
    "                \"activation_match\": keras_config['activation'] == scratch_layer.activation\n",
    "            }\n",
    "            print(f\"Units match: {results[f'layer_{i}_dense']['units_match']}\")\n",
    "            print(f\"Activation match: {results[f'layer_{i}_dense']['activation_match']}\")\n",
    "    \n",
    "    return results"
   ]
  },
  {
   "cell_type": "code",
   "execution_count": 276,
   "id": "747f828f",
   "metadata": {},
   "outputs": [
    {
     "name": "stdout",
     "output_type": "stream",
     "text": [
      "\n",
      "Checking Embedding (Layer 1) configuration:\n",
      "Input dim match: True\n",
      "Output dim match: True\n",
      "Mask zero match: True\n",
      "\n",
      "Checking Bidirectional (Layer 2) configuration:\n",
      "Forward units match: True\n",
      "Backward units match: True\n",
      "Merge mode match: True\n",
      "\n",
      "Checking Dropout (Layer 3) configuration:\n",
      "Dropout rate match: True\n",
      "\n",
      "Checking Dense (Layer 4) configuration:\n",
      "Units match: True\n",
      "Activation match: True\n",
      "\n",
      "Configuration Transfer Summary:\n",
      "--------------------------------------------------\n",
      "\n",
      "layer_0_embedding:\n",
      "\n",
      "layer_1_bidirectional:\n",
      "\n",
      "layer_2_dropout:\n",
      "\n",
      "layer_3_dense:\n",
      "\n",
      "All configurations match: True\n"
     ]
    }
   ],
   "source": [
    "# # Add to rnn_classification.ipynb\n",
    "# from validate_config import compare_configs\n",
    "\n",
    "# Compare configurations\n",
    "config_comparison = compare_configs(keras_model_rnn, ScratchModel)\n",
    "\n",
    "# Print summary of configuration differences\n",
    "print(\"\\nConfiguration Transfer Summary:\")\n",
    "print(\"-\" * 50)\n",
    "all_match = True\n",
    "for layer_name, configs in config_comparison.items():\n",
    "    print(f\"\\n{layer_name}:\")\n",
    "    for config_name, matches in configs.items():\n",
    "        if not matches:\n",
    "            all_match = False\n",
    "            print(f\"Warning: Mismatch in {config_name}\")\n",
    "            \n",
    "print(f\"\\nAll configurations match: {all_match}\")"
   ]
  }
 ],
 "metadata": {
  "kernelspec": {
   "display_name": ".venv",
   "language": "python",
   "name": "python3"
  },
  "language_info": {
   "codemirror_mode": {
    "name": "ipython",
    "version": 3
   },
   "file_extension": ".py",
   "mimetype": "text/x-python",
   "name": "python",
   "nbconvert_exporter": "python",
   "pygments_lexer": "ipython3",
   "version": "3.12.0"
  }
 },
 "nbformat": 4,
 "nbformat_minor": 5
}
