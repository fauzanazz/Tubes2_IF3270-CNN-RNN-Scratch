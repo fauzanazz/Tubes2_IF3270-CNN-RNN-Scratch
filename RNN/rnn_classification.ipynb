{
 "cells": [
  {
   "cell_type": "code",
   "execution_count": 268,
   "id": "0379d775",
   "metadata": {},
   "outputs": [],
   "source": [
    "import pandas as pd\n",
    "import tensorflow as tf\n",
    "from tensorflow import keras"
   ]
  },
  {
   "cell_type": "code",
   "execution_count": 269,
   "id": "152ccb39",
   "metadata": {},
   "outputs": [],
   "source": [
    "import random\n",
    "import numpy as np\n",
    "\n",
    "# Set seeds for reproducibility\n",
    "seed_value = 42\n",
    "random.seed(seed_value)\n",
    "np.random.seed(seed_value)\n",
    "tf.random.set_seed(seed_value)\n",
    "\n",
    "# For even more determinism (may slow down training)\n",
    "tf.config.experimental.enable_op_determinism()"
   ]
  },
  {
   "cell_type": "code",
   "execution_count": 270,
   "id": "421c5ca9",
   "metadata": {},
   "outputs": [],
   "source": [
    "train_data = pd.read_csv('data/train.csv')\n",
    "valid_data = pd.read_csv('data/valid.csv')\n",
    "test_data = pd.read_csv('data/test.csv')"
   ]
  },
  {
   "cell_type": "code",
   "execution_count": 271,
   "id": "c200f6ba",
   "metadata": {},
   "outputs": [],
   "source": [
    "# 2. Map string labels to integers (right after loading)\n",
    "label_map = {'negative': 0, 'neutral': 1, 'positive': 2}\n",
    "train_data['label'] = train_data['label'].map(label_map)\n",
    "valid_data['label'] = valid_data['label'].map(label_map)\n",
    "test_data['label']  = test_data['label'].map(label_map)\n",
    "\n",
    "# (Optional but recommended) drop rows with unmapped or NaN labels\n",
    "train_data = train_data.dropna()\n",
    "valid_data = valid_data.dropna()\n",
    "test_data  = test_data.dropna()\n"
   ]
  },
  {
   "cell_type": "code",
   "execution_count": 272,
   "id": "931eb21f",
   "metadata": {},
   "outputs": [],
   "source": [
    "# Ambil teks dan label\n",
    "train_texts, train_labels = train_data['text'], train_data['label']\n",
    "valid_texts, valid_labels = valid_data['text'], valid_data['label']\n",
    "test_texts,  test_labels  = test_data['text'],  test_data['label']"
   ]
  },
  {
   "cell_type": "code",
   "execution_count": 273,
   "id": "d7991468",
   "metadata": {},
   "outputs": [],
   "source": [
    "from tensorflow.keras.layers import TextVectorization\n",
    "\n",
    "# Buat vectorizer berdasarkan training saja\n",
    "vectorizer = TextVectorization(max_tokens=20000, output_mode=\"int\", output_sequence_length=100)\n",
    "vectorizer.adapt(train_texts)"
   ]
  },
  {
   "cell_type": "code",
   "execution_count": 274,
   "id": "ad81a55a",
   "metadata": {},
   "outputs": [],
   "source": [
    "# Siapkan dataset TensorFlow\n",
    "batch_size = 32\n",
    "train_ds = tf.data.Dataset.from_tensor_slices((train_texts, train_labels)).batch(batch_size).prefetch(tf.data.AUTOTUNE)\n",
    "valid_ds = tf.data.Dataset.from_tensor_slices((valid_texts, valid_labels)).batch(batch_size).prefetch(tf.data.AUTOTUNE)\n",
    "test_ds  = tf.data.Dataset.from_tensor_slices((test_texts,  test_labels)).batch(batch_size).prefetch(tf.data.AUTOTUNE)"
   ]
  },
  {
   "cell_type": "code",
   "execution_count": 275,
   "id": "d67455dd",
   "metadata": {},
   "outputs": [
    {
     "name": "stdout",
     "output_type": "stream",
     "text": [
      "Sample text: Nikmati cicilan 0% hingga 12 bulan untuk pemesanan tiket pesawat air asia dengan kartu kredit bni!\n",
      "Sample label: 1 Type: <class 'numpy.int64'>\n",
      "\n",
      "First batch of train_ds:\n",
      "Text shape: (32,)\n",
      "Label shape: (32,)\n",
      "Label values: [1 2 1 2 2 1 1 0 0 2 2 0 0 2 2 2 1 1 1 0 1 2 2 0 1 0 0 0 0 2 2 1]\n"
     ]
    }
   ],
   "source": [
    "# Add this before training to check data types\n",
    "print(\"Sample text:\", train_texts.iloc[0])\n",
    "print(\"Sample label:\", train_labels.iloc[0], \"Type:\", type(train_labels.iloc[0]))\n",
    "\n",
    "# Check the shape and first few elements of each dataset\n",
    "print(\"\\nFirst batch of train_ds:\")\n",
    "for text_batch, label_batch in train_ds.take(1):\n",
    "    print(\"Text shape:\", text_batch.shape)\n",
    "    print(\"Label shape:\", label_batch.shape)\n",
    "    print(\"Label values:\", label_batch.numpy())"
   ]
  },
  {
   "cell_type": "code",
   "execution_count": 276,
   "id": "897735ee",
   "metadata": {},
   "outputs": [],
   "source": [
    "# Import required modules\n",
    "import pandas as pd\n",
    "import tensorflow as tf\n",
    "from tensorflow import keras\n",
    "from tensorflow.keras.models import Sequential\n",
    "from tensorflow.keras.layers import TextVectorization, Embedding, SimpleRNN, Bidirectional, Dropout, Dense\n",
    "\n",
    "\n",
    "model = Sequential([\n",
    "    vectorizer,\n",
    "    Embedding(input_dim=20000, output_dim=128, mask_zero=True),\n",
    "    Bidirectional(SimpleRNN(64)),\n",
    "    Dropout(0.5),\n",
    "    Dense(3, activation=\"softmax\")\n",
    "])"
   ]
  },
  {
   "cell_type": "code",
   "execution_count": 277,
   "id": "0038ed7f",
   "metadata": {},
   "outputs": [],
   "source": [
    "model.compile(\n",
    "    optimizer='adam',\n",
    "    loss='sparse_categorical_crossentropy',\n",
    "    metrics=['accuracy']\n",
    ")"
   ]
  },
  {
   "cell_type": "code",
   "execution_count": 278,
   "id": "11b6ac30",
   "metadata": {},
   "outputs": [
    {
     "name": "stdout",
     "output_type": "stream",
     "text": [
      "Epoch 1/100\n",
      "\u001b[1m16/16\u001b[0m \u001b[32m━━━━━━━━━━━━━━━━━━━━\u001b[0m\u001b[37m\u001b[0m \u001b[1m10s\u001b[0m 124ms/step - accuracy: 0.4217 - loss: 1.0480 - val_accuracy: 0.5100 - val_loss: 0.9953\n",
      "Epoch 2/100\n",
      "\u001b[1m16/16\u001b[0m \u001b[32m━━━━━━━━━━━━━━━━━━━━\u001b[0m\u001b[37m\u001b[0m \u001b[1m1s\u001b[0m 65ms/step - accuracy: 0.8681 - loss: 0.6760 - val_accuracy: 0.5100 - val_loss: 1.0112\n",
      "Epoch 3/100\n",
      "\u001b[1m16/16\u001b[0m \u001b[32m━━━━━━━━━━━━━━━━━━━━\u001b[0m\u001b[37m\u001b[0m \u001b[1m1s\u001b[0m 62ms/step - accuracy: 0.9690 - loss: 0.3723 - val_accuracy: 0.5400 - val_loss: 0.9046\n",
      "Epoch 4/100\n",
      "\u001b[1m16/16\u001b[0m \u001b[32m━━━━━━━━━━━━━━━━━━━━\u001b[0m\u001b[37m\u001b[0m \u001b[1m1s\u001b[0m 61ms/step - accuracy: 0.9818 - loss: 0.1778 - val_accuracy: 0.4800 - val_loss: 1.0455\n",
      "Epoch 5/100\n",
      "\u001b[1m16/16\u001b[0m \u001b[32m━━━━━━━━━━━━━━━━━━━━\u001b[0m\u001b[37m\u001b[0m \u001b[1m1s\u001b[0m 63ms/step - accuracy: 0.9928 - loss: 0.0978 - val_accuracy: 0.6400 - val_loss: 0.8403\n",
      "Epoch 6/100\n",
      "\u001b[1m16/16\u001b[0m \u001b[32m━━━━━━━━━━━━━━━━━━━━\u001b[0m\u001b[37m\u001b[0m \u001b[1m1s\u001b[0m 62ms/step - accuracy: 0.9979 - loss: 0.0401 - val_accuracy: 0.6200 - val_loss: 0.9208\n",
      "Epoch 7/100\n",
      "\u001b[1m16/16\u001b[0m \u001b[32m━━━━━━━━━━━━━━━━━━━━\u001b[0m\u001b[37m\u001b[0m \u001b[1m1s\u001b[0m 64ms/step - accuracy: 1.0000 - loss: 0.0229 - val_accuracy: 0.6600 - val_loss: 0.9073\n",
      "Epoch 8/100\n",
      "\u001b[1m16/16\u001b[0m \u001b[32m━━━━━━━━━━━━━━━━━━━━\u001b[0m\u001b[37m\u001b[0m \u001b[1m1s\u001b[0m 65ms/step - accuracy: 1.0000 - loss: 0.0134 - val_accuracy: 0.6200 - val_loss: 0.9235\n",
      "Epoch 9/100\n",
      "\u001b[1m16/16\u001b[0m \u001b[32m━━━━━━━━━━━━━━━━━━━━\u001b[0m\u001b[37m\u001b[0m \u001b[1m1s\u001b[0m 64ms/step - accuracy: 1.0000 - loss: 0.0096 - val_accuracy: 0.6400 - val_loss: 0.9516\n",
      "Epoch 10/100\n",
      "\u001b[1m16/16\u001b[0m \u001b[32m━━━━━━━━━━━━━━━━━━━━\u001b[0m\u001b[37m\u001b[0m \u001b[1m1s\u001b[0m 71ms/step - accuracy: 1.0000 - loss: 0.0076 - val_accuracy: 0.6400 - val_loss: 0.9731\n",
      "\u001b[1m13/13\u001b[0m \u001b[32m━━━━━━━━━━━━━━━━━━━━\u001b[0m\u001b[37m\u001b[0m \u001b[1m0s\u001b[0m 15ms/step - accuracy: 0.6203 - loss: 0.8376\n",
      "\n",
      "Akurasi akhir pada test set: 0.6525\n"
     ]
    }
   ],
   "source": [
    "from tensorflow.keras.callbacks import EarlyStopping\n",
    "\n",
    "early_stopping = EarlyStopping(monitor='val_loss', patience=5, restore_best_weights=True)\n",
    "model.fit(train_ds, validation_data=valid_ds, epochs=100, callbacks=[early_stopping])\n",
    "\n",
    "\n",
    "# Evaluasi akhir\n",
    "test_loss, test_acc = model.evaluate(test_ds)\n",
    "print(f\"\\nAkurasi akhir pada test set: {test_acc:.4f}\")"
   ]
  },
  {
   "cell_type": "code",
   "execution_count": 279,
   "id": "cdb34216",
   "metadata": {},
   "outputs": [
    {
     "name": "stdout",
     "output_type": "stream",
     "text": [
      "\u001b[1m13/13\u001b[0m \u001b[32m━━━━━━━━━━━━━━━━━━━━\u001b[0m\u001b[37m\u001b[0m \u001b[1m1s\u001b[0m 61ms/step\n",
      "\n",
      "Macro F1-Score: 0.6315\n",
      "\n",
      "Classification Report:\n",
      "              precision    recall  f1-score   support\n",
      "\n",
      "    Negative       0.57      0.67      0.61       153\n",
      "     Neutral       0.58      0.44      0.50        96\n",
      "    Positive       0.79      0.77      0.78       151\n",
      "\n",
      "    accuracy                           0.65       400\n",
      "   macro avg       0.65      0.63      0.63       400\n",
      "weighted avg       0.65      0.65      0.65       400\n",
      "\n"
     ]
    },
    {
     "data": {
      "image/png": "[encoded data removed]",
      "text/plain": [
       "<Figure size 800x600 with 2 Axes>"
      ]
     },
     "metadata": {},
     "output_type": "display_data"
    }
   ],
   "source": [
    "# Import necessary metrics\n",
    "from sklearn.metrics import classification_report, f1_score, confusion_matrix\n",
    "import numpy as np\n",
    "import matplotlib.pyplot as plt\n",
    "import seaborn as sns\n",
    "\n",
    "# Get predictions on test set\n",
    "y_pred_probs = model.predict(test_ds)\n",
    "y_pred = np.argmax(y_pred_probs, axis=1)\n",
    "\n",
    "# Get true labels from test dataset (need to extract from the TensorFlow dataset)\n",
    "test_labels_list = []\n",
    "for _, labels in test_ds:\n",
    "    test_labels_list.append(labels.numpy())\n",
    "y_true = np.concatenate(test_labels_list, axis=0)\n",
    "y_true = y_true[:len(y_pred)]  # Match lengths in case of incomplete batches\n",
    "\n",
    "# Calculate macro F1-score\n",
    "f1_macro = f1_score(y_true, y_pred, average='macro')\n",
    "print(f\"\\nMacro F1-Score: {f1_macro:.4f}\")\n",
    "\n",
    "# Get detailed classification report\n",
    "print(\"\\nClassification Report:\")\n",
    "print(classification_report(y_true, y_pred, \n",
    "                          target_names=['Negative', 'Neutral', 'Positive']))\n",
    "\n",
    "# Generate confusion matrix\n",
    "cm = confusion_matrix(y_true, y_pred)\n",
    "plt.figure(figsize=(8, 6))\n",
    "sns.heatmap(cm, annot=True, fmt='d', cmap='Blues',\n",
    "            xticklabels=['Negative', 'Neutral', 'Positive'],\n",
    "            yticklabels=['Negative', 'Neutral', 'Positive'])\n",
    "plt.xlabel('Predicted')\n",
    "plt.ylabel('Actual')\n",
    "plt.title('Confusion Matrix')\n",
    "plt.tight_layout()\n",
    "plt.show()"
   ]
  },
  {
   "cell_type": "markdown",
   "id": "125019eb",
   "metadata": {},
   "source": [
    "## Extract weights"
   ]
  },
  {
   "cell_type": "code",
   "execution_count": 280,
   "id": "c40469b9",
   "metadata": {},
   "outputs": [],
   "source": [
    "# 1. Embedding weights\n",
    "embedding_weights = model.layers[1].get_weights()[0]  # Shape: (20000, 128)\n",
    "\n",
    "# 2. RNN weights (Bidirectional contains forward and backward)\n",
    "# Each contains: [kernel, recurrent_kernel, bias]\n",
    "rnn_forward_weights = model.layers[2].forward_layer.get_weights()\n",
    "rnn_backward_weights = model.layers[2].backward_layer.get_weights()\n",
    "\n",
    "rnn_f_kernel, rnn_f_recurrent, rnn_f_bias = rnn_forward_weights\n",
    "rnn_b_kernel, rnn_b_recurrent, rnn_b_bias = rnn_backward_weights\n",
    "\n",
    "# 3. Dense layer weights\n",
    "dense_weights, dense_bias = model.layers[4].get_weights()\n",
    "\n",
    "np.savez(\"rnn_weights.npz\",\n",
    "         embedding=embedding_weights,\n",
    "         rnn_f_kernel=rnn_f_kernel,\n",
    "         rnn_f_recurrent=rnn_f_recurrent,\n",
    "         rnn_f_bias=rnn_f_bias,\n",
    "         rnn_b_kernel=rnn_b_kernel,\n",
    "         rnn_b_recurrent=rnn_b_recurrent,\n",
    "         rnn_b_bias=rnn_b_bias,\n",
    "         dense_w=dense_weights,\n",
    "         dense_b=dense_bias)"
   ]
  },
  {
   "cell_type": "code",
   "execution_count": 281,
   "id": "6b1345c6",
   "metadata": {},
   "outputs": [
    {
     "name": "stdout",
     "output_type": "stream",
     "text": [
      "Embedding shape: (20000, 128)\n",
      "RNN forward kernel shape: (128, 64)\n",
      "RNN forward recurrent shape: (64, 64)\n",
      "RNN forward bias shape: (64,)\n",
      "Dense weights shape: (128, 3)\n",
      "Dense bias shape: (3,)\n"
     ]
    }
   ],
   "source": [
    "# Create a new cell in rnn_classification.ipynb\n",
    "import numpy as np\n",
    "\n",
    "# Load the saved weights\n",
    "weights = np.load('rnn_weights.npz')\n",
    "\n",
    "# Extract individual weights\n",
    "embedding = weights['embedding']\n",
    "rnn_f_kernel = weights['rnn_f_kernel']\n",
    "rnn_f_recurrent = weights['rnn_f_recurrent']\n",
    "rnn_f_bias = weights['rnn_f_bias']\n",
    "rnn_b_kernel = weights['rnn_b_kernel']\n",
    "rnn_b_recurrent = weights['rnn_b_recurrent']\n",
    "rnn_b_bias = weights['rnn_b_bias']\n",
    "dense_w = weights['dense_w']\n",
    "dense_b = weights['dense_b']\n",
    "\n",
    "# Print shapes to verify\n",
    "print(f\"Embedding shape: {embedding.shape}\")\n",
    "print(f\"RNN forward kernel shape: {rnn_f_kernel.shape}\")\n",
    "print(f\"RNN forward recurrent shape: {rnn_f_recurrent.shape}\")\n",
    "print(f\"RNN forward bias shape: {rnn_f_bias.shape}\")\n",
    "print(f\"Dense weights shape: {dense_w.shape}\")\n",
    "print(f\"Dense bias shape: {dense_b.shape}\")"
   ]
  },
  {
   "cell_type": "markdown",
   "id": "b36dcb0d",
   "metadata": {},
   "source": [
    "## Predict Scratch Model"
   ]
  },
  {
   "cell_type": "code",
   "execution_count": 282,
   "id": "8b772073",
   "metadata": {},
   "outputs": [],
   "source": [
    "# Import your custom implementations\n",
    "from preprocessing import preprocess_text\n",
    "from simpleRNN import SimpleRNN\n",
    "from bidirectional import Bidirectional\n",
    "from network import Network\n",
    "from dense import Dense\n",
    "from embedding import Embedding\n",
    "from tensorflow.keras.layers import Embedding, Dropout\n",
    "\n",
    "# Create embedding layer using your custom implementation\n",
    "# embedding_layer = Embedding(embedding)\n",
    "\n",
    "# Create bidirectional RNN layer\n",
    "forward_rnn = SimpleRNN(rnn_f_kernel, rnn_f_recurrent, rnn_f_bias)\n",
    "backward_rnn = SimpleRNN(rnn_b_kernel, rnn_b_recurrent, rnn_b_bias)\n",
    "bidirectional_layer = Bidirectional(forward_rnn, backward_rnn)\n",
    "\n",
    "# Create dense layer for classification\n",
    "dense_layer = Dense(dense_w, dense_b, activation=\"softmax\")\n",
    "\n",
    "\n",
    "# Bangun model seperti sebelumnya\n",
    "network = Network([\n",
    "    vectorizer,\n",
    "    Embedding(input_dim=20000, output_dim=128, mask_zero=True),\n",
    "    bidirectional_layer,\n",
    "    Dropout(0.5),\n",
    "    dense_layer\n",
    "])\n"
   ]
  },
  {
   "cell_type": "code",
   "execution_count": 284,
   "id": "99035544",
   "metadata": {},
   "outputs": [
    {
     "name": "stdout",
     "output_type": "stream",
     "text": [
      "Starting evaluation of scratch model...\n",
      "Processing batch 1...\n"
     ]
    },
    {
     "ename": "AttributeError",
     "evalue": "'TextVectorization' object has no attribute 'forward'",
     "output_type": "error",
     "traceback": [
      "\u001b[31m---------------------------------------------------------------------------\u001b[39m",
      "\u001b[31mAttributeError\u001b[39m                            Traceback (most recent call last)",
      "\u001b[36mCell\u001b[39m\u001b[36m \u001b[39m\u001b[32mIn[284]\u001b[39m\u001b[32m, line 41\u001b[39m\n\u001b[32m     38\u001b[39m \u001b[38;5;28;01mfrom\u001b[39;00m\u001b[38;5;250m \u001b[39m\u001b[34;01msklearn\u001b[39;00m\u001b[34;01m.\u001b[39;00m\u001b[34;01mmetrics\u001b[39;00m\u001b[38;5;250m \u001b[39m\u001b[38;5;28;01mimport\u001b[39;00m f1_score, classification_report\n\u001b[32m     40\u001b[39m \u001b[38;5;28mprint\u001b[39m(\u001b[33m\"\u001b[39m\u001b[33mStarting evaluation of scratch model...\u001b[39m\u001b[33m\"\u001b[39m)\n\u001b[32m---> \u001b[39m\u001b[32m41\u001b[39m accuracy, f1, predictions, true_labels = \u001b[43mevaluate_scratch_model\u001b[49m\u001b[43m(\u001b[49m\u001b[43mtest_ds\u001b[49m\u001b[43m,\u001b[49m\u001b[43m \u001b[49m\u001b[43mnetwork\u001b[49m\u001b[43m)\u001b[49m\n\u001b[32m     43\u001b[39m \u001b[38;5;28mprint\u001b[39m(\u001b[33mf\u001b[39m\u001b[33m\"\u001b[39m\u001b[38;5;130;01m\\n\u001b[39;00m\u001b[33mScratch model accuracy: \u001b[39m\u001b[38;5;132;01m{\u001b[39;00maccuracy\u001b[38;5;132;01m:\u001b[39;00m\u001b[33m.4f\u001b[39m\u001b[38;5;132;01m}\u001b[39;00m\u001b[33m\"\u001b[39m)\n\u001b[32m     44\u001b[39m \u001b[38;5;28mprint\u001b[39m(\u001b[33mf\u001b[39m\u001b[33m\"\u001b[39m\u001b[33mScratch model F1-score: \u001b[39m\u001b[38;5;132;01m{\u001b[39;00mf1\u001b[38;5;132;01m:\u001b[39;00m\u001b[33m.4f\u001b[39m\u001b[38;5;132;01m}\u001b[39;00m\u001b[33m\"\u001b[39m)\n",
      "\u001b[36mCell\u001b[39m\u001b[36m \u001b[39m\u001b[32mIn[284]\u001b[39m\u001b[32m, line 19\u001b[39m, in \u001b[36mevaluate_scratch_model\u001b[39m\u001b[34m(test_ds, network)\u001b[39m\n\u001b[32m     16\u001b[39m batch_predictions = []\n\u001b[32m     17\u001b[39m \u001b[38;5;28;01mfor\u001b[39;00m text \u001b[38;5;129;01min\u001b[39;00m texts:\n\u001b[32m     18\u001b[39m     \u001b[38;5;66;03m# Forward pass through the network\u001b[39;00m\n\u001b[32m---> \u001b[39m\u001b[32m19\u001b[39m     output = \u001b[43mnetwork\u001b[49m\u001b[43m.\u001b[49m\u001b[43mforward\u001b[49m\u001b[43m(\u001b[49m\u001b[43mtext\u001b[49m\u001b[43m)\u001b[49m\n\u001b[32m     20\u001b[39m     pred = np.argmax(output)\n\u001b[32m     21\u001b[39m     batch_predictions.append(pred)\n",
      "\u001b[36mFile \u001b[39m\u001b[32mc:\\Users\\Auralea A S\\Documents\\SEMESTER 6\\ML\\Tubes2_IF3270-CNN-RNN-Scratch\\RNN\\network.py:31\u001b[39m, in \u001b[36mNetwork.forward\u001b[39m\u001b[34m(self, inputs)\u001b[39m\n\u001b[32m     29\u001b[39m         outputs = layer.forward(outputs, training=\u001b[38;5;28;01mFalse\u001b[39;00m)\n\u001b[32m     30\u001b[39m     \u001b[38;5;28;01melse\u001b[39;00m:\n\u001b[32m---> \u001b[39m\u001b[32m31\u001b[39m         outputs = \u001b[43mlayer\u001b[49m\u001b[43m.\u001b[49m\u001b[43mforward\u001b[49m(outputs)\n\u001b[32m     33\u001b[39m \u001b[38;5;28;01mreturn\u001b[39;00m outputs\n",
      "\u001b[31mAttributeError\u001b[39m: 'TextVectorization' object has no attribute 'forward'"
     ]
    }
   ],
   "source": [
    "def evaluate_scratch_model(test_ds, network):\n",
    "    all_predictions = []\n",
    "    all_labels = []\n",
    "    \n",
    "    # Process data in batches\n",
    "    batch_count = 0\n",
    "    for text_batch, label_batch in test_ds:\n",
    "        batch_count += 1\n",
    "        print(f\"Processing batch {batch_count}...\")\n",
    "        \n",
    "        # Convert to numpy and process\n",
    "        texts = text_batch.numpy()\n",
    "        labels = label_batch.numpy()\n",
    "        \n",
    "        # Get predictions for the batch\n",
    "        batch_predictions = []\n",
    "        for text in texts:\n",
    "            # Forward pass through the network\n",
    "            output = network.forward(text)\n",
    "            pred = np.argmax(output)\n",
    "            batch_predictions.append(pred)\n",
    "        \n",
    "        # Store results\n",
    "        all_predictions.extend(batch_predictions)\n",
    "        all_labels.extend(labels)\n",
    "    \n",
    "    # Convert to numpy arrays\n",
    "    all_predictions = np.array(all_predictions)\n",
    "    all_labels = np.array(all_labels)\n",
    "    \n",
    "    # Calculate metrics\n",
    "    accuracy = np.mean(all_predictions == all_labels)\n",
    "    f1 = f1_score(all_labels, all_predictions, average='macro')\n",
    "    \n",
    "    return accuracy, f1, all_predictions, all_labels\n",
    "\n",
    "# Evaluate the model\n",
    "from sklearn.metrics import f1_score, classification_report\n",
    "\n",
    "print(\"Starting evaluation of scratch model...\")\n",
    "accuracy, f1, predictions, true_labels = evaluate_scratch_model(test_ds, network)\n",
    "\n",
    "print(f\"\\nScratch model accuracy: {accuracy:.4f}\")\n",
    "print(f\"Scratch model F1-score: {f1:.4f}\")\n",
    "\n",
    "# Print detailed classification report\n",
    "print(\"\\nClassification Report:\")\n",
    "print(classification_report(true_labels, predictions, \n",
    "                          target_names=['Negative', 'Neutral', 'Positive']))\n",
    "\n",
    "# Optional: Generate confusion matrix\n",
    "import matplotlib.pyplot as plt\n",
    "import seaborn as sns\n",
    "from sklearn.metrics import confusion_matrix\n",
    "\n",
    "cm = confusion_matrix(true_labels, predictions)\n",
    "plt.figure(figsize=(8, 6))\n",
    "sns.heatmap(cm, annot=True, fmt='d', cmap='Blues',\n",
    "            xticklabels=['Negative', 'Neutral', 'Positive'],\n",
    "            yticklabels=['Negative', 'Neutral', 'Positive'])\n",
    "plt.xlabel('Predicted')\n",
    "plt.ylabel('Actual')\n",
    "plt.title('Confusion Matrix (Scratch Model)')\n",
    "plt.tight_layout()\n",
    "plt.show()"
   ]
  },
  {
   "cell_type": "code",
   "execution_count": null,
   "id": "821546ff",
   "metadata": {},
   "outputs": [
    {
     "ename": "AttributeError",
     "evalue": "'TextVectorization' object has no attribute 'forward'",
     "output_type": "error",
     "traceback": [
      "\u001b[31m---------------------------------------------------------------------------\u001b[39m",
      "\u001b[31mAttributeError\u001b[39m                            Traceback (most recent call last)",
      "\u001b[36mCell\u001b[39m\u001b[36m \u001b[39m\u001b[32mIn[245]\u001b[39m\u001b[32m, line 29\u001b[39m\n\u001b[32m     26\u001b[39m sample_labels = test_labels[:sample_size]\n\u001b[32m     28\u001b[39m \u001b[38;5;66;03m# Evaluate\u001b[39;00m\n\u001b[32m---> \u001b[39m\u001b[32m29\u001b[39m accuracy, f1_score, predictions = \u001b[43mevaluate_scratch_model\u001b[49m\u001b[43m(\u001b[49m\u001b[43msample_texts\u001b[49m\u001b[43m,\u001b[49m\u001b[43m \u001b[49m\u001b[43msample_labels\u001b[49m\u001b[43m,\u001b[49m\u001b[43m \u001b[49m\u001b[43mvectorizer\u001b[49m\u001b[43m)\u001b[49m\n\u001b[32m     30\u001b[39m \u001b[38;5;28mprint\u001b[39m(\u001b[33mf\u001b[39m\u001b[33m\"\u001b[39m\u001b[33mScratch model accuracy: \u001b[39m\u001b[38;5;132;01m{\u001b[39;00maccuracy\u001b[38;5;132;01m:\u001b[39;00m\u001b[33m.4f\u001b[39m\u001b[38;5;132;01m}\u001b[39;00m\u001b[33m\"\u001b[39m)\n\u001b[32m     31\u001b[39m \u001b[38;5;28mprint\u001b[39m(\u001b[33mf\u001b[39m\u001b[33m\"\u001b[39m\u001b[33mScratch model F1-score: \u001b[39m\u001b[38;5;132;01m{\u001b[39;00mf1_score\u001b[38;5;132;01m:\u001b[39;00m\u001b[33m.4f\u001b[39m\u001b[38;5;132;01m}\u001b[39;00m\u001b[33m\"\u001b[39m)\n",
      "\u001b[36mCell\u001b[39m\u001b[36m \u001b[39m\u001b[32mIn[245]\u001b[39m\u001b[32m, line 7\u001b[39m, in \u001b[36mevaluate_scratch_model\u001b[39m\u001b[34m(test_texts, test_labels, vectorizer)\u001b[39m\n\u001b[32m      5\u001b[39m \u001b[38;5;28;01mfor\u001b[39;00m text \u001b[38;5;129;01min\u001b[39;00m test_texts:\n\u001b[32m      6\u001b[39m     vectorized_text = vectorizer(text)\n\u001b[32m----> \u001b[39m\u001b[32m7\u001b[39m     output = \u001b[43mnetwork\u001b[49m\u001b[43m.\u001b[49m\u001b[43mforward\u001b[49m\u001b[43m(\u001b[49m\u001b[43mvectorized_text\u001b[49m\u001b[43m)\u001b[49m\n\u001b[32m      8\u001b[39m     pred = np.argmax(output)\n\u001b[32m      9\u001b[39m     predictions.append(pred)\n",
      "\u001b[36mFile \u001b[39m\u001b[32mc:\\Users\\Auralea A S\\Documents\\SEMESTER 6\\ML\\Tubes2_IF3270-CNN-RNN-Scratch\\RNN\\network.py:31\u001b[39m, in \u001b[36mNetwork.forward\u001b[39m\u001b[34m(self, inputs)\u001b[39m\n\u001b[32m     29\u001b[39m         outputs = layer.forward(outputs, training=\u001b[38;5;28;01mFalse\u001b[39;00m)\n\u001b[32m     30\u001b[39m     \u001b[38;5;28;01melse\u001b[39;00m:\n\u001b[32m---> \u001b[39m\u001b[32m31\u001b[39m         outputs = \u001b[43mlayer\u001b[49m\u001b[43m.\u001b[49m\u001b[43mforward\u001b[49m(outputs)\n\u001b[32m     33\u001b[39m \u001b[38;5;28;01mreturn\u001b[39;00m outputs\n",
      "\u001b[31mAttributeError\u001b[39m: 'TextVectorization' object has no attribute 'forward'"
     ]
    }
   ],
   "source": [
    "# # Function to evaluate on test data\n",
    "# def evaluate_scratch_model(test_texts, test_labels, vectorizer):\n",
    "#     predictions = []\n",
    "    \n",
    "#     for text in test_texts:\n",
    "#         vectorized_text = vectorizer(text)\n",
    "#         output = network.forward(vectorized_text)\n",
    "#         pred = np.argmax(output)\n",
    "#         predictions.append(pred)\n",
    "    \n",
    "#     # Convert to numpy arrays\n",
    "#     predictions = np.array(predictions)\n",
    "    \n",
    "#     # Calculate accuracy\n",
    "#     accuracy = np.mean(predictions == test_labels)\n",
    "    \n",
    "#     # Calculate F1 score (requires sklearn)\n",
    "#     from sklearn.metrics import f1_score\n",
    "#     f1 = f1_score(test_labels, predictions, average='macro')\n",
    "    \n",
    "#     return accuracy, f1, predictions\n",
    "\n",
    "# # Sample from test data\n",
    "# sample_size = 100  # Adjust based on your available memory and computation power\n",
    "# sample_texts = test_texts[:sample_size]\n",
    "# sample_labels = test_labels[:sample_size]\n",
    "\n",
    "# # Evaluate\n",
    "# accuracy, f1_score, predictions = evaluate_scratch_model(sample_texts, sample_labels, vectorizer)\n",
    "# print(f\"Scratch model accuracy: {accuracy:.4f}\")\n",
    "# print(f\"Scratch model F1-score: {f1_score:.4f}\")"
   ]
  }
 ],
 "metadata": {
  "kernelspec": {
   "display_name": ".venv",
   "language": "python",
   "name": "python3"
  },
  "language_info": {
   "codemirror_mode": {
    "name": "ipython",
    "version": 3
   },
   "file_extension": ".py",
   "mimetype": "text/x-python",
   "name": "python",
   "nbconvert_exporter": "python",
   "pygments_lexer": "ipython3",
   "version": "3.12.0"
  }
 },
 "nbformat": 4,
 "nbformat_minor": 5
}
