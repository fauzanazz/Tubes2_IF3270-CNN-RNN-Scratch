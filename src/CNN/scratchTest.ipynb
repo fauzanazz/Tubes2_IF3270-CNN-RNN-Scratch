{
 "cells": [
  {
   "cell_type": "code",
   "execution_count": 1,
   "id": "65cfccac",
   "metadata": {},
   "outputs": [],
   "source": [
    "%load_ext autoreload\n",
    "%autoreload 2"
   ]
  },
  {
   "cell_type": "code",
   "execution_count": 2,
   "id": "d4a68db7",
   "metadata": {},
   "outputs": [],
   "source": [
    "import os\n",
    "os.environ['TF_CPP_MIN_LOG_LEVEL'] = '3'"
   ]
  },
  {
   "cell_type": "code",
   "execution_count": 3,
   "id": "f5e4fdb2",
   "metadata": {},
   "outputs": [],
   "source": [
    "import tensorflow as tf\n",
    "from tensorflow.keras import layers, models\n",
    "from tensorflow.keras.datasets import cifar10\n",
    "from sklearn.model_selection import train_test_split\n",
    "from sklearn.metrics import f1_score\n",
    "import numpy as np\n",
    "import matplotlib.pyplot as plt"
   ]
  },
  {
   "cell_type": "code",
   "execution_count": 4,
   "id": "e3279f96",
   "metadata": {},
   "outputs": [
    {
     "name": "stdout",
     "output_type": "stream",
     "text": [
      "Train: (40000, 32, 32, 3)\n",
      "Validation: (10000, 32, 32, 3)\n",
      "Test: (10000, 32, 32, 3)\n"
     ]
    }
   ],
   "source": [
    "# Load CIFAR-10\n",
    "(x_train_full, y_train_full), (x_test, y_test) = cifar10.load_data()\n",
    "\n",
    "# Normalisasi\n",
    "x_train_full = x_train_full.astype(\"float32\") / 255.0\n",
    "x_test = x_test.astype(\"float32\") / 255.0\n",
    "\n",
    "# Split train jadi train + validation (4:1)\n",
    "x_train, x_val, y_train, y_val = train_test_split(\n",
    "    x_train_full, y_train_full, test_size=0.2, random_state=42\n",
    ")\n",
    "\n",
    "print(\"Train:\", x_train.shape)\n",
    "print(\"Validation:\", x_val.shape)\n",
    "print(\"Test:\", x_test.shape)"
   ]
  },
  {
   "cell_type": "code",
   "execution_count": 5,
   "id": "2ee8f9a5",
   "metadata": {},
   "outputs": [],
   "source": [
    "model = models.Sequential()\n",
    "model.add(layers.Conv2D(32, (3, 3), activation='relu'))\n",
    "model.add(layers.MaxPooling2D((2, 2)))\n",
    "model.add(layers.Conv2D(64, (3, 3), activation='relu'))\n",
    "model.add(layers.MaxPooling2D((2, 2)))\n",
    "model.add(layers.Flatten())\n",
    "model.add(layers.Dense(64, activation='relu'))\n",
    "model.add(layers.Dense(10, activation='softmax'))  # CIFAR-10 → 10 kelas\n",
    "\n",
    "model.compile(\n",
    "    optimizer='adam',\n",
    "    loss='sparse_categorical_crossentropy',\n",
    "    metrics=['accuracy']\n",
    ")\n"
   ]
  },
  {
   "cell_type": "code",
   "execution_count": 6,
   "id": "ec8d2196",
   "metadata": {},
   "outputs": [
    {
     "name": "stdout",
     "output_type": "stream",
     "text": [
      "Epoch 1/10\n",
      "\u001b[1m625/625\u001b[0m \u001b[32m━━━━━━━━━━━━━━━━━━━━\u001b[0m\u001b[37m\u001b[0m \u001b[1m9s\u001b[0m 12ms/step - accuracy: 0.3241 - loss: 1.8367 - val_accuracy: 0.5353 - val_loss: 1.3134\n",
      "Epoch 2/10\n",
      "\u001b[1m625/625\u001b[0m \u001b[32m━━━━━━━━━━━━━━━━━━━━\u001b[0m\u001b[37m\u001b[0m \u001b[1m7s\u001b[0m 12ms/step - accuracy: 0.5480 - loss: 1.2780 - val_accuracy: 0.5671 - val_loss: 1.2468\n",
      "Epoch 3/10\n",
      "\u001b[1m625/625\u001b[0m \u001b[32m━━━━━━━━━━━━━━━━━━━━\u001b[0m\u001b[37m\u001b[0m \u001b[1m8s\u001b[0m 12ms/step - accuracy: 0.5996 - loss: 1.1433 - val_accuracy: 0.6143 - val_loss: 1.0943\n",
      "Epoch 4/10\n",
      "\u001b[1m625/625\u001b[0m \u001b[32m━━━━━━━━━━━━━━━━━━━━\u001b[0m\u001b[37m\u001b[0m \u001b[1m10s\u001b[0m 16ms/step - accuracy: 0.6386 - loss: 1.0382 - val_accuracy: 0.6427 - val_loss: 1.0282\n",
      "Epoch 5/10\n",
      "\u001b[1m625/625\u001b[0m \u001b[32m━━━━━━━━━━━━━━━━━━━━\u001b[0m\u001b[37m\u001b[0m \u001b[1m12s\u001b[0m 20ms/step - accuracy: 0.6666 - loss: 0.9725 - val_accuracy: 0.6447 - val_loss: 1.0152\n",
      "Epoch 6/10\n",
      "\u001b[1m625/625\u001b[0m \u001b[32m━━━━━━━━━━━━━━━━━━━━\u001b[0m\u001b[37m\u001b[0m \u001b[1m13s\u001b[0m 21ms/step - accuracy: 0.6843 - loss: 0.9124 - val_accuracy: 0.6523 - val_loss: 1.0090\n",
      "Epoch 7/10\n",
      "\u001b[1m625/625\u001b[0m \u001b[32m━━━━━━━━━━━━━━━━━━━━\u001b[0m\u001b[37m\u001b[0m \u001b[1m12s\u001b[0m 19ms/step - accuracy: 0.7014 - loss: 0.8618 - val_accuracy: 0.6609 - val_loss: 0.9742\n",
      "Epoch 8/10\n",
      "\u001b[1m625/625\u001b[0m \u001b[32m━━━━━━━━━━━━━━━━━━━━\u001b[0m\u001b[37m\u001b[0m \u001b[1m13s\u001b[0m 20ms/step - accuracy: 0.7214 - loss: 0.8089 - val_accuracy: 0.6569 - val_loss: 0.9823\n",
      "Epoch 9/10\n",
      "\u001b[1m625/625\u001b[0m \u001b[32m━━━━━━━━━━━━━━━━━━━━\u001b[0m\u001b[37m\u001b[0m \u001b[1m11s\u001b[0m 17ms/step - accuracy: 0.7269 - loss: 0.7854 - val_accuracy: 0.6782 - val_loss: 0.9403\n",
      "Epoch 10/10\n",
      "\u001b[1m625/625\u001b[0m \u001b[32m━━━━━━━━━━━━━━━━━━━━\u001b[0m\u001b[37m\u001b[0m \u001b[1m10s\u001b[0m 17ms/step - accuracy: 0.7407 - loss: 0.7522 - val_accuracy: 0.6693 - val_loss: 0.9574\n"
     ]
    }
   ],
   "source": [
    "history = model.fit(\n",
    "    x_train, y_train,\n",
    "    epochs=10,\n",
    "    validation_data=(x_val, y_val),\n",
    "    batch_size=64,\n",
    "    verbose = 1\n",
    ")"
   ]
  },
  {
   "cell_type": "code",
   "execution_count": 7,
   "id": "441d87f1",
   "metadata": {},
   "outputs": [
    {
     "name": "stdout",
     "output_type": "stream",
     "text": [
      "\u001b[1m313/313\u001b[0m \u001b[32m━━━━━━━━━━━━━━━━━━━━\u001b[0m\u001b[37m\u001b[0m \u001b[1m1s\u001b[0m 4ms/step\n",
      "Macro F1-Score on Test Set: 0.673974858999303\n"
     ]
    }
   ],
   "source": [
    "# Prediksi test set\n",
    "y_pred = model.predict(x_test)\n",
    "y_pred_classes = np.argmax(y_pred, axis=1)\n",
    "\n",
    "# Flatten label test karena aslinya (10000,1)\n",
    "y_test_flat = y_test.flatten()\n",
    "\n",
    "# Hitung Macro F1\n",
    "macro_f1 = f1_score(y_test_flat, y_pred_classes, average='macro')\n",
    "print(\"Macro F1-Score on Test Set:\", macro_f1)"
   ]
  },
  {
   "cell_type": "code",
   "execution_count": 8,
   "id": "3191d4b6",
   "metadata": {},
   "outputs": [
    {
     "name": "stderr",
     "output_type": "stream",
     "text": [
      "WARNING:absl:You are saving your model as an HDF5 file via `model.save()` or `keras.saving.save_model(model)`. This file format is considered legacy. We recommend using instead the native Keras format, e.g. `model.save('my_model.keras')` or `keras.saving.save_model(model, 'my_model.keras')`. \n"
     ]
    }
   ],
   "source": [
    "# model.save_weights(\"cnn_model_1.weights.h5\")\n",
    "\n",
    "model.save('models/keras_model_1.h5')\n"
   ]
  },
  {
   "cell_type": "code",
   "execution_count": 9,
   "id": "6a9b2ba5",
   "metadata": {},
   "outputs": [
    {
     "name": "stderr",
     "output_type": "stream",
     "text": [
      "WARNING:absl:Compiled the loaded model, but the compiled metrics have yet to be built. `model.compile_metrics` will be empty until you train or evaluate the model.\n"
     ]
    }
   ],
   "source": [
    "keras_model = tf.keras.models.load_model('models/keras_model_1.h5')"
   ]
  },
  {
   "cell_type": "code",
   "execution_count": 11,
   "id": "13cccd04",
   "metadata": {},
   "outputs": [
    {
     "name": "stderr",
     "output_type": "stream",
     "text": [
      "WARNING:absl:Compiled the loaded model, but the compiled metrics have yet to be built. `model.compile_metrics` will be empty until you train or evaluate the model.\n"
     ]
    },
    {
     "name": "stdout",
     "output_type": "stream",
     "text": [
      "conv2d\n",
      "creating new conv layer\n",
      "max_pooling2d\n",
      "creating new max pool layer\n",
      "conv2d_1\n",
      "creating new conv layer\n",
      "max_pooling2d_1\n",
      "creating new max pool layer\n",
      "flatten\n",
      "creating new flatten layer\n",
      "dense\n",
      "creating new dense layer\n",
      "dense_1\n",
      "creating new dense layer\n"
     ]
    }
   ],
   "source": [
    "from implementation.load import load_scratch_model\n",
    "from implementation.network import predict\n",
    "\n",
    "ScratchModel = load_scratch_model('models/keras_model_1.h5')"
   ]
  },
  {
   "cell_type": "code",
   "execution_count": 12,
   "id": "054d9ad8",
   "metadata": {},
   "outputs": [
    {
     "name": "stdout",
     "output_type": "stream",
     "text": [
      "convolution\n",
      "maxpool\n",
      "convolution\n",
      "maxpool\n",
      "flatten\n",
      "dense\n",
      "dense\n"
     ]
    }
   ],
   "source": [
    "for layer in ScratchModel:\n",
    "    print(layer.type)"
   ]
  },
  {
   "cell_type": "code",
   "execution_count": 13,
   "id": "e2d47122",
   "metadata": {},
   "outputs": [
    {
     "name": "stdout",
     "output_type": "stream",
     "text": [
      "mulai prediksi batch ke- 0 dari 312\n",
      "mulai prediksi batch ke- 1 dari 312\n",
      "mulai prediksi batch ke- 2 dari 312\n",
      "mulai prediksi batch ke- 3 dari 312\n",
      "mulai prediksi batch ke- 4 dari 312\n",
      "mulai prediksi batch ke- 5 dari 312\n",
      "mulai prediksi batch ke- 6 dari 312\n",
      "mulai prediksi batch ke- 7 dari 312\n",
      "mulai prediksi batch ke- 8 dari 312\n",
      "mulai prediksi batch ke- 9 dari 312\n",
      "mulai prediksi batch ke- 10 dari 312\n",
      "mulai prediksi batch ke- 11 dari 312\n",
      "mulai prediksi batch ke- 12 dari 312\n",
      "mulai prediksi batch ke- 13 dari 312\n",
      "mulai prediksi batch ke- 14 dari 312\n",
      "mulai prediksi batch ke- 15 dari 312\n",
      "mulai prediksi batch ke- 16 dari 312\n",
      "mulai prediksi batch ke- 17 dari 312\n",
      "mulai prediksi batch ke- 18 dari 312\n",
      "mulai prediksi batch ke- 19 dari 312\n",
      "mulai prediksi batch ke- 20 dari 312\n",
      "mulai prediksi batch ke- 21 dari 312\n",
      "mulai prediksi batch ke- 22 dari 312\n",
      "mulai prediksi batch ke- 23 dari 312\n",
      "mulai prediksi batch ke- 24 dari 312\n",
      "mulai prediksi batch ke- 25 dari 312\n",
      "mulai prediksi batch ke- 26 dari 312\n",
      "mulai prediksi batch ke- 27 dari 312\n",
      "mulai prediksi batch ke- 28 dari 312\n",
      "mulai prediksi batch ke- 29 dari 312\n",
      "mulai prediksi batch ke- 30 dari 312\n",
      "mulai prediksi batch ke- 31 dari 312\n",
      "mulai prediksi batch ke- 32 dari 312\n",
      "mulai prediksi batch ke- 33 dari 312\n",
      "mulai prediksi batch ke- 34 dari 312\n"
     ]
    },
    {
     "ename": "KeyboardInterrupt",
     "evalue": "",
     "output_type": "error",
     "traceback": [
      "\u001b[31m---------------------------------------------------------------------------\u001b[39m",
      "\u001b[31mKeyboardInterrupt\u001b[39m                         Traceback (most recent call last)",
      "\u001b[36mCell\u001b[39m\u001b[36m \u001b[39m\u001b[32mIn[13]\u001b[39m\u001b[32m, line 1\u001b[39m\n\u001b[32m----> \u001b[39m\u001b[32m1\u001b[39m preds = \u001b[43mpredict\u001b[49m\u001b[43m(\u001b[49m\u001b[43mScratchModel\u001b[49m\u001b[43m,\u001b[49m\u001b[43mx_test\u001b[49m\u001b[43m)\u001b[49m\n",
      "\u001b[36mFile \u001b[39m\u001b[32mc:\\Users\\DELL\\Documents\\ITB\\SMT-6\\ML\\Tubes2_IF3270-CNN-RNN-Scratch\\CNN\\implementation\\network.py:12\u001b[39m, in \u001b[36mpredict\u001b[39m\u001b[34m(network, inputs, batch_size)\u001b[39m\n\u001b[32m      9\u001b[39m     out = batch\n\u001b[32m     10\u001b[39m     \u001b[38;5;28;01mfor\u001b[39;00m layer \u001b[38;5;129;01min\u001b[39;00m network:\n\u001b[32m     11\u001b[39m         \u001b[38;5;66;03m# print(f\"output size = {out.shape}\")\u001b[39;00m\n\u001b[32m---> \u001b[39m\u001b[32m12\u001b[39m         out = \u001b[43mlayer\u001b[49m\u001b[43m.\u001b[49m\u001b[43mforward\u001b[49m\u001b[43m(\u001b[49m\u001b[43mout\u001b[49m\u001b[43m)\u001b[49m\n\u001b[32m     14\u001b[39m     outputs.append(out)  \u001b[38;5;66;03m# out sudah bentuk batch\u001b[39;00m\n\u001b[32m     16\u001b[39m \u001b[38;5;28;01mreturn\u001b[39;00m np.concatenate(outputs, axis=\u001b[32m0\u001b[39m)\n",
      "\u001b[36mFile \u001b[39m\u001b[32mc:\\Users\\DELL\\Documents\\ITB\\SMT-6\\ML\\Tubes2_IF3270-CNN-RNN-Scratch\\CNN\\implementation\\convolutional.py:78\u001b[39m, in \u001b[36mConvolutional.forward\u001b[39m\u001b[34m(self, input)\u001b[39m\n\u001b[32m     75\u001b[39m             feature_map_f[i, j] = conv_value\n\u001b[32m     77\u001b[39m     feature_map_f += \u001b[38;5;28mself\u001b[39m.biases[f]\n\u001b[32m---> \u001b[39m\u001b[32m78\u001b[39m     \u001b[38;5;28mself\u001b[39m.output[b, :, :, f] = feature_map_f\n\u001b[32m     80\u001b[39m \u001b[38;5;66;03m# tes_output = tes_feature_maps\u001b[39;00m\n\u001b[32m     82\u001b[39m \u001b[38;5;28;01mif\u001b[39;00m \u001b[38;5;28mself\u001b[39m.activation \u001b[38;5;129;01mis\u001b[39;00m \u001b[38;5;129;01mnot\u001b[39;00m \u001b[38;5;28;01mNone\u001b[39;00m:\n",
      "\u001b[31mKeyboardInterrupt\u001b[39m: "
     ]
    }
   ],
   "source": [
    "preds = predict(ScratchModel,x_test)"
   ]
  },
  {
   "cell_type": "code",
   "execution_count": null,
   "id": "2443b825",
   "metadata": {},
   "outputs": [
    {
     "name": "stdout",
     "output_type": "stream",
     "text": [
      "Macro F1-Score on Test Set: 0.6773323374641984\n"
     ]
    }
   ],
   "source": [
    "preds_classes = np.argmax(preds, axis=1)\n",
    "\n",
    "# Flatten label test karena aslinya (10000,1)\n",
    "y_test_flat = y_test.flatten()\n",
    "\n",
    "# Hitung Macro F1\n",
    "scratch_macro_f1 = f1_score(y_test_flat, preds_classes, average='macro')\n",
    "print(\"Macro F1-Score on Test Set:\", scratch_macro_f1)"
   ]
  }
 ],
 "metadata": {
  "kernelspec": {
   "display_name": ".venv",
   "language": "python",
   "name": "python3"
  },
  "language_info": {
   "codemirror_mode": {
    "name": "ipython",
    "version": 3
   },
   "file_extension": ".py",
   "mimetype": "text/x-python",
   "name": "python",
   "nbconvert_exporter": "python",
   "pygments_lexer": "ipython3",
   "version": "3.11.9"
  }
 },
 "nbformat": 4,
 "nbformat_minor": 5
}
