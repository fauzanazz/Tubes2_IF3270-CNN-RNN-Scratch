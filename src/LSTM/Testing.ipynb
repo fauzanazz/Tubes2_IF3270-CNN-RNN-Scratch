{
 "cells": [
  {
   "cell_type": "markdown",
   "metadata": {},
   "source": [
    "## Initialize"
   ]
  },
  {
   "cell_type": "code",
   "execution_count": 35,
   "metadata": {},
   "outputs": [],
   "source": [
    "import sys\n",
    "sys.dont_write_bytecode = True\n",
    "\n",
    "# Import libraries\n",
    "import numpy as np\n",
    "import os\n",
    "import warnings\n",
    "import random\n",
    "from sklearn.metrics import accuracy_score, f1_score\n",
    "\n",
    "# Suppress warnings for cleaner output\n",
    "warnings.filterwarnings('ignore', category=DeprecationWarning)\n",
    "warnings.filterwarnings('ignore', category=FutureWarning)\n",
    "os.environ['TF_CPP_MIN_LOG_LEVEL'] = '2'\n",
    "\n",
    "from Utils import (\n",
    "    load_nusax_dataset, \n",
    "    create_text_vectorizer, \n",
    "    build_lstm_model, \n",
    "    evaluate_model,\n",
    ")\n",
    "from Layer.scratch_layers import LSTMModel\n",
    "import tensorflow as tf\n",
    "import matplotlib.pyplot as plt"
   ]
  },
  {
   "cell_type": "code",
   "execution_count": 36,
   "metadata": {},
   "outputs": [],
   "source": [
    "# Set random seed for reproducibility\n",
    "np.random.seed(42)\n",
    "tf.random.set_seed(42)\n",
    "random.seed(42)\n",
    "tf.keras.utils.set_random_seed(42)"
   ]
  },
  {
   "cell_type": "code",
   "execution_count": 37,
   "metadata": {},
   "outputs": [],
   "source": [
    "# Load Dataset\n",
    "train_ds, val_ds, test_ds = load_nusax_dataset(\n",
    "    data_path=\"data/nusax_sentiment_id\",\n",
    "    batch_size=32\n",
    ")"
   ]
  },
  {
   "cell_type": "code",
   "execution_count": 38,
   "metadata": {},
   "outputs": [],
   "source": [
    "# Create Text Vectorizer\n",
    "vectorizer = create_text_vectorizer(\n",
    "        train_dataset=train_ds,\n",
    "        max_tokens=20000,\n",
    "        sequence_length=128\n",
    "    )\n",
    "vocab_size = vectorizer.vocabulary_size()\n",
    "\n",
    "def vectorize_text(text, label):\n",
    "    return vectorizer(text), label\n",
    "\n",
    "train_ds_vectorized = train_ds.map(vectorize_text)\n",
    "val_ds_vectorized = val_ds.map(vectorize_text)\n",
    "test_ds_vectorized = test_ds.map(vectorize_text)"
   ]
  },
  {
   "cell_type": "markdown",
   "metadata": {},
   "source": [
    "## Test 1 : Layers"
   ]
  },
  {
   "cell_type": "code",
   "execution_count": 39,
   "metadata": {},
   "outputs": [],
   "source": [
    "config_1_1 = {\n",
    "    'embedding_dim': 128,\n",
    "    'lstm_layers': [16],\n",
    "    'bidirectional': True,\n",
    "    'dropout_rate': 0.5,\n",
    "    'num_classes': 3\n",
    "}\n",
    "\n",
    "config_1_2 = {\n",
    "    'embedding_dim': 128,\n",
    "    'lstm_layers': [16, 16, 16],\n",
    "    'bidirectional': True,\n",
    "    'dropout_rate': 0.5,\n",
    "    'num_classes': 3\n",
    "}\n",
    "\n",
    "config_1_3 = {\n",
    "    'embedding_dim': 128,\n",
    "    'lstm_layers': [16, 16, 16, 16, 16],\n",
    "    'bidirectional': True,\n",
    "    'dropout_rate': 0.5,\n",
    "    'num_classes': 3\n",
    "}"
   ]
  },
  {
   "cell_type": "code",
   "execution_count": 40,
   "metadata": {},
   "outputs": [],
   "source": [
    "keras_model_1_1 = build_lstm_model(\n",
    "    vectorizer=vectorizer,\n",
    "    embedding_dim=config_1_1['embedding_dim'],\n",
    "    lstm_layers=config_1_1['lstm_layers'],\n",
    "    bidirectional=config_1_1['bidirectional'],\n",
    "    dropout_rate=config_1_1['dropout_rate'],\n",
    "    num_classes=config_1_1['num_classes']\n",
    ")\n",
    "keras_model_1_2 = build_lstm_model(\n",
    "    vectorizer=vectorizer,\n",
    "    embedding_dim=config_1_2['embedding_dim'],\n",
    "    lstm_layers=config_1_2['lstm_layers'],\n",
    "    bidirectional=config_1_2['bidirectional'],\n",
    "    dropout_rate=config_1_2['dropout_rate'],\n",
    "    num_classes=config_1_2['num_classes']\n",
    ")\n",
    "keras_model_1_3 = build_lstm_model(\n",
    "    vectorizer=vectorizer,\n",
    "    embedding_dim=config_1_3['embedding_dim'],\n",
    "    lstm_layers=config_1_3['lstm_layers'],\n",
    "    bidirectional=config_1_3['bidirectional'],\n",
    "    dropout_rate=config_1_3['dropout_rate'],\n",
    "    num_classes=config_1_3['num_classes']\n",
    ")"
   ]
  },
  {
   "cell_type": "code",
   "execution_count": 41,
   "metadata": {},
   "outputs": [
    {
     "name": "stdout",
     "output_type": "stream",
     "text": [
      "Epoch 1/10\n",
      "\u001b[1m16/16\u001b[0m \u001b[32m━━━━━━━━━━━━━━━━━━━━\u001b[0m\u001b[37m\u001b[0m \u001b[1m3s\u001b[0m 36ms/step - accuracy: 0.4085 - loss: 1.0930 - val_accuracy: 0.5400 - val_loss: 1.0757\n",
      "Epoch 2/10\n",
      "\u001b[1m16/16\u001b[0m \u001b[32m━━━━━━━━━━━━━━━━━━━━\u001b[0m\u001b[37m\u001b[0m \u001b[1m0s\u001b[0m 24ms/step - accuracy: 0.4523 - loss: 1.0706 - val_accuracy: 0.5200 - val_loss: 1.0543\n",
      "Epoch 3/10\n",
      "\u001b[1m16/16\u001b[0m \u001b[32m━━━━━━━━━━━━━━━━━━━━\u001b[0m\u001b[37m\u001b[0m \u001b[1m0s\u001b[0m 24ms/step - accuracy: 0.5953 - loss: 1.0216 - val_accuracy: 0.6500 - val_loss: 0.9327\n",
      "Epoch 4/10\n",
      "\u001b[1m16/16\u001b[0m \u001b[32m━━━━━━━━━━━━━━━━━━━━\u001b[0m\u001b[37m\u001b[0m \u001b[1m0s\u001b[0m 24ms/step - accuracy: 0.6813 - loss: 0.7797 - val_accuracy: 0.6700 - val_loss: 0.7352\n",
      "Epoch 5/10\n",
      "\u001b[1m16/16\u001b[0m \u001b[32m━━━━━━━━━━━━━━━━━━━━\u001b[0m\u001b[37m\u001b[0m \u001b[1m0s\u001b[0m 24ms/step - accuracy: 0.7917 - loss: 0.4922 - val_accuracy: 0.7300 - val_loss: 0.6759\n",
      "Epoch 6/10\n",
      "\u001b[1m16/16\u001b[0m \u001b[32m━━━━━━━━━━━━━━━━━━━━\u001b[0m\u001b[37m\u001b[0m \u001b[1m0s\u001b[0m 28ms/step - accuracy: 0.9592 - loss: 0.2759 - val_accuracy: 0.7500 - val_loss: 0.7114\n",
      "Epoch 7/10\n",
      "\u001b[1m16/16\u001b[0m \u001b[32m━━━━━━━━━━━━━━━━━━━━\u001b[0m\u001b[37m\u001b[0m \u001b[1m1s\u001b[0m 39ms/step - accuracy: 0.9718 - loss: 0.1799 - val_accuracy: 0.7600 - val_loss: 0.7363\n",
      "Epoch 8/10\n",
      "\u001b[1m16/16\u001b[0m \u001b[32m━━━━━━━━━━━━━━━━━━━━\u001b[0m\u001b[37m\u001b[0m \u001b[1m1s\u001b[0m 40ms/step - accuracy: 0.9804 - loss: 0.1095 - val_accuracy: 0.7800 - val_loss: 0.7259\n",
      "Epoch 9/10\n",
      "\u001b[1m16/16\u001b[0m \u001b[32m━━━━━━━━━━━━━━━━━━━━\u001b[0m\u001b[37m\u001b[0m \u001b[1m1s\u001b[0m 39ms/step - accuracy: 0.9904 - loss: 0.0624 - val_accuracy: 0.8000 - val_loss: 0.7955\n",
      "Epoch 10/10\n",
      "\u001b[1m16/16\u001b[0m \u001b[32m━━━━━━━━━━━━━━━━━━━━\u001b[0m\u001b[37m\u001b[0m \u001b[1m1s\u001b[0m 39ms/step - accuracy: 0.9996 - loss: 0.0441 - val_accuracy: 0.7800 - val_loss: 0.8985\n",
      "Epoch 1/10\n",
      "\u001b[1m16/16\u001b[0m \u001b[32m━━━━━━━━━━━━━━━━━━━━\u001b[0m\u001b[37m\u001b[0m \u001b[1m4s\u001b[0m 86ms/step - accuracy: 0.3478 - loss: 1.0916 - val_accuracy: 0.5000 - val_loss: 1.0610\n",
      "Epoch 2/10\n",
      "\u001b[1m16/16\u001b[0m \u001b[32m━━━━━━━━━━━━━━━━━━━━\u001b[0m\u001b[37m\u001b[0m \u001b[1m1s\u001b[0m 60ms/step - accuracy: 0.4797 - loss: 1.0359 - val_accuracy: 0.5600 - val_loss: 0.9500\n",
      "Epoch 3/10\n",
      "\u001b[1m16/16\u001b[0m \u001b[32m━━━━━━━━━━━━━━━━━━━━\u001b[0m\u001b[37m\u001b[0m \u001b[1m1s\u001b[0m 59ms/step - accuracy: 0.5879 - loss: 0.8605 - val_accuracy: 0.6000 - val_loss: 0.8427\n",
      "Epoch 4/10\n",
      "\u001b[1m16/16\u001b[0m \u001b[32m━━━━━━━━━━━━━━━━━━━━\u001b[0m\u001b[37m\u001b[0m \u001b[1m1s\u001b[0m 69ms/step - accuracy: 0.6914 - loss: 0.7029 - val_accuracy: 0.6300 - val_loss: 0.7888\n",
      "Epoch 5/10\n",
      "\u001b[1m16/16\u001b[0m \u001b[32m━━━━━━━━━━━━━━━━━━━━\u001b[0m\u001b[37m\u001b[0m \u001b[1m1s\u001b[0m 57ms/step - accuracy: 0.7219 - loss: 0.5617 - val_accuracy: 0.6100 - val_loss: 0.9080\n",
      "Epoch 6/10\n",
      "\u001b[1m16/16\u001b[0m \u001b[32m━━━━━━━━━━━━━━━━━━━━\u001b[0m\u001b[37m\u001b[0m \u001b[1m1s\u001b[0m 68ms/step - accuracy: 0.7370 - loss: 0.4689 - val_accuracy: 0.5900 - val_loss: 0.9928\n",
      "Epoch 7/10\n",
      "\u001b[1m16/16\u001b[0m \u001b[32m━━━━━━━━━━━━━━━━━━━━\u001b[0m\u001b[37m\u001b[0m \u001b[1m2s\u001b[0m 95ms/step - accuracy: 0.8114 - loss: 0.4319 - val_accuracy: 0.6200 - val_loss: 0.9929\n",
      "Epoch 8/10\n",
      "\u001b[1m16/16\u001b[0m \u001b[32m━━━━━━━━━━━━━━━━━━━━\u001b[0m\u001b[37m\u001b[0m \u001b[1m2s\u001b[0m 102ms/step - accuracy: 0.8413 - loss: 0.3836 - val_accuracy: 0.6200 - val_loss: 1.0722\n",
      "Epoch 9/10\n",
      "\u001b[1m16/16\u001b[0m \u001b[32m━━━━━━━━━━━━━━━━━━━━\u001b[0m\u001b[37m\u001b[0m \u001b[1m2s\u001b[0m 96ms/step - accuracy: 0.9053 - loss: 0.3067 - val_accuracy: 0.6100 - val_loss: 1.2202\n",
      "Epoch 10/10\n",
      "\u001b[1m16/16\u001b[0m \u001b[32m━━━━━━━━━━━━━━━━━━━━\u001b[0m\u001b[37m\u001b[0m \u001b[1m2s\u001b[0m 96ms/step - accuracy: 0.9637 - loss: 0.1730 - val_accuracy: 0.6200 - val_loss: 1.4068\n",
      "Epoch 1/10\n",
      "\u001b[1m16/16\u001b[0m \u001b[32m━━━━━━━━━━━━━━━━━━━━\u001b[0m\u001b[37m\u001b[0m \u001b[1m8s\u001b[0m 155ms/step - accuracy: 0.3433 - loss: 1.0982 - val_accuracy: 0.3800 - val_loss: 1.0819\n",
      "Epoch 2/10\n",
      "\u001b[1m16/16\u001b[0m \u001b[32m━━━━━━━━━━━━━━━━━━━━\u001b[0m\u001b[37m\u001b[0m \u001b[1m2s\u001b[0m 104ms/step - accuracy: 0.3888 - loss: 1.0763 - val_accuracy: 0.5200 - val_loss: 1.0247\n",
      "Epoch 3/10\n",
      "\u001b[1m16/16\u001b[0m \u001b[32m━━━━━━━━━━━━━━━━━━━━\u001b[0m\u001b[37m\u001b[0m \u001b[1m2s\u001b[0m 97ms/step - accuracy: 0.5137 - loss: 0.9968 - val_accuracy: 0.5300 - val_loss: 0.9474\n",
      "Epoch 4/10\n",
      "\u001b[1m16/16\u001b[0m \u001b[32m━━━━━━━━━━━━━━━━━━━━\u001b[0m\u001b[37m\u001b[0m \u001b[1m2s\u001b[0m 96ms/step - accuracy: 0.6341 - loss: 0.8297 - val_accuracy: 0.5900 - val_loss: 0.8270\n",
      "Epoch 5/10\n",
      "\u001b[1m16/16\u001b[0m \u001b[32m━━━━━━━━━━━━━━━━━━━━\u001b[0m\u001b[37m\u001b[0m \u001b[1m2s\u001b[0m 103ms/step - accuracy: 0.6858 - loss: 0.6880 - val_accuracy: 0.5800 - val_loss: 0.9176\n",
      "Epoch 6/10\n",
      "\u001b[1m16/16\u001b[0m \u001b[32m━━━━━━━━━━━━━━━━━━━━\u001b[0m\u001b[37m\u001b[0m \u001b[1m2s\u001b[0m 110ms/step - accuracy: 0.7318 - loss: 0.5564 - val_accuracy: 0.5700 - val_loss: 0.9530\n",
      "Epoch 7/10\n",
      "\u001b[1m16/16\u001b[0m \u001b[32m━━━━━━━━━━━━━━━━━━━━\u001b[0m\u001b[37m\u001b[0m \u001b[1m2s\u001b[0m 154ms/step - accuracy: 0.7813 - loss: 0.4429 - val_accuracy: 0.5900 - val_loss: 1.0110\n",
      "Epoch 8/10\n",
      "\u001b[1m16/16\u001b[0m \u001b[32m━━━━━━━━━━━━━━━━━━━━\u001b[0m\u001b[37m\u001b[0m \u001b[1m3s\u001b[0m 158ms/step - accuracy: 0.8867 - loss: 0.3434 - val_accuracy: 0.6000 - val_loss: 1.1135\n",
      "Epoch 9/10\n",
      "\u001b[1m16/16\u001b[0m \u001b[32m━━━━━━━━━━━━━━━━━━━━\u001b[0m\u001b[37m\u001b[0m \u001b[1m3s\u001b[0m 168ms/step - accuracy: 0.9036 - loss: 0.2749 - val_accuracy: 0.5700 - val_loss: 1.5590\n",
      "Epoch 10/10\n",
      "\u001b[1m16/16\u001b[0m \u001b[32m━━━━━━━━━━━━━━━━━━━━\u001b[0m\u001b[37m\u001b[0m \u001b[1m2s\u001b[0m 155ms/step - accuracy: 0.9604 - loss: 0.1616 - val_accuracy: 0.6800 - val_loss: 1.2940\n"
     ]
    }
   ],
   "source": [
    "history_1_1 = keras_model_1_1.fit(\n",
    "    train_ds_vectorized,\n",
    "    validation_data=val_ds_vectorized,\n",
    "    epochs=10,\n",
    "    verbose=1\n",
    ")\n",
    "history_1_2 = keras_model_1_2.fit(\n",
    "    train_ds_vectorized,\n",
    "    validation_data=val_ds_vectorized,\n",
    "    epochs=10,\n",
    "    verbose=1\n",
    ")\n",
    "history_1_3 = keras_model_1_3.fit(\n",
    "    train_ds_vectorized,\n",
    "    validation_data=val_ds_vectorized,\n",
    "    epochs=10,\n",
    "    verbose=1\n",
    ")"
   ]
  },
  {
   "cell_type": "code",
   "execution_count": 42,
   "metadata": {},
   "outputs": [
    {
     "name": "stdout",
     "output_type": "stream",
     "text": [
      "\u001b[1m13/13\u001b[0m \u001b[32m━━━━━━━━━━━━━━━━━━━━\u001b[0m\u001b[37m\u001b[0m \u001b[1m0s\u001b[0m 17ms/step\n",
      "\u001b[1m13/13\u001b[0m \u001b[32m━━━━━━━━━━━━━━━━━━━━\u001b[0m\u001b[37m\u001b[0m \u001b[1m1s\u001b[0m 41ms/step\n",
      "\u001b[1m13/13\u001b[0m \u001b[32m━━━━━━━━━━━━━━━━━━━━\u001b[0m\u001b[37m\u001b[0m \u001b[1m1s\u001b[0m 65ms/step\n"
     ]
    }
   ],
   "source": [
    "result_1_1 = evaluate_model(keras_model_1_1, test_ds_vectorized)\n",
    "result_1_2 = evaluate_model(keras_model_1_2, test_ds_vectorized)\n",
    "result_1_3 = evaluate_model(keras_model_1_3, test_ds_vectorized)"
   ]
  },
  {
   "cell_type": "code",
   "execution_count": 43,
   "metadata": {},
   "outputs": [
    {
     "name": "stdout",
     "output_type": "stream",
     "text": [
      "Result of Keras LSTM 1 Layer of 16 Unit:\n",
      "Accuracy:  0.7375\n",
      "F1 Macro:  0.7305693442471223\n",
      "\n",
      "Result of Keras LSTM 3 Layer of 16 Unit:\n",
      "Accuracy:  0.645\n",
      "F1 Macro:  0.6247922580057385\n",
      "\n",
      "Result of Keras LSTM 5 Layer of 16 Unit:\n",
      "Accuracy:  0.71\n",
      "F1 Macro:  0.6993139161158061\n"
     ]
    }
   ],
   "source": [
    "print(\"Result of Keras LSTM 1 Layer of 16 Unit:\")\n",
    "print(\"Accuracy: \", result_1_1['accuracy'])\n",
    "print(\"F1 Macro: \", result_1_1['f1_macro'])\n",
    "\n",
    "print(\"\\nResult of Keras LSTM 3 Layer of 16 Unit:\")\n",
    "print(\"Accuracy: \", result_1_2['accuracy'])\n",
    "print(\"F1 Macro: \", result_1_2['f1_macro'])\n",
    "\n",
    "print(\"\\nResult of Keras LSTM 5 Layer of 16 Unit:\")\n",
    "print(\"Accuracy: \", result_1_3['accuracy'])\n",
    "print(\"F1 Macro: \", result_1_3['f1_macro'])\n"
   ]
  },
  {
   "cell_type": "code",
   "execution_count": 44,
   "metadata": {},
   "outputs": [
    {
     "data": {
      "text/plain": [
       "Text(0, 0.5, 'F1 Macro')"
      ]
     },
     "execution_count": 44,
     "metadata": {},
     "output_type": "execute_result"
    },
    {
     "data": {
      "image/png": "[encoded data removed]",
      "text/plain": [
       "<Figure size 800x500 with 1 Axes>"
      ]
     },
     "metadata": {},
     "output_type": "display_data"
    }
   ],
   "source": [
    "plt.figure(figsize=(8, 5))\n",
    "plt.bar(['1 Layer of 16 Unit', '3 Layer of 16 Unit', '5 Layer of 16 Unit'], \n",
    "        [result_1_1['f1_macro'], result_1_2['f1_macro'], result_1_3['f1_macro']], \n",
    "        color=['blue', 'green', 'red'])\n",
    "plt.xlabel('Number of Layers Comparison')\n",
    "plt.ylabel('F1 Macro')"
   ]
  },
  {
   "cell_type": "markdown",
   "metadata": {},
   "source": [
    "## Test 2 : Cell Count"
   ]
  },
  {
   "cell_type": "code",
   "execution_count": 45,
   "metadata": {},
   "outputs": [],
   "source": [
    "config_2_1 = {\n",
    "    'embedding_dim': 128,\n",
    "    'lstm_layers': [16],\n",
    "    'bidirectional': True,\n",
    "    'dropout_rate': 0.5,\n",
    "    'num_classes': 3\n",
    "}\n",
    "\n",
    "config_2_2 = {\n",
    "    'embedding_dim': 128,\n",
    "    'lstm_layers': [64],\n",
    "    'bidirectional': True,\n",
    "    'dropout_rate': 0.5,\n",
    "    'num_classes': 3\n",
    "}\n",
    "\n",
    "config_2_3 = {\n",
    "    'embedding_dim': 128,\n",
    "    'lstm_layers': [256],\n",
    "    'bidirectional': True,\n",
    "    'dropout_rate': 0.5,\n",
    "    'num_classes': 3\n",
    "}"
   ]
  },
  {
   "cell_type": "code",
   "execution_count": 46,
   "metadata": {},
   "outputs": [],
   "source": [
    "keras_model_2_1 = build_lstm_model(\n",
    "    vectorizer=vectorizer,\n",
    "    embedding_dim=config_2_1['embedding_dim'],\n",
    "    lstm_layers=config_2_1['lstm_layers'],\n",
    "    bidirectional=config_2_1['bidirectional'],\n",
    "    dropout_rate=config_2_1['dropout_rate'],\n",
    "    num_classes=config_2_1['num_classes']\n",
    ")\n",
    "keras_model_2_2 = build_lstm_model(\n",
    "    vectorizer=vectorizer,\n",
    "    embedding_dim=config_2_2['embedding_dim'],\n",
    "    lstm_layers=config_2_2['lstm_layers'],\n",
    "    bidirectional=config_2_2['bidirectional'],\n",
    "    dropout_rate=config_2_2['dropout_rate'],\n",
    "    num_classes=config_2_2['num_classes']\n",
    ")\n",
    "keras_model_2_3 = build_lstm_model(\n",
    "    vectorizer=vectorizer,\n",
    "    embedding_dim=config_2_3['embedding_dim'],\n",
    "    lstm_layers=config_2_3['lstm_layers'],\n",
    "    bidirectional=config_2_3['bidirectional'],\n",
    "    dropout_rate=config_2_3['dropout_rate'],\n",
    "    num_classes=config_2_3['num_classes']\n",
    ")"
   ]
  },
  {
   "cell_type": "code",
   "execution_count": 47,
   "metadata": {},
   "outputs": [
    {
     "name": "stdout",
     "output_type": "stream",
     "text": [
      "Epoch 1/10\n",
      "\u001b[1m16/16\u001b[0m \u001b[32m━━━━━━━━━━━━━━━━━━━━\u001b[0m\u001b[37m\u001b[0m \u001b[1m2s\u001b[0m 36ms/step - accuracy: 0.3387 - loss: 1.0929 - val_accuracy: 0.5400 - val_loss: 1.0644\n",
      "Epoch 2/10\n",
      "\u001b[1m16/16\u001b[0m \u001b[32m━━━━━━━━━━━━━━━━━━━━\u001b[0m\u001b[37m\u001b[0m \u001b[1m0s\u001b[0m 23ms/step - accuracy: 0.4591 - loss: 1.0368 - val_accuracy: 0.5500 - val_loss: 0.9656\n",
      "Epoch 3/10\n",
      "\u001b[1m16/16\u001b[0m \u001b[32m━━━━━━━━━━━━━━━━━━━━\u001b[0m\u001b[37m\u001b[0m \u001b[1m0s\u001b[0m 29ms/step - accuracy: 0.6459 - loss: 0.8707 - val_accuracy: 0.5500 - val_loss: 0.8764\n",
      "Epoch 4/10\n",
      "\u001b[1m16/16\u001b[0m \u001b[32m━━━━━━━━━━━━━━━━━━━━\u001b[0m\u001b[37m\u001b[0m \u001b[1m0s\u001b[0m 23ms/step - accuracy: 0.7049 - loss: 0.7479 - val_accuracy: 0.6300 - val_loss: 0.8214\n",
      "Epoch 5/10\n",
      "\u001b[1m16/16\u001b[0m \u001b[32m━━━━━━━━━━━━━━━━━━━━\u001b[0m\u001b[37m\u001b[0m \u001b[1m0s\u001b[0m 23ms/step - accuracy: 0.7789 - loss: 0.5890 - val_accuracy: 0.6700 - val_loss: 0.7682\n",
      "Epoch 6/10\n",
      "\u001b[1m16/16\u001b[0m \u001b[32m━━━━━━━━━━━━━━━━━━━━\u001b[0m\u001b[37m\u001b[0m \u001b[1m0s\u001b[0m 26ms/step - accuracy: 0.8469 - loss: 0.4571 - val_accuracy: 0.7200 - val_loss: 0.7634\n",
      "Epoch 7/10\n",
      "\u001b[1m16/16\u001b[0m \u001b[32m━━━━━━━━━━━━━━━━━━━━\u001b[0m\u001b[37m\u001b[0m \u001b[1m1s\u001b[0m 38ms/step - accuracy: 0.9291 - loss: 0.2903 - val_accuracy: 0.7100 - val_loss: 0.8490\n",
      "Epoch 8/10\n",
      "\u001b[1m16/16\u001b[0m \u001b[32m━━━━━━━━━━━━━━━━━━━━\u001b[0m\u001b[37m\u001b[0m \u001b[1m1s\u001b[0m 38ms/step - accuracy: 0.9688 - loss: 0.1759 - val_accuracy: 0.6800 - val_loss: 0.8889\n",
      "Epoch 9/10\n",
      "\u001b[1m16/16\u001b[0m \u001b[32m━━━━━━━━━━━━━━━━━━━━\u001b[0m\u001b[37m\u001b[0m \u001b[1m1s\u001b[0m 38ms/step - accuracy: 0.9903 - loss: 0.0917 - val_accuracy: 0.7100 - val_loss: 0.9461\n",
      "Epoch 10/10\n",
      "\u001b[1m16/16\u001b[0m \u001b[32m━━━━━━━━━━━━━━━━━━━━\u001b[0m\u001b[37m\u001b[0m \u001b[1m1s\u001b[0m 38ms/step - accuracy: 0.9889 - loss: 0.0635 - val_accuracy: 0.6900 - val_loss: 1.1173\n",
      "Epoch 1/10\n",
      "\u001b[1m16/16\u001b[0m \u001b[32m━━━━━━━━━━━━━━━━━━━━\u001b[0m\u001b[37m\u001b[0m \u001b[1m2s\u001b[0m 61ms/step - accuracy: 0.3640 - loss: 1.0904 - val_accuracy: 0.4600 - val_loss: 1.0408\n",
      "Epoch 2/10\n",
      "\u001b[1m16/16\u001b[0m \u001b[32m━━━━━━━━━━━━━━━━━━━━\u001b[0m\u001b[37m\u001b[0m \u001b[1m1s\u001b[0m 45ms/step - accuracy: 0.5209 - loss: 1.0059 - val_accuracy: 0.5500 - val_loss: 0.8979\n",
      "Epoch 3/10\n",
      "\u001b[1m16/16\u001b[0m \u001b[32m━━━━━━━━━━━━━━━━━━━━\u001b[0m\u001b[37m\u001b[0m \u001b[1m1s\u001b[0m 43ms/step - accuracy: 0.6038 - loss: 0.7776 - val_accuracy: 0.5900 - val_loss: 0.8487\n",
      "Epoch 4/10\n",
      "\u001b[1m16/16\u001b[0m \u001b[32m━━━━━━━━━━━━━━━━━━━━\u001b[0m\u001b[37m\u001b[0m \u001b[1m1s\u001b[0m 41ms/step - accuracy: 0.7017 - loss: 0.6015 - val_accuracy: 0.6400 - val_loss: 0.7827\n",
      "Epoch 5/10\n",
      "\u001b[1m16/16\u001b[0m \u001b[32m━━━━━━━━━━━━━━━━━━━━\u001b[0m\u001b[37m\u001b[0m \u001b[1m1s\u001b[0m 42ms/step - accuracy: 0.7532 - loss: 0.4566 - val_accuracy: 0.6400 - val_loss: 0.8376\n",
      "Epoch 6/10\n",
      "\u001b[1m16/16\u001b[0m \u001b[32m━━━━━━━━━━━━━━━━━━━━\u001b[0m\u001b[37m\u001b[0m \u001b[1m1s\u001b[0m 56ms/step - accuracy: 0.8442 - loss: 0.3769 - val_accuracy: 0.6300 - val_loss: 0.9328\n",
      "Epoch 7/10\n",
      "\u001b[1m16/16\u001b[0m \u001b[32m━━━━━━━━━━━━━━━━━━━━\u001b[0m\u001b[37m\u001b[0m \u001b[1m1s\u001b[0m 75ms/step - accuracy: 0.9202 - loss: 0.2272 - val_accuracy: 0.7000 - val_loss: 0.8938\n",
      "Epoch 8/10\n",
      "\u001b[1m16/16\u001b[0m \u001b[32m━━━━━━━━━━━━━━━━━━━━\u001b[0m\u001b[37m\u001b[0m \u001b[1m1s\u001b[0m 76ms/step - accuracy: 0.9789 - loss: 0.0645 - val_accuracy: 0.6900 - val_loss: 1.0113\n",
      "Epoch 9/10\n",
      "\u001b[1m16/16\u001b[0m \u001b[32m━━━━━━━━━━━━━━━━━━━━\u001b[0m\u001b[37m\u001b[0m \u001b[1m1s\u001b[0m 76ms/step - accuracy: 0.9975 - loss: 0.0306 - val_accuracy: 0.7400 - val_loss: 1.0656\n",
      "Epoch 10/10\n",
      "\u001b[1m16/16\u001b[0m \u001b[32m━━━━━━━━━━━━━━━━━━━━\u001b[0m\u001b[37m\u001b[0m \u001b[1m1s\u001b[0m 87ms/step - accuracy: 0.9964 - loss: 0.0177 - val_accuracy: 0.7200 - val_loss: 1.1314\n",
      "Epoch 1/10\n",
      "\u001b[1m16/16\u001b[0m \u001b[32m━━━━━━━━━━━━━━━━━━━━\u001b[0m\u001b[37m\u001b[0m \u001b[1m5s\u001b[0m 243ms/step - accuracy: 0.4101 - loss: 1.0797 - val_accuracy: 0.5400 - val_loss: 0.9568\n",
      "Epoch 2/10\n",
      "\u001b[1m16/16\u001b[0m \u001b[32m━━━━━━━━━━━━━━━━━━━━\u001b[0m\u001b[37m\u001b[0m \u001b[1m4s\u001b[0m 246ms/step - accuracy: 0.5420 - loss: 0.8846 - val_accuracy: 0.6200 - val_loss: 0.8719\n",
      "Epoch 3/10\n",
      "\u001b[1m16/16\u001b[0m \u001b[32m━━━━━━━━━━━━━━━━━━━━\u001b[0m\u001b[37m\u001b[0m \u001b[1m4s\u001b[0m 256ms/step - accuracy: 0.6863 - loss: 0.6485 - val_accuracy: 0.6500 - val_loss: 0.7949\n",
      "Epoch 4/10\n",
      "\u001b[1m16/16\u001b[0m \u001b[32m━━━━━━━━━━━━━━━━━━━━\u001b[0m\u001b[37m\u001b[0m \u001b[1m4s\u001b[0m 242ms/step - accuracy: 0.8011 - loss: 0.4776 - val_accuracy: 0.6400 - val_loss: 1.0269\n",
      "Epoch 5/10\n",
      "\u001b[1m16/16\u001b[0m \u001b[32m━━━━━━━━━━━━━━━━━━━━\u001b[0m\u001b[37m\u001b[0m \u001b[1m4s\u001b[0m 249ms/step - accuracy: 0.8710 - loss: 0.3310 - val_accuracy: 0.6700 - val_loss: 1.0210\n",
      "Epoch 6/10\n",
      "\u001b[1m16/16\u001b[0m \u001b[32m━━━━━━━━━━━━━━━━━━━━\u001b[0m\u001b[37m\u001b[0m \u001b[1m4s\u001b[0m 277ms/step - accuracy: 0.9537 - loss: 0.1749 - val_accuracy: 0.7000 - val_loss: 1.0369\n",
      "Epoch 7/10\n",
      "\u001b[1m16/16\u001b[0m \u001b[32m━━━━━━━━━━━━━━━━━━━━\u001b[0m\u001b[37m\u001b[0m \u001b[1m5s\u001b[0m 320ms/step - accuracy: 0.9937 - loss: 0.0527 - val_accuracy: 0.7000 - val_loss: 1.2817\n",
      "Epoch 8/10\n",
      "\u001b[1m16/16\u001b[0m \u001b[32m━━━━━━━━━━━━━━━━━━━━\u001b[0m\u001b[37m\u001b[0m \u001b[1m6s\u001b[0m 380ms/step - accuracy: 0.9964 - loss: 0.0242 - val_accuracy: 0.7000 - val_loss: 1.4661\n",
      "Epoch 9/10\n",
      "\u001b[1m16/16\u001b[0m \u001b[32m━━━━━━━━━━━━━━━━━━━━\u001b[0m\u001b[37m\u001b[0m \u001b[1m6s\u001b[0m 394ms/step - accuracy: 1.0000 - loss: 0.0071 - val_accuracy: 0.7100 - val_loss: 1.4321\n",
      "Epoch 10/10\n",
      "\u001b[1m16/16\u001b[0m \u001b[32m━━━━━━━━━━━━━━━━━━━━\u001b[0m\u001b[37m\u001b[0m \u001b[1m7s\u001b[0m 446ms/step - accuracy: 1.0000 - loss: 0.0049 - val_accuracy: 0.7200 - val_loss: 1.5214\n"
     ]
    }
   ],
   "source": [
    "history_2_1 = keras_model_2_1.fit(\n",
    "    train_ds_vectorized,\n",
    "    validation_data=val_ds_vectorized,\n",
    "    epochs=10,\n",
    "    verbose=1\n",
    ")\n",
    "history_2_2 = keras_model_2_2.fit(\n",
    "    train_ds_vectorized,\n",
    "    validation_data=val_ds_vectorized,\n",
    "    epochs=10,\n",
    "    verbose=1\n",
    ")\n",
    "history_2_3 = keras_model_2_3.fit(\n",
    "    train_ds_vectorized,\n",
    "    validation_data=val_ds_vectorized,\n",
    "    epochs=10,\n",
    "    verbose=1\n",
    ")"
   ]
  },
  {
   "cell_type": "code",
   "execution_count": 48,
   "metadata": {},
   "outputs": [
    {
     "name": "stdout",
     "output_type": "stream",
     "text": [
      "\u001b[1m13/13\u001b[0m \u001b[32m━━━━━━━━━━━━━━━━━━━━\u001b[0m\u001b[37m\u001b[0m \u001b[1m1s\u001b[0m 35ms/step\n",
      "\u001b[1m13/13\u001b[0m \u001b[32m━━━━━━━━━━━━━━━━━━━━\u001b[0m\u001b[37m\u001b[0m \u001b[1m1s\u001b[0m 25ms/step\n",
      "\u001b[1m13/13\u001b[0m \u001b[32m━━━━━━━━━━━━━━━━━━━━\u001b[0m\u001b[37m\u001b[0m \u001b[1m3s\u001b[0m 141ms/step\n"
     ]
    }
   ],
   "source": [
    "result_2_1 = evaluate_model(keras_model_2_1, test_ds_vectorized)\n",
    "result_2_2 = evaluate_model(keras_model_2_2, test_ds_vectorized)\n",
    "result_2_3 = evaluate_model(keras_model_2_3, test_ds_vectorized)"
   ]
  },
  {
   "cell_type": "code",
   "execution_count": 49,
   "metadata": {},
   "outputs": [
    {
     "name": "stdout",
     "output_type": "stream",
     "text": [
      "Result of Keras LSTM 1 Layer of 16 Unit:\n",
      "Accuracy:  0.7075\n",
      "F1 Macro:  0.6683373261541624\n",
      "\n",
      "Result of Keras LSTM 1 Layer of 64 Unit:\n",
      "Accuracy:  0.715\n",
      "F1 Macro:  0.709834462962862\n",
      "\n",
      "Result of Keras LSTM 1 Layer of 256 Unit:\n",
      "Accuracy:  0.7325\n",
      "F1 Macro:  0.7269951840385277\n"
     ]
    }
   ],
   "source": [
    "print(\"Result of Keras LSTM 1 Layer of 16 Unit:\")\n",
    "print(\"Accuracy: \", result_2_1['accuracy'])\n",
    "print(\"F1 Macro: \", result_2_1['f1_macro'])\n",
    "\n",
    "print(\"\\nResult of Keras LSTM 1 Layer of 64 Unit:\")\n",
    "print(\"Accuracy: \", result_2_2['accuracy'])\n",
    "print(\"F1 Macro: \", result_2_2['f1_macro'])\n",
    "\n",
    "print(\"\\nResult of Keras LSTM 1 Layer of 256 Unit:\")\n",
    "print(\"Accuracy: \", result_2_3['accuracy'])\n",
    "print(\"F1 Macro: \", result_2_3['f1_macro'])\n"
   ]
  },
  {
   "cell_type": "code",
   "execution_count": 50,
   "metadata": {},
   "outputs": [
    {
     "data": {
      "text/plain": [
       "Text(0, 0.5, 'F1 Macro')"
      ]
     },
     "execution_count": 50,
     "metadata": {},
     "output_type": "execute_result"
    },
    {
     "data": {
      "image/png": "[encoded data removed]",
      "text/plain": [
       "<Figure size 800x500 with 1 Axes>"
      ]
     },
     "metadata": {},
     "output_type": "display_data"
    }
   ],
   "source": [
    "plt.figure(figsize=(8, 5))\n",
    "plt.bar(['1 Layer of 16 Unit', '1 Layer of 64 Unit', '1 Layer of 256 Unit'], \n",
    "        [result_2_1['f1_macro'], result_2_2['f1_macro'], result_2_3['f1_macro']], \n",
    "        color=['blue', 'green', 'red'])\n",
    "plt.xlabel('Number of Layers Comparison')\n",
    "plt.ylabel('F1 Macro')\n"
   ]
  },
  {
   "cell_type": "markdown",
   "metadata": {},
   "source": [
    "## Test 3 : Directional"
   ]
  },
  {
   "cell_type": "code",
   "execution_count": 51,
   "metadata": {},
   "outputs": [],
   "source": [
    "config_3_1 = {\n",
    "    'embedding_dim': 128,\n",
    "    'lstm_layers': [16],\n",
    "    'bidirectional': False,\n",
    "    'dropout_rate': 0.5,\n",
    "    'num_classes': 3\n",
    "}\n",
    "config_3_2 = {\n",
    "    'embedding_dim': 128,\n",
    "    'lstm_layers': [16],\n",
    "    'bidirectional': True,\n",
    "    'dropout_rate': 0.5,\n",
    "    'num_classes': 3\n",
    "}"
   ]
  },
  {
   "cell_type": "code",
   "execution_count": 52,
   "metadata": {},
   "outputs": [],
   "source": [
    "keras_model_3_1 = build_lstm_model(\n",
    "    vectorizer=vectorizer,\n",
    "    embedding_dim=config_3_1['embedding_dim'],\n",
    "    lstm_layers=config_3_1['lstm_layers'],\n",
    "    bidirectional=config_3_1['bidirectional'],\n",
    "    dropout_rate=config_3_1['dropout_rate'],\n",
    "    num_classes=config_3_1['num_classes']\n",
    ")\n",
    "keras_model_3_2 = build_lstm_model(\n",
    "    vectorizer=vectorizer,\n",
    "    embedding_dim=config_3_2['embedding_dim'],\n",
    "    lstm_layers=config_3_2['lstm_layers'],\n",
    "    bidirectional=config_3_2['bidirectional'],\n",
    "    dropout_rate=config_3_2['dropout_rate'],\n",
    "    num_classes=config_3_2['num_classes']\n",
    ")"
   ]
  },
  {
   "cell_type": "code",
   "execution_count": 53,
   "metadata": {},
   "outputs": [
    {
     "name": "stdout",
     "output_type": "stream",
     "text": [
      "Epoch 1/10\n",
      "\u001b[1m16/16\u001b[0m \u001b[32m━━━━━━━━━━━━━━━━━━━━\u001b[0m\u001b[37m\u001b[0m \u001b[1m2s\u001b[0m 39ms/step - accuracy: 0.3955 - loss: 1.0959 - val_accuracy: 0.3800 - val_loss: 1.0827\n",
      "Epoch 2/10\n",
      "\u001b[1m16/16\u001b[0m \u001b[32m━━━━━━━━━━━━━━━━━━━━\u001b[0m\u001b[37m\u001b[0m \u001b[1m0s\u001b[0m 24ms/step - accuracy: 0.3948 - loss: 1.0849 - val_accuracy: 0.3800 - val_loss: 1.0789\n",
      "Epoch 3/10\n",
      "\u001b[1m16/16\u001b[0m \u001b[32m━━━━━━━━━━━━━━━━━━━━\u001b[0m\u001b[37m\u001b[0m \u001b[1m0s\u001b[0m 24ms/step - accuracy: 0.3849 - loss: 1.0845 - val_accuracy: 0.3800 - val_loss: 1.0784\n",
      "Epoch 4/10\n",
      "\u001b[1m16/16\u001b[0m \u001b[32m━━━━━━━━━━━━━━━━━━━━\u001b[0m\u001b[37m\u001b[0m \u001b[1m0s\u001b[0m 27ms/step - accuracy: 0.3500 - loss: 1.0848 - val_accuracy: 0.3800 - val_loss: 1.0791\n",
      "Epoch 5/10\n",
      "\u001b[1m16/16\u001b[0m \u001b[32m━━━━━━━━━━━━━━━━━━━━\u001b[0m\u001b[37m\u001b[0m \u001b[1m0s\u001b[0m 22ms/step - accuracy: 0.3819 - loss: 1.0865 - val_accuracy: 0.3800 - val_loss: 1.0800\n",
      "Epoch 6/10\n",
      "\u001b[1m16/16\u001b[0m \u001b[32m━━━━━━━━━━━━━━━━━━━━\u001b[0m\u001b[37m\u001b[0m \u001b[1m0s\u001b[0m 23ms/step - accuracy: 0.3734 - loss: 1.0854 - val_accuracy: 0.3800 - val_loss: 1.0806\n",
      "Epoch 7/10\n",
      "\u001b[1m16/16\u001b[0m \u001b[32m━━━━━━━━━━━━━━━━━━━━\u001b[0m\u001b[37m\u001b[0m \u001b[1m0s\u001b[0m 27ms/step - accuracy: 0.3848 - loss: 1.0831 - val_accuracy: 0.3800 - val_loss: 1.0812\n",
      "Epoch 8/10\n",
      "\u001b[1m16/16\u001b[0m \u001b[32m━━━━━━━━━━━━━━━━━━━━\u001b[0m\u001b[37m\u001b[0m \u001b[1m0s\u001b[0m 25ms/step - accuracy: 0.3754 - loss: 1.0841 - val_accuracy: 0.3800 - val_loss: 1.0800\n",
      "Epoch 9/10\n",
      "\u001b[1m16/16\u001b[0m \u001b[32m━━━━━━━━━━━━━━━━━━━━\u001b[0m\u001b[37m\u001b[0m \u001b[1m0s\u001b[0m 23ms/step - accuracy: 0.3941 - loss: 1.0860 - val_accuracy: 0.3800 - val_loss: 1.0796\n",
      "Epoch 10/10\n",
      "\u001b[1m16/16\u001b[0m \u001b[32m━━━━━━━━━━━━━━━━━━━━\u001b[0m\u001b[37m\u001b[0m \u001b[1m1s\u001b[0m 25ms/step - accuracy: 0.3592 - loss: 1.0818 - val_accuracy: 0.3800 - val_loss: 1.0806\n",
      "Epoch 1/10\n",
      "\u001b[1m16/16\u001b[0m \u001b[32m━━━━━━━━━━━━━━━━━━━━\u001b[0m\u001b[37m\u001b[0m \u001b[1m2s\u001b[0m 41ms/step - accuracy: 0.4055 - loss: 1.0874 - val_accuracy: 0.3800 - val_loss: 1.0628\n",
      "Epoch 2/10\n",
      "\u001b[1m16/16\u001b[0m \u001b[32m━━━━━━━━━━━━━━━━━━━━\u001b[0m\u001b[37m\u001b[0m \u001b[1m0s\u001b[0m 24ms/step - accuracy: 0.4698 - loss: 1.0570 - val_accuracy: 0.5900 - val_loss: 1.0016\n",
      "Epoch 3/10\n",
      "\u001b[1m16/16\u001b[0m \u001b[32m━━━━━━━━━━━━━━━━━━━━\u001b[0m\u001b[37m\u001b[0m \u001b[1m0s\u001b[0m 25ms/step - accuracy: 0.6566 - loss: 0.9364 - val_accuracy: 0.6100 - val_loss: 0.8835\n",
      "Epoch 4/10\n",
      "\u001b[1m16/16\u001b[0m \u001b[32m━━━━━━━━━━━━━━━━━━━━\u001b[0m\u001b[37m\u001b[0m \u001b[1m0s\u001b[0m 25ms/step - accuracy: 0.7137 - loss: 0.7580 - val_accuracy: 0.6300 - val_loss: 0.7938\n",
      "Epoch 5/10\n",
      "\u001b[1m16/16\u001b[0m \u001b[32m━━━━━━━━━━━━━━━━━━━━\u001b[0m\u001b[37m\u001b[0m \u001b[1m0s\u001b[0m 26ms/step - accuracy: 0.7886 - loss: 0.5958 - val_accuracy: 0.6400 - val_loss: 0.7536\n",
      "Epoch 6/10\n",
      "\u001b[1m16/16\u001b[0m \u001b[32m━━━━━━━━━━━━━━━━━━━━\u001b[0m\u001b[37m\u001b[0m \u001b[1m0s\u001b[0m 29ms/step - accuracy: 0.9260 - loss: 0.3487 - val_accuracy: 0.7000 - val_loss: 0.7352\n",
      "Epoch 7/10\n",
      "\u001b[1m16/16\u001b[0m \u001b[32m━━━━━━━━━━━━━━━━━━━━\u001b[0m\u001b[37m\u001b[0m \u001b[1m1s\u001b[0m 42ms/step - accuracy: 0.9371 - loss: 0.2335 - val_accuracy: 0.7600 - val_loss: 0.7225\n",
      "Epoch 8/10\n",
      "\u001b[1m16/16\u001b[0m \u001b[32m━━━━━━━━━━━━━━━━━━━━\u001b[0m\u001b[37m\u001b[0m \u001b[1m1s\u001b[0m 46ms/step - accuracy: 0.9730 - loss: 0.1416 - val_accuracy: 0.7900 - val_loss: 0.7227\n",
      "Epoch 9/10\n",
      "\u001b[1m16/16\u001b[0m \u001b[32m━━━━━━━━━━━━━━━━━━━━\u001b[0m\u001b[37m\u001b[0m \u001b[1m1s\u001b[0m 50ms/step - accuracy: 0.9925 - loss: 0.0767 - val_accuracy: 0.7800 - val_loss: 0.7679\n",
      "Epoch 10/10\n",
      "\u001b[1m16/16\u001b[0m \u001b[32m━━━━━━━━━━━━━━━━━━━━\u001b[0m\u001b[37m\u001b[0m \u001b[1m1s\u001b[0m 49ms/step - accuracy: 0.9931 - loss: 0.0684 - val_accuracy: 0.7900 - val_loss: 0.8029\n"
     ]
    }
   ],
   "source": [
    "history_3_1 = keras_model_3_1.fit(\n",
    "    train_ds_vectorized,\n",
    "    validation_data=val_ds_vectorized,\n",
    "    epochs=10,\n",
    "    verbose=1\n",
    ")\n",
    "history_3_2 = keras_model_3_2.fit(\n",
    "    train_ds_vectorized,\n",
    "    validation_data=val_ds_vectorized,\n",
    "    epochs=10,\n",
    "    verbose=1\n",
    ")"
   ]
  },
  {
   "cell_type": "code",
   "execution_count": 54,
   "metadata": {},
   "outputs": [
    {
     "name": "stdout",
     "output_type": "stream",
     "text": [
      "\u001b[1m13/13\u001b[0m \u001b[32m━━━━━━━━━━━━━━━━━━━━\u001b[0m\u001b[37m\u001b[0m \u001b[1m0s\u001b[0m 12ms/step\n",
      "\u001b[1m13/13\u001b[0m \u001b[32m━━━━━━━━━━━━━━━━━━━━\u001b[0m\u001b[37m\u001b[0m \u001b[1m0s\u001b[0m 17ms/step\n"
     ]
    }
   ],
   "source": [
    "result_3_1 = evaluate_model(keras_model_3_1, test_ds_vectorized)\n",
    "result_3_2 = evaluate_model(keras_model_3_2, test_ds_vectorized)"
   ]
  },
  {
   "cell_type": "code",
   "execution_count": 55,
   "metadata": {},
   "outputs": [
    {
     "name": "stdout",
     "output_type": "stream",
     "text": [
      "Result of Keras Unidirectional LSTM 1 Layer of 16 Unit:\n",
      "Accuracy:  0.3825\n",
      "F1 Macro:  0.1844484629294756\n",
      "\n",
      "Result of Keras Bidirectional LSTM 1 Layer of 16 Unit:\n",
      "Accuracy:  0.7425\n",
      "F1 Macro:  0.7305526113211783\n"
     ]
    }
   ],
   "source": [
    "print(\"Result of Keras Unidirectional LSTM 1 Layer of 16 Unit:\")\n",
    "print(\"Accuracy: \", result_3_1['accuracy'])\n",
    "print(\"F1 Macro: \", result_3_1['f1_macro'])\n",
    "\n",
    "print(\"\\nResult of Keras Bidirectional LSTM 1 Layer of 16 Unit:\")\n",
    "print(\"Accuracy: \", result_3_2['accuracy'])\n",
    "print(\"F1 Macro: \", result_3_2['f1_macro'])"
   ]
  },
  {
   "cell_type": "code",
   "execution_count": 56,
   "metadata": {},
   "outputs": [
    {
     "data": {
      "text/plain": [
       "Text(0, 0.5, 'F1 Macro')"
      ]
     },
     "execution_count": 56,
     "metadata": {},
     "output_type": "execute_result"
    },
    {
     "data": {
      "image/png": "[encoded data removed]",
      "text/plain": [
       "<Figure size 800x500 with 1 Axes>"
      ]
     },
     "metadata": {},
     "output_type": "display_data"
    }
   ],
   "source": [
    "plt.figure(figsize=(8, 5))\n",
    "plt.bar(['Unidirectional LSTM', 'Bidirectional LSTM'], \n",
    "        [result_3_1['f1_macro'], result_3_2['f1_macro']], \n",
    "        color=['blue', 'green'])\n",
    "plt.xlabel('Directional Comparison')\n",
    "plt.ylabel('F1 Macro')\n"
   ]
  },
  {
   "cell_type": "markdown",
   "metadata": {},
   "source": [
    "## Test 4 : Forward Scratch"
   ]
  },
  {
   "cell_type": "code",
   "execution_count": 67,
   "metadata": {},
   "outputs": [],
   "source": [
    "config = {\n",
    "    'data_path': 'data/nusax_sentiment_id',\n",
    "    'batch_size': 32,\n",
    "    'max_tokens': 20000,\n",
    "    'sequence_length': 128,\n",
    "    'embedding_dim': 128,\n",
    "    'lstm_layers': [256],\n",
    "    'bidirectional': True,\n",
    "    'dropout_rate': 0.5,\n",
    "    'num_classes': 3,\n",
    "    'epochs': 10,\n",
    "}"
   ]
  },
  {
   "cell_type": "code",
   "execution_count": 68,
   "metadata": {},
   "outputs": [],
   "source": [
    "# Build model\n",
    "custom_model = LSTMModel(\n",
    "    vocab_size=vocab_size,\n",
    "    embedding_dim=config['embedding_dim'],\n",
    "    lstm_layers=config['lstm_layers'],\n",
    "    bidirectional=config['bidirectional'],\n",
    "    num_classes=config['num_classes'],\n",
    ")\n",
    "\n",
    "keras_model = build_lstm_model(\n",
    "    vectorizer=vectorizer,\n",
    "    embedding_dim=config['embedding_dim'],\n",
    "    lstm_layers=config['lstm_layers'],\n",
    "    bidirectional=config['bidirectional'],\n",
    "    dropout_rate=config['dropout_rate'],\n",
    "    num_classes=config['num_classes']\n",
    ")"
   ]
  },
  {
   "cell_type": "code",
   "execution_count": 70,
   "metadata": {},
   "outputs": [
    {
     "name": "stdout",
     "output_type": "stream",
     "text": [
      "Epoch 1/10\n",
      "\u001b[1m16/16\u001b[0m \u001b[32m━━━━━━━━━━━━━━━━━━━━\u001b[0m\u001b[37m\u001b[0m \u001b[1m4s\u001b[0m 249ms/step - accuracy: 0.5317 - loss: 0.9045 - val_accuracy: 0.6400 - val_loss: 0.8739\n",
      "Epoch 2/10\n",
      "\u001b[1m16/16\u001b[0m \u001b[32m━━━━━━━━━━━━━━━━━━━━\u001b[0m\u001b[37m\u001b[0m \u001b[1m4s\u001b[0m 235ms/step - accuracy: 0.6904 - loss: 0.6460 - val_accuracy: 0.6400 - val_loss: 0.8114\n",
      "Epoch 3/10\n",
      "\u001b[1m16/16\u001b[0m \u001b[32m━━━━━━━━━━━━━━━━━━━━\u001b[0m\u001b[37m\u001b[0m \u001b[1m3s\u001b[0m 213ms/step - accuracy: 0.7693 - loss: 0.4711 - val_accuracy: 0.6500 - val_loss: 0.9530\n",
      "Epoch 4/10\n",
      "\u001b[1m16/16\u001b[0m \u001b[32m━━━━━━━━━━━━━━━━━━━━\u001b[0m\u001b[37m\u001b[0m \u001b[1m3s\u001b[0m 211ms/step - accuracy: 0.9009 - loss: 0.2749 - val_accuracy: 0.7300 - val_loss: 1.3102\n",
      "Epoch 5/10\n",
      "\u001b[1m16/16\u001b[0m \u001b[32m━━━━━━━━━━━━━━━━━━━━\u001b[0m\u001b[37m\u001b[0m \u001b[1m4s\u001b[0m 243ms/step - accuracy: 0.9335 - loss: 0.4325 - val_accuracy: 0.5900 - val_loss: 0.8249\n",
      "Epoch 6/10\n",
      "\u001b[1m16/16\u001b[0m \u001b[32m━━━━━━━━━━━━━━━━━━━━\u001b[0m\u001b[37m\u001b[0m \u001b[1m5s\u001b[0m 288ms/step - accuracy: 0.9714 - loss: 0.2078 - val_accuracy: 0.7000 - val_loss: 1.0998\n",
      "Epoch 7/10\n",
      "\u001b[1m16/16\u001b[0m \u001b[32m━━━━━━━━━━━━━━━━━━━━\u001b[0m\u001b[37m\u001b[0m \u001b[1m5s\u001b[0m 296ms/step - accuracy: 0.9920 - loss: 0.0754 - val_accuracy: 0.6500 - val_loss: 1.0920\n",
      "Epoch 8/10\n",
      "\u001b[1m16/16\u001b[0m \u001b[32m━━━━━━━━━━━━━━━━━━━━\u001b[0m\u001b[37m\u001b[0m \u001b[1m5s\u001b[0m 289ms/step - accuracy: 0.9862 - loss: 0.0429 - val_accuracy: 0.6900 - val_loss: 1.1506\n",
      "Epoch 9/10\n",
      "\u001b[1m16/16\u001b[0m \u001b[32m━━━━━━━━━━━━━━━━━━━━\u001b[0m\u001b[37m\u001b[0m \u001b[1m5s\u001b[0m 286ms/step - accuracy: 0.9994 - loss: 0.0117 - val_accuracy: 0.7100 - val_loss: 1.2451\n",
      "Epoch 10/10\n",
      "\u001b[1m16/16\u001b[0m \u001b[32m━━━━━━━━━━━━━━━━━━━━\u001b[0m\u001b[37m\u001b[0m \u001b[1m5s\u001b[0m 322ms/step - accuracy: 1.0000 - loss: 0.0041 - val_accuracy: 0.7100 - val_loss: 1.3315\n"
     ]
    }
   ],
   "source": [
    "history = keras_model.fit(\n",
    "    train_ds_vectorized,\n",
    "    validation_data=val_ds_vectorized,\n",
    "    epochs=config['epochs'],\n",
    "    verbose=1\n",
    ")"
   ]
  },
  {
   "cell_type": "code",
   "execution_count": 71,
   "metadata": {},
   "outputs": [],
   "source": [
    "custom_model.set_weights_from_keras(keras_model)"
   ]
  },
  {
   "cell_type": "code",
   "execution_count": 72,
   "metadata": {},
   "outputs": [],
   "source": [
    "all_test_inputs = []\n",
    "all_test_labels = []\n",
    "\n",
    "for batch in test_ds_vectorized:\n",
    "    batch_inputs, batch_labels = batch\n",
    "    all_test_inputs.append(batch_inputs.numpy())\n",
    "    all_test_labels.append(batch_labels.numpy())\n",
    "\n",
    "full_test_inputs = np.concatenate(all_test_inputs, axis=0)\n",
    "full_test_labels = np.concatenate(all_test_labels, axis=0)"
   ]
  },
  {
   "cell_type": "code",
   "execution_count": 73,
   "metadata": {},
   "outputs": [],
   "source": [
    "keras_pred = keras_model.predict(full_test_inputs, verbose=0)\n",
    "custom_pred = custom_model.forward(full_test_inputs)"
   ]
  },
  {
   "cell_type": "code",
   "execution_count": 74,
   "metadata": {},
   "outputs": [
    {
     "name": "stdout",
     "output_type": "stream",
     "text": [
      "Max difference: 0.00000417\n",
      "Mean difference: 0.00000014\n",
      "Std difference: 0.00000032\n",
      "\n",
      "Dataset prediction agreement: 1.0000\n",
      "\n",
      "Class 0 - Mean diff: 0.000000, Agreement: 1.0000\n",
      "Class 1 - Mean diff: 0.000000, Agreement: 1.0000\n",
      "Class 2 - Mean diff: 0.000000, Agreement: 1.0000\n"
     ]
    }
   ],
   "source": [
    "max_diff = np.max(np.abs(keras_pred - custom_pred))\n",
    "mean_diff = np.mean(np.abs(keras_pred - custom_pred))\n",
    "std_diff = np.std(np.abs(keras_pred - custom_pred))\n",
    "\n",
    "print(f\"Max difference: {max_diff:.8f}\")\n",
    "print(f\"Mean difference: {mean_diff:.8f}\")\n",
    "print(f\"Std difference: {std_diff:.8f}\")\n",
    "\n",
    "# Calculate class-wise prediction differences\n",
    "keras_pred_classes = np.argmax(keras_pred, axis=1)\n",
    "custom_pred_classes = np.argmax(custom_pred, axis=1)\n",
    "\n",
    "full_prediction_agreement = np.mean(keras_pred_classes == custom_pred_classes)\n",
    "print(f\"\\nDataset prediction agreement: {full_prediction_agreement:.4f}\\n\")\n",
    "\n",
    "# Analyze differences by class\n",
    "for class_id in range(config['num_classes']):\n",
    "    class_mask = full_test_labels == class_id\n",
    "    if np.any(class_mask):\n",
    "        class_diff = np.mean(np.abs(keras_pred[class_mask] - custom_pred[class_mask]))\n",
    "        class_agreement = np.mean(keras_pred_classes[class_mask] == custom_pred_classes[class_mask])\n",
    "        print(f\"Class {class_id} - Mean diff: {class_diff:.6f}, Agreement: {class_agreement:.4f}\")"
   ]
  },
  {
   "cell_type": "code",
   "execution_count": 64,
   "metadata": {},
   "outputs": [
    {
     "name": "stdout",
     "output_type": "stream",
     "text": [
      "\u001b[1m13/13\u001b[0m \u001b[32m━━━━━━━━━━━━━━━━━━━━\u001b[0m\u001b[37m\u001b[0m \u001b[1m1s\u001b[0m 41ms/step\n"
     ]
    }
   ],
   "source": [
    "keras_results = evaluate_model(\n",
    "    model=keras_model,\n",
    "    test_dataset=test_ds_vectorized,\n",
    "    vectorizer=None\n",
    ")\n",
    "\n",
    "custom_predicted_labels = custom_pred_classes\n",
    "custom_accuracy = accuracy_score(full_test_labels, custom_predicted_labels)\n",
    "custom_f1_macro = f1_score(full_test_labels, custom_predicted_labels, average='macro')\n",
    "custom_f1_weighted = f1_score(full_test_labels, custom_predicted_labels, average='weighted')\n",
    "\n",
    "custom_results = {\n",
    "    'accuracy': custom_accuracy,\n",
    "    'f1_macro': custom_f1_macro,\n",
    "    'f1_weighted': custom_f1_weighted,\n",
    "    'predictions': custom_predicted_labels,\n",
    "    'true_labels': full_test_labels\n",
    "}"
   ]
  },
  {
   "cell_type": "code",
   "execution_count": 65,
   "metadata": {},
   "outputs": [
    {
     "name": "stdout",
     "output_type": "stream",
     "text": [
      "\n",
      "============================================================\n",
      "RESULTS COMPARISON\n",
      "============================================================\n",
      "Keras LSTM Results:\n",
      "  Accuracy:    0.7150\n",
      "  F1 Macro:    0.7141\n",
      "Custom LSTM Results:\n",
      "  Accuracy:    0.7150\n",
      "  F1 Macro:    0.7141\n",
      "Differences:\n",
      "  Accuracy Difference:  0.0000\n",
      "  F1 Macro Difference:  0.0000\n"
     ]
    }
   ],
   "source": [
    "print(\"\")\n",
    "print(\"=\"*60)\n",
    "print(\"RESULTS COMPARISON\")\n",
    "print(\"=\"*60)\n",
    "\n",
    "print(f\"Keras LSTM Results:\")\n",
    "print(f\"  Accuracy:    {keras_results['accuracy']:.4f}\")\n",
    "print(f\"  F1 Macro:    {keras_results['f1_macro']:.4f}\")\n",
    "\n",
    "print(f\"Custom LSTM Results:\")\n",
    "print(f\"  Accuracy:    {custom_results['accuracy']:.4f}\")\n",
    "print(f\"  F1 Macro:    {custom_results['f1_macro']:.4f}\")\n",
    "\n",
    "acc_diff = abs(keras_results['accuracy'] - custom_results['accuracy'])\n",
    "f1_diff = abs(keras_results['f1_macro'] - custom_results['f1_macro'])\n",
    "\n",
    "print(f\"Differences:\")\n",
    "print(f\"  Accuracy Difference:  {acc_diff:.4f}\")\n",
    "print(f\"  F1 Macro Difference:  {f1_diff:.4f}\")"
   ]
  },
  {
   "cell_type": "code",
   "execution_count": 66,
   "metadata": {},
   "outputs": [
    {
     "data": {
      "image/png": "[encoded data removed]",
      "text/plain": [
       "<Figure size 800x500 with 1 Axes>"
      ]
     },
     "metadata": {},
     "output_type": "display_data"
    }
   ],
   "source": [
    "plt.figure(figsize=(8, 5))\n",
    "plt.bar(['Keras LSTM', 'Custom LSTM'], \n",
    "        [keras_results['f1_macro'], custom_results['f1_macro']], \n",
    "        color=['blue', 'green'])\n",
    "plt.xlabel('Model Comparison')\n",
    "plt.ylabel('F1 Macro')\n",
    "plt.show()"
   ]
  }
 ],
 "metadata": {
  "kernelspec": {
   "display_name": ".env",
   "language": "python",
   "name": "python3"
  },
  "language_info": {
   "name": "python",
   "version": "3.11.12"
  }
 },
 "nbformat": 4,
 "nbformat_minor": 2
}
